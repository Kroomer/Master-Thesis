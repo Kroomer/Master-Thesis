{
  "nbformat": 4,
  "nbformat_minor": 0,
  "metadata": {
    "colab": {
      "name": "Master thesis 1_baseline_downsampling_MLP.ipynb",
      "provenance": [],
      "collapsed_sections": [
        "0ShM3_oWOUwR",
        "aliVACeTwmgh",
        "XA1oZvY3OeVF",
        "ar88ziR6OrlG",
        "xf8Apb5xMK_J",
        "HaBz38EqS57m",
        "n1gQbFdP1kEb",
        "nVIiWWEaN5bA",
        "izAPLGKDLQ2f",
        "ZEmnlZ-kkLY9",
        "PL1-iAs3nea4",
        "140WsYqDDpI1"
      ],
      "authorship_tag": "ABX9TyOJQWVxvpDjRbvcbMgwDS4s",
      "include_colab_link": true
    },
    "kernelspec": {
      "name": "python3",
      "display_name": "Python 3"
    },
    "language_info": {
      "name": "python"
    },
    "accelerator": "GPU"
  },
  "cells": [
    {
      "cell_type": "markdown",
      "metadata": {
        "id": "view-in-github",
        "colab_type": "text"
      },
      "source": [
        "<a href=\"https://colab.research.google.com/github/Kroomer/Master-Thesis/blob/main/Master_thesis_1_baseline_downsampling_MLP.ipynb\" target=\"_parent\"><img src=\"https://colab.research.google.com/assets/colab-badge.svg\" alt=\"Open In Colab\"/></a>"
      ]
    },
    {
      "cell_type": "markdown",
      "metadata": {
        "id": "0ShM3_oWOUwR"
      },
      "source": [
        "# **Connect to drive**  \n"
      ]
    },
    {
      "cell_type": "markdown",
      "metadata": {
        "id": "-3iIfBD9jsVr"
      },
      "source": [
        "Click link and enter authorization code"
      ]
    },
    {
      "cell_type": "code",
      "metadata": {
        "colab": {
          "base_uri": "https://localhost:8080/"
        },
        "id": "Xw1vgosDa4RS",
        "outputId": "23325014-a489-4b5b-fcb9-26db43c7c91e"
      },
      "source": [
        "from google.colab import drive\n",
        "drive.mount('/content/drive/')\n"
      ],
      "execution_count": null,
      "outputs": [
        {
          "output_type": "stream",
          "text": [
            "Mounted at /content/drive/\n"
          ],
          "name": "stdout"
        }
      ]
    },
    {
      "cell_type": "code",
      "metadata": {
        "colab": {
          "base_uri": "https://localhost:8080/"
        },
        "id": "aWTfNdvYO4vd",
        "outputId": "d1745c89-7972-45d6-9a53-80b6c4e2d5c8"
      },
      "source": [
        "!ls \"/content/drive/My Drive/Colab Notebooks/Master thesis\""
      ],
      "execution_count": null,
      "outputs": [
        {
          "output_type": "stream",
          "text": [
            " create_extracted_dataset.R   Lexique-query.csv\n",
            " emotion_dict.csv\t     'Lexique-query final.csv'\n",
            " final_dataset.csv\t     'NN-SVG adapted from LeNail (2019).png'\n",
            " halflife-regression-master  'unique words.txt'\n",
            " learning_traces.13m.csv\n"
          ],
          "name": "stdout"
        }
      ]
    },
    {
      "cell_type": "markdown",
      "metadata": {
        "id": "aliVACeTwmgh"
      },
      "source": [
        "# **Connect to GPU**"
      ]
    },
    {
      "cell_type": "code",
      "metadata": {
        "colab": {
          "base_uri": "https://localhost:8080/"
        },
        "id": "xk3s5tMMwbgA",
        "outputId": "61795c54-fd7a-4369-efd2-437574585be2"
      },
      "source": [
        "%tensorflow_version 2.x\n",
        "import tensorflow as tf\n",
        "device_name = tf.test.gpu_device_name()\n",
        "if device_name != '/device:GPU:0':\n",
        "  raise SystemError('GPU device not found')\n",
        "print('Found GPU at: {}'.format(device_name))\n",
        "!nvidia-smi"
      ],
      "execution_count": null,
      "outputs": [
        {
          "output_type": "stream",
          "text": [
            "Found GPU at: /device:GPU:0\n",
            "Thu Jun 24 11:31:33 2021       \n",
            "+-----------------------------------------------------------------------------+\n",
            "| NVIDIA-SMI 465.27       Driver Version: 460.32.03    CUDA Version: 11.2     |\n",
            "|-------------------------------+----------------------+----------------------+\n",
            "| GPU  Name        Persistence-M| Bus-Id        Disp.A | Volatile Uncorr. ECC |\n",
            "| Fan  Temp  Perf  Pwr:Usage/Cap|         Memory-Usage | GPU-Util  Compute M. |\n",
            "|                               |                      |               MIG M. |\n",
            "|===============================+======================+======================|\n",
            "|   0  Tesla K80           Off  | 00000000:00:04.0 Off |                    0 |\n",
            "| N/A   62C    P0    72W / 149W |    122MiB / 11441MiB |      1%      Default |\n",
            "|                               |                      |                  N/A |\n",
            "+-------------------------------+----------------------+----------------------+\n",
            "                                                                               \n",
            "+-----------------------------------------------------------------------------+\n",
            "| Processes:                                                                  |\n",
            "|  GPU   GI   CI        PID   Type   Process name                  GPU Memory |\n",
            "|        ID   ID                                                   Usage      |\n",
            "|=============================================================================|\n",
            "+-----------------------------------------------------------------------------+\n"
          ],
          "name": "stdout"
        }
      ]
    },
    {
      "cell_type": "markdown",
      "metadata": {
        "id": "XA1oZvY3OeVF"
      },
      "source": [
        "# **Import libraries**"
      ]
    },
    {
      "cell_type": "code",
      "metadata": {
        "id": "80y6p5mXNvkk",
        "colab": {
          "base_uri": "https://localhost:8080/"
        },
        "outputId": "7975547b-712b-4860-84d4-eb7500f8cf40"
      },
      "source": [
        "import tensorflow as tf\n",
        "from tensorflow import keras\n",
        "from keras import backend as K\n",
        "from keras.wrappers.scikit_learn import KerasClassifier\n",
        "\n",
        "import pydot \n",
        "import graphviz\n",
        "from tensorflow.keras.utils import plot_model\n",
        "\n",
        "import matplotlib as mpl\n",
        "import matplotlib.pyplot as plt\n",
        "import numpy as np\n",
        "import pandas as pd\n",
        "import seaborn as sns\n",
        "\n",
        "import sklearn\n",
        "from sklearn.metrics import confusion_matrix\n",
        "from sklearn.metrics import make_scorer\n",
        "from sklearn.metrics import accuracy_score, precision_score, recall_score, f1_score, auc, roc_auc_score, roc_curve, plot_roc_curve, precision_recall_fscore_support, classification_report, precision_recall_curve\n",
        "from sklearn.model_selection import train_test_split\n",
        "from sklearn.model_selection import RepeatedStratifiedKFold\n",
        "from sklearn.model_selection import cross_validate\n",
        "from sklearn.preprocessing import StandardScaler\n",
        "from sklearn.ensemble import RandomForestClassifier\n",
        "\n",
        "import os\n",
        "import tempfile\n",
        "\n",
        "# # Fix for random errors\n",
        "# import six\n",
        "# import sys\n",
        "# sys.modules['sklearn.externals.six'] = six\n",
        "# import sklearn.neighbors._base\n",
        "# sys.modules['sklearn.neighbors.base'] = sklearn.neighbors._base\n",
        "\n",
        "import imblearn\n",
        "from imblearn.pipeline import Pipeline\n",
        "from imblearn.under_sampling import RandomUnderSampler\n",
        "from collections import Counter\n",
        "\n",
        "import statistics\n",
        "from scipy import interp\n",
        "from scipy.stats import truncnorm\n",
        "\n",
        "# fix random seed for reproducibility\n",
        "np.random.seed(14)\n",
        "tf.random.set_seed(14)\n",
        "os.environ['TF_DETERMINISTIC_OPS'] = '1'"
      ],
      "execution_count": null,
      "outputs": [
        {
          "output_type": "stream",
          "text": [
            "/usr/local/lib/python3.7/dist-packages/sklearn/externals/six.py:31: FutureWarning: The module is deprecated in version 0.21 and will be removed in version 0.23 since we've dropped support for Python 2.7. Please rely on the official version of six (https://pypi.org/project/six/).\n",
            "  \"(https://pypi.org/project/six/).\", FutureWarning)\n",
            "/usr/local/lib/python3.7/dist-packages/sklearn/utils/deprecation.py:144: FutureWarning: The sklearn.neighbors.base module is  deprecated in version 0.22 and will be removed in version 0.24. The corresponding classes / functions should instead be imported from sklearn.neighbors. Anything that cannot be imported from sklearn.neighbors is now part of the private API.\n",
            "  warnings.warn(message, FutureWarning)\n"
          ],
          "name": "stderr"
        }
      ]
    },
    {
      "cell_type": "markdown",
      "metadata": {
        "id": "ar88ziR6OrlG"
      },
      "source": [
        "# **Import data**  \n",
        "Final dataset created using \"create_extracted_dataset.R\"\n",
        "\n",
        "Combining data from:\n",
        "1. Duolingo spaced repetition (1.21 GB)\n",
        "> B. Settles and B. Meeder. 2016. A Trainable Spaced Repetition Model for Language Learning.\n",
        "In Proceedings of the Association for Computational Linguistics (ACL), pages 1848-1858.<br/>\n",
        "> https://dataverse.harvard.edu/dataset.xhtml?persistentId=doi:10.7910/DVN/N8XJME\n",
        "2. SUBTLEX-US data \n",
        ">Manually created on http://www.lexique.org/shiny/openlexicon/\n",
        "3. \"Emotion dictionary\", created by Geoff Hollis and Chris Westbury based on Warriner, Kuperman and Brysbaert (*2007*)\n",
        ">Link: http://crr.ugent.be/programs-data,<br/>\n",
        ">Direct link: https://sites.ualberta.ca/~hollis/files/emotion_dict.csv\n",
        "\n"
      ]
    },
    {
      "cell_type": "code",
      "metadata": {
        "colab": {
          "base_uri": "https://localhost:8080/"
        },
        "id": "ltxj8dh7Ovpq",
        "outputId": "d2fe636b-4b4a-4d24-8dfd-acf07ce24c52"
      },
      "source": [
        "final_dataset = pd.read_csv(\"drive/My Drive/Colab Notebooks/Master thesis/final_dataset.csv\", sep=',')\n",
        "final_dataset.head()"
      ],
      "execution_count": null,
      "outputs": [
        {
          "output_type": "execute_result",
          "data": {
            "text/html": [
              "<div>\n",
              "<style scoped>\n",
              "    .dataframe tbody tr th:only-of-type {\n",
              "        vertical-align: middle;\n",
              "    }\n",
              "\n",
              "    .dataframe tbody tr th {\n",
              "        vertical-align: top;\n",
              "    }\n",
              "\n",
              "    .dataframe thead th {\n",
              "        text-align: right;\n",
              "    }\n",
              "</style>\n",
              "<table border=\"1\" class=\"dataframe\">\n",
              "  <thead>\n",
              "    <tr style=\"text-align: right;\">\n",
              "      <th></th>\n",
              "      <th>p_recall</th>\n",
              "      <th>timestamp</th>\n",
              "      <th>delta</th>\n",
              "      <th>history_seen</th>\n",
              "      <th>history_correct</th>\n",
              "      <th>history_incorrect</th>\n",
              "      <th>dummy_noun</th>\n",
              "      <th>dummy_verb</th>\n",
              "      <th>words</th>\n",
              "      <th>FREQcount</th>\n",
              "      <th>CDcount</th>\n",
              "      <th>Valence</th>\n",
              "      <th>Arousal</th>\n",
              "      <th>Concreteness</th>\n",
              "    </tr>\n",
              "  </thead>\n",
              "  <tbody>\n",
              "    <tr>\n",
              "      <th>0</th>\n",
              "      <td>1</td>\n",
              "      <td>1362082519</td>\n",
              "      <td>3888560</td>\n",
              "      <td>5</td>\n",
              "      <td>5</td>\n",
              "      <td>0</td>\n",
              "      <td>0</td>\n",
              "      <td>1</td>\n",
              "      <td>thank</td>\n",
              "      <td>56877</td>\n",
              "      <td>7790</td>\n",
              "      <td>0.751554</td>\n",
              "      <td>0.377968</td>\n",
              "      <td>0.557784</td>\n",
              "    </tr>\n",
              "    <tr>\n",
              "      <th>1</th>\n",
              "      <td>1</td>\n",
              "      <td>1362082532</td>\n",
              "      <td>287</td>\n",
              "      <td>40</td>\n",
              "      <td>37</td>\n",
              "      <td>3</td>\n",
              "      <td>0</td>\n",
              "      <td>0</td>\n",
              "      <td>i</td>\n",
              "      <td>2038529</td>\n",
              "      <td>8372</td>\n",
              "      <td>0.544628</td>\n",
              "      <td>0.371790</td>\n",
              "      <td>0.533944</td>\n",
              "    </tr>\n",
              "    <tr>\n",
              "      <th>2</th>\n",
              "      <td>1</td>\n",
              "      <td>1362082532</td>\n",
              "      <td>287</td>\n",
              "      <td>87</td>\n",
              "      <td>80</td>\n",
              "      <td>7</td>\n",
              "      <td>0</td>\n",
              "      <td>0</td>\n",
              "      <td>the</td>\n",
              "      <td>1501908</td>\n",
              "      <td>8388</td>\n",
              "      <td>0.645179</td>\n",
              "      <td>0.330776</td>\n",
              "      <td>0.461627</td>\n",
              "    </tr>\n",
              "    <tr>\n",
              "      <th>3</th>\n",
              "      <td>1</td>\n",
              "      <td>1362082532</td>\n",
              "      <td>287</td>\n",
              "      <td>79</td>\n",
              "      <td>70</td>\n",
              "      <td>9</td>\n",
              "      <td>1</td>\n",
              "      <td>0</td>\n",
              "      <td>apple</td>\n",
              "      <td>1207</td>\n",
              "      <td>689</td>\n",
              "      <td>0.646746</td>\n",
              "      <td>0.339613</td>\n",
              "      <td>0.974410</td>\n",
              "    </tr>\n",
              "    <tr>\n",
              "      <th>4</th>\n",
              "      <td>1</td>\n",
              "      <td>1362082532</td>\n",
              "      <td>287</td>\n",
              "      <td>64</td>\n",
              "      <td>56</td>\n",
              "      <td>8</td>\n",
              "      <td>1</td>\n",
              "      <td>0</td>\n",
              "      <td>man</td>\n",
              "      <td>94133</td>\n",
              "      <td>8054</td>\n",
              "      <td>0.505728</td>\n",
              "      <td>0.451745</td>\n",
              "      <td>0.916435</td>\n",
              "    </tr>\n",
              "  </tbody>\n",
              "</table>\n",
              "</div>"
            ],
            "text/plain": [
              "   p_recall   timestamp    delta  ...   Valence   Arousal  Concreteness\n",
              "0         1  1362082519  3888560  ...  0.751554  0.377968      0.557784\n",
              "1         1  1362082532      287  ...  0.544628  0.371790      0.533944\n",
              "2         1  1362082532      287  ...  0.645179  0.330776      0.461627\n",
              "3         1  1362082532      287  ...  0.646746  0.339613      0.974410\n",
              "4         1  1362082532      287  ...  0.505728  0.451745      0.916435\n",
              "\n",
              "[5 rows x 14 columns]"
            ]
          },
          "metadata": {
            "tags": []
          },
          "execution_count": 8
        }
      ]
    },
    {
      "cell_type": "code",
      "metadata": {
        "colab": {
          "base_uri": "https://localhost:8080/"
        },
        "id": "eSY76-Fg9Bua",
        "outputId": "830c0e44-99f6-442f-a6a4-4a1c71e40e4a"
      },
      "source": [
        "# Don't want the \"words\" column.\n",
        "final_dataset.pop('words')\n",
        "final_dataset.describe()"
      ],
      "execution_count": null,
      "outputs": [
        {
          "output_type": "execute_result",
          "data": {
            "text/html": [
              "<div>\n",
              "<style scoped>\n",
              "    .dataframe tbody tr th:only-of-type {\n",
              "        vertical-align: middle;\n",
              "    }\n",
              "\n",
              "    .dataframe tbody tr th {\n",
              "        vertical-align: top;\n",
              "    }\n",
              "\n",
              "    .dataframe thead th {\n",
              "        text-align: right;\n",
              "    }\n",
              "</style>\n",
              "<table border=\"1\" class=\"dataframe\">\n",
              "  <thead>\n",
              "    <tr style=\"text-align: right;\">\n",
              "      <th></th>\n",
              "      <th>p_recall</th>\n",
              "      <th>timestamp</th>\n",
              "      <th>delta</th>\n",
              "      <th>history_seen</th>\n",
              "      <th>history_correct</th>\n",
              "      <th>history_incorrect</th>\n",
              "      <th>dummy_noun</th>\n",
              "      <th>dummy_verb</th>\n",
              "      <th>FREQcount</th>\n",
              "      <th>CDcount</th>\n",
              "      <th>Valence</th>\n",
              "      <th>Arousal</th>\n",
              "      <th>Concreteness</th>\n",
              "    </tr>\n",
              "  </thead>\n",
              "  <tbody>\n",
              "    <tr>\n",
              "      <th>count</th>\n",
              "      <td>3.628934e+06</td>\n",
              "      <td>3.628934e+06</td>\n",
              "      <td>3.628934e+06</td>\n",
              "      <td>3.628934e+06</td>\n",
              "      <td>3.628934e+06</td>\n",
              "      <td>3.628934e+06</td>\n",
              "      <td>3.628934e+06</td>\n",
              "      <td>3.628934e+06</td>\n",
              "      <td>3.628934e+06</td>\n",
              "      <td>3.628934e+06</td>\n",
              "      <td>3.628934e+06</td>\n",
              "      <td>3.628934e+06</td>\n",
              "      <td>3.628934e+06</td>\n",
              "    </tr>\n",
              "    <tr>\n",
              "      <th>mean</th>\n",
              "      <td>8.361450e-01</td>\n",
              "      <td>1.362589e+09</td>\n",
              "      <td>6.862933e+05</td>\n",
              "      <td>3.972093e+01</td>\n",
              "      <td>3.424126e+01</td>\n",
              "      <td>5.479667e+00</td>\n",
              "      <td>4.666492e-01</td>\n",
              "      <td>2.197202e-01</td>\n",
              "      <td>1.600285e+05</td>\n",
              "      <td>4.338620e+03</td>\n",
              "      <td>6.057379e-01</td>\n",
              "      <td>3.775665e-01</td>\n",
              "      <td>6.499140e-01</td>\n",
              "    </tr>\n",
              "    <tr>\n",
              "      <th>std</th>\n",
              "      <td>3.701440e-01</td>\n",
              "      <td>2.942436e+05</td>\n",
              "      <td>2.084959e+06</td>\n",
              "      <td>2.311720e+02</td>\n",
              "      <td>1.985168e+02</td>\n",
              "      <td>4.987316e+01</td>\n",
              "      <td>4.988866e-01</td>\n",
              "      <td>4.140571e-01</td>\n",
              "      <td>3.646153e+05</td>\n",
              "      <td>3.257039e+03</td>\n",
              "      <td>6.758736e-02</td>\n",
              "      <td>4.693279e-02</td>\n",
              "      <td>2.153472e-01</td>\n",
              "    </tr>\n",
              "    <tr>\n",
              "      <th>min</th>\n",
              "      <td>0.000000e+00</td>\n",
              "      <td>1.362083e+09</td>\n",
              "      <td>1.000000e+00</td>\n",
              "      <td>1.000000e+00</td>\n",
              "      <td>1.000000e+00</td>\n",
              "      <td>0.000000e+00</td>\n",
              "      <td>0.000000e+00</td>\n",
              "      <td>0.000000e+00</td>\n",
              "      <td>1.900000e+01</td>\n",
              "      <td>1.400000e+01</td>\n",
              "      <td>1.331056e-01</td>\n",
              "      <td>1.841600e-01</td>\n",
              "      <td>9.250205e-02</td>\n",
              "    </tr>\n",
              "    <tr>\n",
              "      <th>25%</th>\n",
              "      <td>1.000000e+00</td>\n",
              "      <td>1.362346e+09</td>\n",
              "      <td>4.690000e+02</td>\n",
              "      <td>4.000000e+00</td>\n",
              "      <td>3.000000e+00</td>\n",
              "      <td>0.000000e+00</td>\n",
              "      <td>0.000000e+00</td>\n",
              "      <td>0.000000e+00</td>\n",
              "      <td>1.724000e+03</td>\n",
              "      <td>1.022000e+03</td>\n",
              "      <td>5.621335e-01</td>\n",
              "      <td>3.460062e-01</td>\n",
              "      <td>4.692620e-01</td>\n",
              "    </tr>\n",
              "    <tr>\n",
              "      <th>50%</th>\n",
              "      <td>1.000000e+00</td>\n",
              "      <td>1.362595e+09</td>\n",
              "      <td>4.183800e+04</td>\n",
              "      <td>8.000000e+00</td>\n",
              "      <td>7.000000e+00</td>\n",
              "      <td>1.000000e+00</td>\n",
              "      <td>0.000000e+00</td>\n",
              "      <td>0.000000e+00</td>\n",
              "      <td>1.033600e+04</td>\n",
              "      <td>3.827000e+03</td>\n",
              "      <td>6.057379e-01</td>\n",
              "      <td>3.760237e-01</td>\n",
              "      <td>6.539603e-01</td>\n",
              "    </tr>\n",
              "    <tr>\n",
              "      <th>75%</th>\n",
              "      <td>1.000000e+00</td>\n",
              "      <td>1.362845e+09</td>\n",
              "      <td>3.846388e+05</td>\n",
              "      <td>2.000000e+01</td>\n",
              "      <td>1.800000e+01</td>\n",
              "      <td>2.000000e+00</td>\n",
              "      <td>1.000000e+00</td>\n",
              "      <td>0.000000e+00</td>\n",
              "      <td>1.083640e+05</td>\n",
              "      <td>8.254000e+03</td>\n",
              "      <td>6.467458e-01</td>\n",
              "      <td>4.038101e-01</td>\n",
              "      <td>8.294996e-01</td>\n",
              "    </tr>\n",
              "    <tr>\n",
              "      <th>max</th>\n",
              "      <td>1.000000e+00</td>\n",
              "      <td>1.363105e+09</td>\n",
              "      <td>3.724681e+07</td>\n",
              "      <td>1.351800e+04</td>\n",
              "      <td>1.288800e+04</td>\n",
              "      <td>2.457000e+03</td>\n",
              "      <td>1.000000e+00</td>\n",
              "      <td>1.000000e+00</td>\n",
              "      <td>2.134713e+06</td>\n",
              "      <td>8.388000e+03</td>\n",
              "      <td>8.936641e-01</td>\n",
              "      <td>6.609906e-01</td>\n",
              "      <td>1.074385e+00</td>\n",
              "    </tr>\n",
              "  </tbody>\n",
              "</table>\n",
              "</div>"
            ],
            "text/plain": [
              "           p_recall     timestamp  ...       Arousal  Concreteness\n",
              "count  3.628934e+06  3.628934e+06  ...  3.628934e+06  3.628934e+06\n",
              "mean   8.361450e-01  1.362589e+09  ...  3.775665e-01  6.499140e-01\n",
              "std    3.701440e-01  2.942436e+05  ...  4.693279e-02  2.153472e-01\n",
              "min    0.000000e+00  1.362083e+09  ...  1.841600e-01  9.250205e-02\n",
              "25%    1.000000e+00  1.362346e+09  ...  3.460062e-01  4.692620e-01\n",
              "50%    1.000000e+00  1.362595e+09  ...  3.760237e-01  6.539603e-01\n",
              "75%    1.000000e+00  1.362845e+09  ...  4.038101e-01  8.294996e-01\n",
              "max    1.000000e+00  1.363105e+09  ...  6.609906e-01  1.074385e+00\n",
              "\n",
              "[8 rows x 13 columns]"
            ]
          },
          "metadata": {
            "tags": []
          },
          "execution_count": 9
        }
      ]
    },
    {
      "cell_type": "markdown",
      "metadata": {
        "id": "xf8Apb5xMK_J"
      },
      "source": [
        "# **Clean data**"
      ]
    },
    {
      "cell_type": "code",
      "metadata": {
        "colab": {
          "base_uri": "https://localhost:8080/",
          "height": 334
        },
        "id": "em_IZwZ6WXoT",
        "outputId": "cf95b224-f880-48dd-949f-9edd6ffeb8ef"
      },
      "source": [
        "cleaned_df = final_dataset.copy()\n",
        "\n",
        "# Columns covering a huge range. Convert to log-space.\n",
        "cleaned_df['log timestamp'] = np.log(cleaned_df.pop('timestamp'))\n",
        "cleaned_df['log delta'] = np.log(cleaned_df.pop('delta'))\n",
        "cleaned_df['log history_seen'] = np.log(cleaned_df.pop('history_seen'))\n",
        "cleaned_df['log history_correct'] = np.log(cleaned_df.pop('history_correct'))\n",
        "cleaned_df['log FREQcount'] = np.log(cleaned_df.pop('FREQcount'))\n",
        "cleaned_df['log CDcount'] = np.log(cleaned_df.pop('CDcount'))\n",
        "cleaned_df['log Valence'] = np.log(cleaned_df.pop('Valence'))\n",
        "cleaned_df['log Arousal'] = np.log(cleaned_df.pop('Arousal'))\n",
        "cleaned_df['log Concreteness'] = np.log(cleaned_df.pop('Concreteness'))\n",
        "cleaned_df.describe()"
      ],
      "execution_count": null,
      "outputs": [
        {
          "output_type": "execute_result",
          "data": {
            "text/html": [
              "<div>\n",
              "<style scoped>\n",
              "    .dataframe tbody tr th:only-of-type {\n",
              "        vertical-align: middle;\n",
              "    }\n",
              "\n",
              "    .dataframe tbody tr th {\n",
              "        vertical-align: top;\n",
              "    }\n",
              "\n",
              "    .dataframe thead th {\n",
              "        text-align: right;\n",
              "    }\n",
              "</style>\n",
              "<table border=\"1\" class=\"dataframe\">\n",
              "  <thead>\n",
              "    <tr style=\"text-align: right;\">\n",
              "      <th></th>\n",
              "      <th>p_recall</th>\n",
              "      <th>history_incorrect</th>\n",
              "      <th>dummy_noun</th>\n",
              "      <th>dummy_verb</th>\n",
              "      <th>log timestamp</th>\n",
              "      <th>log delta</th>\n",
              "      <th>log history_seen</th>\n",
              "      <th>log history_correct</th>\n",
              "      <th>log FREQcount</th>\n",
              "      <th>log CDcount</th>\n",
              "      <th>log Valence</th>\n",
              "      <th>log Arousal</th>\n",
              "      <th>log Concreteness</th>\n",
              "    </tr>\n",
              "  </thead>\n",
              "  <tbody>\n",
              "    <tr>\n",
              "      <th>count</th>\n",
              "      <td>3.628934e+06</td>\n",
              "      <td>3.628934e+06</td>\n",
              "      <td>3.628934e+06</td>\n",
              "      <td>3.628934e+06</td>\n",
              "      <td>3.628934e+06</td>\n",
              "      <td>3.628934e+06</td>\n",
              "      <td>3.628934e+06</td>\n",
              "      <td>3.628934e+06</td>\n",
              "      <td>3.628934e+06</td>\n",
              "      <td>3.628934e+06</td>\n",
              "      <td>3.628934e+06</td>\n",
              "      <td>3.628934e+06</td>\n",
              "      <td>3.628934e+06</td>\n",
              "    </tr>\n",
              "    <tr>\n",
              "      <th>mean</th>\n",
              "      <td>8.361450e-01</td>\n",
              "      <td>5.479667e+00</td>\n",
              "      <td>4.666492e-01</td>\n",
              "      <td>2.197202e-01</td>\n",
              "      <td>2.103265e+01</td>\n",
              "      <td>9.752850e+00</td>\n",
              "      <td>2.275656e+00</td>\n",
              "      <td>2.160277e+00</td>\n",
              "      <td>9.518371e+00</td>\n",
              "      <td>7.862031e+00</td>\n",
              "      <td>-5.078608e-01</td>\n",
              "      <td>-9.817592e-01</td>\n",
              "      <td>-4.956570e-01</td>\n",
              "    </tr>\n",
              "    <tr>\n",
              "      <th>std</th>\n",
              "      <td>3.701440e-01</td>\n",
              "      <td>4.987316e+01</td>\n",
              "      <td>4.988866e-01</td>\n",
              "      <td>4.140571e-01</td>\n",
              "      <td>2.159446e-04</td>\n",
              "      <td>3.559627e+00</td>\n",
              "      <td>1.315525e+00</td>\n",
              "      <td>1.317163e+00</td>\n",
              "      <td>2.492906e+00</td>\n",
              "      <td>1.213273e+00</td>\n",
              "      <td>1.166200e-01</td>\n",
              "      <td>1.248932e-01</td>\n",
              "      <td>3.782716e-01</td>\n",
              "    </tr>\n",
              "    <tr>\n",
              "      <th>min</th>\n",
              "      <td>0.000000e+00</td>\n",
              "      <td>0.000000e+00</td>\n",
              "      <td>0.000000e+00</td>\n",
              "      <td>0.000000e+00</td>\n",
              "      <td>2.103228e+01</td>\n",
              "      <td>0.000000e+00</td>\n",
              "      <td>0.000000e+00</td>\n",
              "      <td>0.000000e+00</td>\n",
              "      <td>2.944439e+00</td>\n",
              "      <td>2.639057e+00</td>\n",
              "      <td>-2.016613e+00</td>\n",
              "      <td>-1.691950e+00</td>\n",
              "      <td>-2.380524e+00</td>\n",
              "    </tr>\n",
              "    <tr>\n",
              "      <th>25%</th>\n",
              "      <td>1.000000e+00</td>\n",
              "      <td>0.000000e+00</td>\n",
              "      <td>0.000000e+00</td>\n",
              "      <td>0.000000e+00</td>\n",
              "      <td>2.103247e+01</td>\n",
              "      <td>6.150603e+00</td>\n",
              "      <td>1.386294e+00</td>\n",
              "      <td>1.098612e+00</td>\n",
              "      <td>7.452402e+00</td>\n",
              "      <td>6.929517e+00</td>\n",
              "      <td>-5.760160e-01</td>\n",
              "      <td>-1.061299e+00</td>\n",
              "      <td>-7.565941e-01</td>\n",
              "    </tr>\n",
              "    <tr>\n",
              "      <th>50%</th>\n",
              "      <td>1.000000e+00</td>\n",
              "      <td>1.000000e+00</td>\n",
              "      <td>0.000000e+00</td>\n",
              "      <td>0.000000e+00</td>\n",
              "      <td>2.103266e+01</td>\n",
              "      <td>1.064156e+01</td>\n",
              "      <td>2.079442e+00</td>\n",
              "      <td>1.945910e+00</td>\n",
              "      <td>9.243388e+00</td>\n",
              "      <td>8.249836e+00</td>\n",
              "      <td>-5.013079e-01</td>\n",
              "      <td>-9.781031e-01</td>\n",
              "      <td>-4.247086e-01</td>\n",
              "    </tr>\n",
              "    <tr>\n",
              "      <th>75%</th>\n",
              "      <td>1.000000e+00</td>\n",
              "      <td>2.000000e+00</td>\n",
              "      <td>1.000000e+00</td>\n",
              "      <td>0.000000e+00</td>\n",
              "      <td>2.103284e+01</td>\n",
              "      <td>1.286006e+01</td>\n",
              "      <td>2.995732e+00</td>\n",
              "      <td>2.890372e+00</td>\n",
              "      <td>1.159325e+01</td>\n",
              "      <td>9.018453e+00</td>\n",
              "      <td>-4.358019e-01</td>\n",
              "      <td>-9.068106e-01</td>\n",
              "      <td>-1.869326e-01</td>\n",
              "    </tr>\n",
              "    <tr>\n",
              "      <th>max</th>\n",
              "      <td>1.000000e+00</td>\n",
              "      <td>2.457000e+03</td>\n",
              "      <td>1.000000e+00</td>\n",
              "      <td>1.000000e+00</td>\n",
              "      <td>2.103303e+01</td>\n",
              "      <td>1.743308e+01</td>\n",
              "      <td>9.511777e+00</td>\n",
              "      <td>9.464052e+00</td>\n",
              "      <td>1.457384e+01</td>\n",
              "      <td>9.034557e+00</td>\n",
              "      <td>-1.124253e-01</td>\n",
              "      <td>-4.140156e-01</td>\n",
              "      <td>7.174847e-02</td>\n",
              "    </tr>\n",
              "  </tbody>\n",
              "</table>\n",
              "</div>"
            ],
            "text/plain": [
              "           p_recall  history_incorrect  ...   log Arousal  log Concreteness\n",
              "count  3.628934e+06       3.628934e+06  ...  3.628934e+06      3.628934e+06\n",
              "mean   8.361450e-01       5.479667e+00  ... -9.817592e-01     -4.956570e-01\n",
              "std    3.701440e-01       4.987316e+01  ...  1.248932e-01      3.782716e-01\n",
              "min    0.000000e+00       0.000000e+00  ... -1.691950e+00     -2.380524e+00\n",
              "25%    1.000000e+00       0.000000e+00  ... -1.061299e+00     -7.565941e-01\n",
              "50%    1.000000e+00       1.000000e+00  ... -9.781031e-01     -4.247086e-01\n",
              "75%    1.000000e+00       2.000000e+00  ... -9.068106e-01     -1.869326e-01\n",
              "max    1.000000e+00       2.457000e+03  ... -4.140156e-01      7.174847e-02\n",
              "\n",
              "[8 rows x 13 columns]"
            ]
          },
          "metadata": {
            "tags": []
          },
          "execution_count": 10
        }
      ]
    },
    {
      "cell_type": "markdown",
      "metadata": {
        "id": "JHZt2yHfOxfh"
      },
      "source": [
        "**Imbalanced data**  \n",
        "On target variable \"p_recall\""
      ]
    },
    {
      "cell_type": "code",
      "metadata": {
        "colab": {
          "base_uri": "https://localhost:8080/",
          "height": 376
        },
        "id": "SXoiXKd7OvlU",
        "outputId": "e6761aa3-6bc3-4d46-c2a5-5df2105a1dd7"
      },
      "source": [
        "# Describe target\n",
        "neg_clean, pos_clean = np.bincount(cleaned_df['p_recall'])\n",
        "total_clean = neg_clean + pos_clean\n",
        "print('Examples:\\n\\tTotal:\\t\\t{}\\n\\tNegative:\\t{}\\t({:.2f}% of total)\\n\\tPositive:\\t{}\\t({:.2f}% of total)\\n'.format(\n",
        "    total_clean, neg_clean, 100 * neg_clean / total_clean, pos_clean, 100 * pos_clean / total_clean))\n",
        "# visualize target\n",
        "g = sns.countplot(x='p_recall',data=cleaned_df)\n",
        "g.set_xticklabels(['Unsuccessful session','Successful session'])\n",
        "plt.savefig('/content/drive/My Drive/Colab Notebooks/Results/Imbalanced_data_plot.png')\n",
        "plt.show()"
      ],
      "execution_count": null,
      "outputs": [
        {
          "output_type": "stream",
          "text": [
            "Examples:\n",
            "\tTotal:\t\t3628934\n",
            "\tNegative:\t594619\t(16.39% of total)\n",
            "\tPositive:\t3034315\t(83.61% of total)\n",
            "\n"
          ],
          "name": "stdout"
        },
        {
          "output_type": "display_data",
          "data": {
            "image/png": "[encoded data removed]",
            "text/plain": [
              "<Figure size 432x288 with 1 Axes>"
            ]
          },
          "metadata": {
            "tags": [],
            "needs_background": "light"
          }
        }
      ]
    },
    {
      "cell_type": "markdown",
      "metadata": {
        "id": "HaBz38EqS57m"
      },
      "source": [
        "# **Create features and labels**"
      ]
    },
    {
      "cell_type": "code",
      "metadata": {
        "id": "AkYF4bebS5q9"
      },
      "source": [
        "# Create labels train and test\n",
        "# .pop already deletes p_recall from data\n",
        "df = cleaned_df.copy()\n",
        "\n",
        "y = np.array(df.pop('p_recall'))\n",
        "x = np.array(df.copy())"
      ],
      "execution_count": null,
      "outputs": []
    },
    {
      "cell_type": "markdown",
      "metadata": {
        "id": "n1gQbFdP1kEb"
      },
      "source": [
        "# **Baseline Random Forest**  \n",
        "3 repeated stratified 5 fold"
      ]
    },
    {
      "cell_type": "code",
      "metadata": {
        "id": "Aw4U3M3FUDAu"
      },
      "source": [
        "import warnings\n",
        "warnings.filterwarnings('ignore', category=FutureWarning)\n",
        "\n",
        "# Runtime complete 3 repeated 5 fold in seconds:\n",
        "# 1400 sec\n",
        "\n",
        "# RandomForestClassifier\n",
        "# Instantiate model with 16 decision trees baseline combined model from Coerver (2020)\n",
        "rf = RandomForestClassifier(\n",
        "    n_estimators= 16, max_depth= 16, criterion= 'gini', min_samples_split=64, \n",
        "    min_samples_leaf=32, max_features=8)\n",
        "\n",
        "# Define pipeline\n",
        "# Sample -> scale -> model\n",
        "steps = [('under', RandomUnderSampler(random_state=14, replacement=True)), ('scaler', StandardScaler()), ('model', rf)]\n",
        "pipeline = Pipeline(steps=steps)\n",
        "\n",
        "scoring = {\n",
        "           'accuracy': make_scorer(accuracy_score),\n",
        "           'f1': make_scorer(f1_score),\n",
        "           'specificity' : make_scorer(recall_score, pos_label=0), # Recall on 0 class = specificity\n",
        "           'ROC_AUC' : make_scorer(roc_auc_score)\n",
        "           } \n",
        "\n",
        "# k-fold: 5, repeat: 3, random_state to reproduce because comp and time restriction (multiple models)\n",
        "cv = RepeatedStratifiedKFold(n_splits=5, n_repeats=3, random_state=14)\n",
        "scores = cross_validate(pipeline, x, y, scoring=scoring, cv=cv)"
      ],
      "execution_count": null,
      "outputs": []
    },
    {
      "cell_type": "code",
      "metadata": {
        "colab": {
          "base_uri": "https://localhost:8080/"
        },
        "id": "WnTYaNdBEY2B",
        "outputId": "80ac97e9-bf41-4933-835c-0e90c35a222d"
      },
      "source": [
        "accuracy_RFC = scores['test_accuracy']\n",
        "score = statistics.mean(accuracy_RFC)\n",
        "min = np.min(accuracy_RFC)\n",
        "max = np.max(accuracy_RFC)\n",
        "median = statistics.median(accuracy_RFC)\n",
        "std = statistics.stdev(accuracy_RFC)\n",
        "print('Mean accuracy:\\t', score, '\\nMedian:\\t\\t', median, '\\nMin:\\t\\t', min, '\\nMax:\\t\\t', max, '\\nStd.:\\t\\t', std)\n",
        "\n",
        "F1_RFC = scores['test_f1']\n",
        "specificity_RFC = scores['test_specificity']\n",
        "ROC_AUC_RFC = scores['test_ROC_AUC']\n",
        "print('\\nF1:\\t\\t', statistics.mean(F1_RFC), '\\nSpecificity:\\t', statistics.mean(specificity_RFC), '\\nROC AUC:\\t', statistics.mean(ROC_AUC_RFC))"
      ],
      "execution_count": null,
      "outputs": [
        {
          "output_type": "stream",
          "text": [
            "Mean accuracy:\t 0.6098786404557921 \n",
            "Median:\t\t 0.6097877200886761 \n",
            "Min:\t\t 0.6067151933005138 \n",
            "Max:\t\t 0.6126453077831375 \n",
            "Std.:\t\t 0.001669922530101229\n",
            "\n",
            "F1:\t\t 0.7229591991077527 \n",
            "Specificity:\t 0.6154669354740722 \n",
            "ROC AUC:\t 0.6121252332590732\n"
          ],
          "name": "stdout"
        }
      ]
    },
    {
      "cell_type": "markdown",
      "metadata": {
        "id": "nVIiWWEaN5bA"
      },
      "source": [
        "# **MLP Plots**  \n",
        "Visualisation of neural network"
      ]
    },
    {
      "cell_type": "code",
      "metadata": {
        "colab": {
          "base_uri": "https://localhost:8080/"
        },
        "id": "iJ1tvdmJORNt",
        "outputId": "b8164654-e799-47d3-eca8-8836ed1855c3"
      },
      "source": [
        "# Reset keras session\n",
        "K.clear_session()\n",
        "\n",
        "def make_model():\n",
        "  model = keras.Sequential([\n",
        "      # bias = false because batchnorm\n",
        "      keras.layers.Dense(64, activation='relu', input_shape=(12,), use_bias=False),\n",
        "      keras.layers.BatchNormalization(),\n",
        "      keras.layers.Dropout(0.1),\n",
        "      keras.layers.Dense(64, activation='relu', use_bias=False),\n",
        "      keras.layers.BatchNormalization(),\n",
        "      keras.layers.Dropout(0.1),\n",
        "      keras.layers.Dense(64, activation='relu', use_bias=False),\n",
        "      keras.layers.BatchNormalization(),\n",
        "      keras.layers.Dropout(0.1),\n",
        "      keras.layers.Dense(1, activation='sigmoid'),\n",
        "  ])\n",
        "  model.compile(\n",
        "      optimizer=keras.optimizers.Adam(learning_rate=.001),\n",
        "      loss=keras.losses.BinaryCrossentropy(),\n",
        "      )\n",
        "\n",
        "  return model\n",
        "\n",
        "model = make_model()\n",
        "model.summary()"
      ],
      "execution_count": null,
      "outputs": [
        {
          "output_type": "stream",
          "text": [
            "Model: \"sequential\"\n",
            "_________________________________________________________________\n",
            "Layer (type)                 Output Shape              Param #   \n",
            "=================================================================\n",
            "dense (Dense)                (None, 64)                768       \n",
            "_________________________________________________________________\n",
            "batch_normalization (BatchNo (None, 64)                256       \n",
            "_________________________________________________________________\n",
            "dropout (Dropout)            (None, 64)                0         \n",
            "_________________________________________________________________\n",
            "dense_1 (Dense)              (None, 64)                4096      \n",
            "_________________________________________________________________\n",
            "batch_normalization_1 (Batch (None, 64)                256       \n",
            "_________________________________________________________________\n",
            "dropout_1 (Dropout)          (None, 64)                0         \n",
            "_________________________________________________________________\n",
            "dense_2 (Dense)              (None, 64)                4096      \n",
            "_________________________________________________________________\n",
            "batch_normalization_2 (Batch (None, 64)                256       \n",
            "_________________________________________________________________\n",
            "dropout_2 (Dropout)          (None, 64)                0         \n",
            "_________________________________________________________________\n",
            "dense_3 (Dense)              (None, 1)                 65        \n",
            "=================================================================\n",
            "Total params: 9,793\n",
            "Trainable params: 9,409\n",
            "Non-trainable params: 384\n",
            "_________________________________________________________________\n"
          ],
          "name": "stdout"
        }
      ]
    },
    {
      "cell_type": "code",
      "metadata": {
        "colab": {
          "base_uri": "https://localhost:8080/",
          "height": 1000
        },
        "id": "jPbnBP_mlvIq",
        "outputId": "679d5ffe-9c59-453e-8c73-3d8796461aa1"
      },
      "source": [
        "# Nice visualisation\n",
        "plot_model(model, to_file='/content/drive/My Drive/Colab Notebooks/Results/MLP_plot.png', show_shapes=True, show_layer_names=True)"
      ],
      "execution_count": null,
      "outputs": [
        {
          "output_type": "execute_result",
          "data": {
            "image/png": "[encoded data removed]",
            "text/plain": [
              "<IPython.core.display.Image object>"
            ]
          },
          "metadata": {
            "tags": []
          },
          "execution_count": 17
        }
      ]
    },
    {
      "cell_type": "markdown",
      "metadata": {
        "id": "izAPLGKDLQ2f"
      },
      "source": [
        "# **MLP Model**  \n",
        "3 repeated stratified 5 fold  \n",
        "Sampler and scaler + reshaping data done manually"
      ]
    },
    {
      "cell_type": "markdown",
      "metadata": {
        "id": "nLG8Wk4ySwE0"
      },
      "source": [
        "Confusion matrix printing in output (to check F1 and specificity)\n"
      ]
    },
    {
      "cell_type": "code",
      "metadata": {
        "id": "0eg9AC2CP211"
      },
      "source": [
        "def plot_cm(labels, predictions, p=0.5):\n",
        "  cm = confusion_matrix(labels, predictions > p)\n",
        "  print('\\np_recall 0 correctly predicted (True Negatives):\\t', cm[0][0])\n",
        "  print('p_recall 1 incorrectly predicted (False Positives):\\t', cm[0][1])\n",
        "  print('p_recall 0 incorrectly predicted (False Negatives):\\t', cm[1][0])\n",
        "  print('p_recall 1 correctly predicted (True Positives):\\t', cm[1][1])\n",
        "  print('Total incorrectly predicted p_recall:\\t\\t\\t', cm[1][0]+cm[0][1])"
      ],
      "execution_count": null,
      "outputs": []
    },
    {
      "cell_type": "code",
      "metadata": {
        "id": "ZSimp_1bGIIa"
      },
      "source": [
        "# Reset keras session\n",
        "K.clear_session()\n",
        "\n",
        "# fix random seed for reproducibility\n",
        "np.random.seed(14)\n",
        "tf.random.set_seed(14)\n",
        "\n",
        "rus = RandomUnderSampler(random_state=14, replacement=True)\n",
        "scaler = StandardScaler()\n",
        "a = 0\n",
        "b = 0\n",
        "\n",
        "METRICS = [\n",
        "          keras.metrics.TruePositives(name='tp'),\n",
        "          keras.metrics.FalsePositives(name='fp'),\n",
        "          keras.metrics.TrueNegatives(name='tn'),\n",
        "          keras.metrics.FalseNegatives(name='fn'),\n",
        "          keras.metrics.BinaryAccuracy(name='accuracy'),\n",
        "          keras.metrics.AUC(name='ROC_AUC'),\n",
        "          keras.metrics.AUC(name='prc', curve='PR'), # precision-recall curve as a little extra\n",
        "    ]\n",
        "\n",
        "# Max 100 epochs\n",
        "# Highest batchsize possible (high number of lines)\n",
        "EPOCHS = 100\n",
        "BATCH_SIZE = 16384\n",
        "\n",
        "# Use early stopping, min validation loss, patience: 10 epoch\n",
        "early_stopping = tf.keras.callbacks.EarlyStopping(\n",
        "    monitor='val_loss', \n",
        "    verbose=1,\n",
        "    patience=20,\n",
        "    mode='min',\n",
        "    restore_best_weights=True)\n",
        "\n",
        "# k-fold: 5, repeat: 3, random_state to reproduce because comp and time restriction (multiple models)\n",
        "cv = RepeatedStratifiedKFold(n_splits=5, n_repeats=3, random_state=14)"
      ],
      "execution_count": null,
      "outputs": []
    },
    {
      "cell_type": "code",
      "metadata": {
        "colab": {
          "base_uri": "https://localhost:8080/",
          "height": 1000
        },
        "id": "K27K2L4asuIb",
        "outputId": "de4a9152-8628-48b3-ba2f-f49ed9b05ab0"
      },
      "source": [
        "# Runtime complete 3 repeated 5 fold in seconds:\n",
        "# 1860 sec\n",
        "\n",
        "# Manual loop to reshape k fold train data for GRU prediction model\n",
        "plt.rcParams[\"figure.figsize\"] = (12,12)\n",
        "\n",
        "accuracy_MLP = []\n",
        "specificity_MLP = []\n",
        "ROC_AUC_MLP = []\n",
        "F1_MLP = []\n",
        "\n",
        "# ROC AUC plot\n",
        "tprs = []\n",
        "aucs = []\n",
        "mean_fpr = np.linspace(0, 1, 100)\n",
        "fig, ax = plt.subplots()\n",
        "\n",
        "# Loop through the indices the split() method returns\n",
        "for index, (train_index, test_index) in enumerate(cv.split(x, y)):\n",
        "    index = index+1\n",
        "    \n",
        "    # Reset keras session\n",
        "    K.clear_session()\n",
        "\n",
        "    #print(\"TRAIN:\", train_index, \"TEST:\", test_index)\n",
        "    x_train, x_test = x[train_index], x[test_index]\n",
        "    y_train, y_test = y[train_index], y[test_index]\n",
        "\n",
        "    # Split temp train to train and val set \n",
        "    # Train = 0.6\n",
        "    # Val   = 0.2\n",
        "    # Test  = 0.2\n",
        "    train_features, val_features, train_labels, val_labels = train_test_split(\n",
        "        x_train, y_train, test_size=0.25,random_state=14, stratify = y_train)\n",
        "\n",
        "    # Sampling method\n",
        "    # Random undersampling, random_state for reproduction, bootstrap replacement TRUE, forms Numphy arrays\n",
        "    train_features_rus1, train_labels_rus = rus.fit_resample(X = train_features, y = train_labels)\n",
        "\n",
        "    # Check Sampling method\n",
        "    while a < 1:\n",
        "      # Print initial split 80% train (train + val), 20% test\n",
        "      print('Train feats (train + val) dataset:', x_train.shape, '\\tTest feats:', x_test.shape)\n",
        "      print('Train labels (train + val) dataset:', y_train.shape, '\\t\\tTest labels:', y_test.shape)\n",
        "      \n",
        "      print('\\nTrain feats sampled dataset:', train_features_rus1.shape, '\\tVal feats:', val_features.shape, '\\tTest feats:', x_test.shape)\n",
        "      print('Train labels sampled dataset:',  train_labels_rus.shape, '\\tVal labels:', val_labels.shape, '\\t\\tTest labels:', y_test.shape)\n",
        "      # Check stratify\n",
        "      neg, pos = np.bincount(train_labels_rus)\n",
        "      total = neg + pos\n",
        "      print('\\nTrain set:\\n    Total:\\t{}\\n    Negative:\\t{}\\t({:.2f}%)\\n    Positive:\\t{}\\t({:.2f}%)'.format(\n",
        "          total, neg, 100 * neg / total, pos, 100 * pos / total))\n",
        "      neg, pos = np.bincount(val_labels)\n",
        "      total = neg + pos\n",
        "      print('\\nVal set:\\n    Total:\\t{}\\n    Negative:\\t{}\\t({:.2f}%)\\n    Positive:\\t{}\\t({:.2f}%)'.format(\n",
        "          total, neg, 100 * neg / total, pos, 100 * pos / total))\n",
        "      neg, pos = np.bincount(y_test)\n",
        "      total = neg + pos\n",
        "      print('\\nTest set:\\n    Total:\\t{}\\n    Negative:\\t{}\\t({:.2f}%)\\n    Positive:\\t{}\\t({:.2f}%)\\n'.format(\n",
        "          total, neg, 100 * neg / total, pos, 100 * pos / total))\n",
        "      a = a + 1\n",
        "\n",
        "    # Normalize using standardscaler\n",
        "    # Norm to mean 0, standard deviation 1\n",
        "    # Fit scaler on train data, and use it on val and test to simulate real world scenario and avoid data leakage\n",
        "    train_features_rus = scaler.fit_transform(train_features_rus1)\n",
        "    val_features_scaled = scaler.transform(val_features)\n",
        "    test_features_scaled = scaler.transform(x_test)\n",
        "\n",
        "    # Clear model, and create it\n",
        "    model = None\n",
        "\n",
        "    # Dunno if this works but as a proper programmer would say: best leave it... \n",
        "    os.environ['TF_DETERMINISTIC_OPS'] = '1'\n",
        "\n",
        "    # Create the model can be outside loop but can't be bothered \n",
        "    def make_model(metrics=METRICS):\n",
        "      model = keras.Sequential([\n",
        "          # bias = false because batchnorm\n",
        "          keras.layers.Dense(64, activation='relu', input_shape=(train_features_rus.shape[-1],), use_bias=False),\n",
        "          keras.layers.BatchNormalization(),\n",
        "          keras.layers.Dropout(0.1),\n",
        "          keras.layers.Dense(64, activation='relu', use_bias=False),\n",
        "          keras.layers.BatchNormalization(),\n",
        "          keras.layers.Dropout(0.1),\n",
        "          keras.layers.Dense(64, activation='relu', use_bias=False),\n",
        "          keras.layers.BatchNormalization(),\n",
        "          keras.layers.Dropout(0.1),\n",
        "          keras.layers.Dense(1, activation='sigmoid'),\n",
        "      ])\n",
        "\n",
        "      # Compile\n",
        "      model.compile(\n",
        "          optimizer=keras.optimizers.Adam(learning_rate=.001),\n",
        "          loss=keras.losses.BinaryCrossentropy(),\n",
        "          metrics=METRICS)\n",
        "      return model\n",
        "    \n",
        "    model = make_model()\n",
        "\n",
        "    # Fit model on train, use validation set for model fit\n",
        "    model.fit(train_features_rus,train_labels_rus, batch_size=BATCH_SIZE, epochs=EPOCHS,\n",
        "              callbacks=[early_stopping],validation_data=(val_features_scaled, val_labels), verbose=0)\n",
        "\n",
        "    # Predict on test\n",
        "    test_predictions_baseline = model.predict(test_features_scaled, batch_size=BATCH_SIZE, verbose=0)\n",
        "\n",
        "    # Evaluate on test\n",
        "    baseline_results = model.evaluate(test_features_scaled, y_test, batch_size=BATCH_SIZE, verbose=0)\n",
        "\n",
        "    # Append scores for future evalution\n",
        "    accuracy_MLP.append(baseline_results[5])\n",
        "    ROC_AUC_MLP.append(baseline_results[6])    \n",
        "\n",
        "    print('')\n",
        "    # Print all scores\n",
        "    for name, value in zip(model.metrics_names, baseline_results):\n",
        "      print(name, ': ', value)\n",
        "    \n",
        "    # Create and append F1 and specificity score, because only god knows why keras doesn't have it in their metrics\n",
        "    f1_score = 2 * (baseline_results[6] * baseline_results[7]) / (baseline_results[6] + baseline_results[7])\n",
        "    print('f1:', f1_score)\n",
        "    \n",
        "    # True neg / (true neg + false pos)\n",
        "    specificity_score = baseline_results[3] / (baseline_results[3] + baseline_results[2] + K.epsilon()) #tn / (tn + fn + epsilon in rare case of 0)\n",
        "    print('specificity:', specificity_score,'\\n')\n",
        "\n",
        "    F1_MLP.append(f1_score)\n",
        "    specificity_MLP.append(specificity_score)\n",
        "\n",
        "    # Add Classifier type to model (keras didn't add it dunno why)\n",
        "    model._estimator_type = \"classifier\"\n",
        "    # ROC AUC plot\n",
        "    # `model.predict_proba()` is deprecated, but this still works by altering estimator_type :)\n",
        "    probas_ = model.predict_proba(test_features_scaled)\n",
        "    # Compute ROC curve and area the curve\n",
        "    fpr, tpr, thresholds = roc_curve(y_test, probas_)\n",
        "    tprs.append(interp(mean_fpr, fpr, tpr))\n",
        "    tprs[-1][0] = 0.0\n",
        "    roc_auc = auc(fpr, tpr)\n",
        "    aucs.append(roc_auc)\n",
        "    plt.plot(fpr, tpr, lw=1, alpha=0.3,\n",
        "             label='ROC fold %d (AUC = %0.2f)' % (index, roc_auc))\n",
        "\n",
        "    # Future: Create and add averaged cm plot\n",
        "    # If time available...\n",
        "    plot_cm(y_test, test_predictions_baseline)\n",
        "\n",
        "    print('\\nRun:', index, 'completed\\n')\n",
        "\n",
        "plt.plot([0, 1], [0, 1], linestyle='--', lw=2, color='r',\n",
        "         label='Chance', alpha=.8)\n",
        "\n",
        "mean_tpr = np.mean(tprs, axis=0)\n",
        "mean_tpr[-1] = 1.0\n",
        "mean_auc = auc(mean_fpr, mean_tpr)\n",
        "std_auc = np.std(aucs)\n",
        "plt.plot(mean_fpr, mean_tpr, color='b',\n",
        "         label=r'Mean ROC (AUC = %0.2f $\\pm$ %0.2f)' % (mean_auc, std_auc),\n",
        "         lw=2, alpha=.8)\n",
        "\n",
        "std_tpr = np.std(tprs, axis=0)\n",
        "tprs_upper = np.minimum(mean_tpr + std_tpr, 1)\n",
        "tprs_lower = np.maximum(mean_tpr - std_tpr, 0)\n",
        "plt.fill_between(mean_fpr, tprs_lower, tprs_upper, color='grey', alpha=.2,\n",
        "                 label=r'$\\pm$ 1 std. dev.')\n",
        "\n",
        "plt.xlim([-0.01, 1.01])\n",
        "plt.ylim([-0.01, 1.01])\n",
        "plt.xlabel('False Positive Rate',fontsize=18)\n",
        "plt.ylabel('True Positive Rate',fontsize=18)\n",
        "plt.title('Cross-Validation ROC of GRU',fontsize=18)\n",
        "plt.legend(loc=\"lower right\", prop={'size': 12})\n",
        "\n",
        "# Specify ROC_AUC plot for sampling method\n",
        "plt.savefig('/content/drive/My Drive/Colab Notebooks/Results/RUS_MLP_ROC_AUC_plot.png')\n",
        "plt.show()"
      ],
      "execution_count": null,
      "outputs": [
        {
          "output_type": "stream",
          "text": [
            "Train feats (train + val) dataset: (2903147, 12) \tTest feats: (725787, 12)\n",
            "Train labels (train + val) dataset: (2903147,) \t\tTest labels: (725787,)\n",
            "\n",
            "Train feats sampled dataset: (713542, 12) \tVal feats: (725787, 12) \tTest feats: (725787, 12)\n",
            "Train labels sampled dataset: (713542,) \tVal labels: (725787,) \t\tTest labels: (725787,)\n",
            "\n",
            "Train set:\n",
            "    Total:\t713542\n",
            "    Negative:\t356771\t(50.00%)\n",
            "    Positive:\t356771\t(50.00%)\n",
            "\n",
            "Val set:\n",
            "    Total:\t725787\n",
            "    Negative:\t118924\t(16.39%)\n",
            "    Positive:\t606863\t(83.61%)\n",
            "\n",
            "Test set:\n",
            "    Total:\t725787\n",
            "    Negative:\t118924\t(16.39%)\n",
            "    Positive:\t606863\t(83.61%)\n",
            "\n",
            "Restoring model weights from the end of the best epoch.\n",
            "Epoch 00054: early stopping\n",
            "\n",
            "loss :  0.655386745929718\n",
            "tp :  375078.0\n",
            "fp :  48812.0\n",
            "tn :  70112.0\n",
            "fn :  231785.0\n",
            "accuracy :  0.6133893132209778\n",
            "ROC_AUC :  0.6472757458686829\n",
            "prc :  0.8957857489585876\n",
            "f1: 0.7515194834935743\n",
            "specificity: 0.5895529918262171 \n",
            "\n"
          ],
          "name": "stdout"
        },
        {
          "output_type": "stream",
          "text": [
            "/usr/local/lib/python3.7/dist-packages/tensorflow/python/keras/engine/sequential.py:430: UserWarning: `model.predict_proba()` is deprecated and will be removed after 2021-01-01. Please use `model.predict()` instead.\n",
            "  warnings.warn('`model.predict_proba()` is deprecated and '\n",
            "/usr/local/lib/python3.7/dist-packages/ipykernel_launcher.py:138: DeprecationWarning: scipy.interp is deprecated and will be removed in SciPy 2.0.0, use numpy.interp instead\n"
          ],
          "name": "stderr"
        },
        {
          "output_type": "stream",
          "text": [
            "\n",
            "p_recall 0 correctly predicted (True Negatives):\t 70112\n",
            "p_recall 1 incorrectly predicted (False Positives):\t 48812\n",
            "p_recall 0 incorrectly predicted (False Negatives):\t 231785\n",
            "p_recall 1 correctly predicted (True Positives):\t 375078\n",
            "Total incorrectly predicted p_recall:\t\t\t 280597\n",
            "\n",
            "Run: 1 completed\n",
            "\n",
            "Restoring model weights from the end of the best epoch.\n",
            "Epoch 00035: early stopping\n",
            "\n",
            "loss :  0.6582545638084412\n",
            "tp :  373135.0\n",
            "fp :  49453.0\n",
            "tn :  69471.0\n",
            "fn :  233728.0\n",
            "accuracy :  0.6098290681838989\n",
            "ROC_AUC :  0.6414278149604797\n",
            "prc :  0.8935950398445129\n",
            "f1: 0.7467989314593031\n",
            "specificity: 0.584162994853365 \n",
            "\n"
          ],
          "name": "stdout"
        },
        {
          "output_type": "stream",
          "text": [
            "/usr/local/lib/python3.7/dist-packages/tensorflow/python/keras/engine/sequential.py:430: UserWarning: `model.predict_proba()` is deprecated and will be removed after 2021-01-01. Please use `model.predict()` instead.\n",
            "  warnings.warn('`model.predict_proba()` is deprecated and '\n",
            "/usr/local/lib/python3.7/dist-packages/ipykernel_launcher.py:138: DeprecationWarning: scipy.interp is deprecated and will be removed in SciPy 2.0.0, use numpy.interp instead\n"
          ],
          "name": "stderr"
        },
        {
          "output_type": "stream",
          "text": [
            "\n",
            "p_recall 0 correctly predicted (True Negatives):\t 69471\n",
            "p_recall 1 incorrectly predicted (False Positives):\t 49453\n",
            "p_recall 0 incorrectly predicted (False Negatives):\t 233728\n",
            "p_recall 1 correctly predicted (True Positives):\t 373135\n",
            "Total incorrectly predicted p_recall:\t\t\t 283181\n",
            "\n",
            "Run: 2 completed\n",
            "\n",
            "Restoring model weights from the end of the best epoch.\n",
            "Epoch 00025: early stopping\n",
            "\n",
            "loss :  0.6625083088874817\n",
            "tp :  405823.0\n",
            "fp :  60868.0\n",
            "tn :  58056.0\n",
            "fn :  201040.0\n",
            "accuracy :  0.6391392946243286\n",
            "ROC_AUC :  0.6154896020889282\n",
            "prc :  0.8839078545570374\n",
            "f1: 0.7256729578580922\n",
            "specificity: 0.48817732333213804 \n",
            "\n"
          ],
          "name": "stdout"
        },
        {
          "output_type": "stream",
          "text": [
            "/usr/local/lib/python3.7/dist-packages/tensorflow/python/keras/engine/sequential.py:430: UserWarning: `model.predict_proba()` is deprecated and will be removed after 2021-01-01. Please use `model.predict()` instead.\n",
            "  warnings.warn('`model.predict_proba()` is deprecated and '\n",
            "/usr/local/lib/python3.7/dist-packages/ipykernel_launcher.py:138: DeprecationWarning: scipy.interp is deprecated and will be removed in SciPy 2.0.0, use numpy.interp instead\n"
          ],
          "name": "stderr"
        },
        {
          "output_type": "stream",
          "text": [
            "\n",
            "p_recall 0 correctly predicted (True Negatives):\t 58056\n",
            "p_recall 1 incorrectly predicted (False Positives):\t 60868\n",
            "p_recall 0 incorrectly predicted (False Negatives):\t 201040\n",
            "p_recall 1 correctly predicted (True Positives):\t 405823\n",
            "Total incorrectly predicted p_recall:\t\t\t 261908\n",
            "\n",
            "Run: 3 completed\n",
            "\n",
            "Restoring model weights from the end of the best epoch.\n",
            "Epoch 00043: early stopping\n",
            "\n",
            "loss :  0.6590266227722168\n",
            "tp :  372913.0\n",
            "fp :  49135.0\n",
            "tn :  69789.0\n",
            "fn :  233950.0\n",
            "accuracy :  0.6099613308906555\n",
            "ROC_AUC :  0.6438013911247253\n",
            "prc :  0.894392728805542\n",
            "f1: 0.7486848058461582\n",
            "specificity: 0.5868369715107238 \n",
            "\n"
          ],
          "name": "stdout"
        },
        {
          "output_type": "stream",
          "text": [
            "/usr/local/lib/python3.7/dist-packages/tensorflow/python/keras/engine/sequential.py:430: UserWarning: `model.predict_proba()` is deprecated and will be removed after 2021-01-01. Please use `model.predict()` instead.\n",
            "  warnings.warn('`model.predict_proba()` is deprecated and '\n",
            "/usr/local/lib/python3.7/dist-packages/ipykernel_launcher.py:138: DeprecationWarning: scipy.interp is deprecated and will be removed in SciPy 2.0.0, use numpy.interp instead\n"
          ],
          "name": "stderr"
        },
        {
          "output_type": "stream",
          "text": [
            "\n",
            "p_recall 0 correctly predicted (True Negatives):\t 69789\n",
            "p_recall 1 incorrectly predicted (False Positives):\t 49135\n",
            "p_recall 0 incorrectly predicted (False Negatives):\t 233950\n",
            "p_recall 1 correctly predicted (True Positives):\t 372913\n",
            "Total incorrectly predicted p_recall:\t\t\t 283085\n",
            "\n",
            "Run: 4 completed\n",
            "\n",
            "Restoring model weights from the end of the best epoch.\n",
            "Epoch 00024: early stopping\n",
            "\n",
            "loss :  0.645266592502594\n",
            "tp :  473598.0\n",
            "fp :  76348.0\n",
            "tn :  42575.0\n",
            "fn :  133265.0\n",
            "accuracy :  0.711191713809967\n",
            "ROC_AUC :  0.610332190990448\n",
            "prc :  0.8806600570678711\n",
            "f1: 0.7209899083619957\n",
            "specificity: 0.35800475938182014 \n",
            "\n"
          ],
          "name": "stdout"
        },
        {
          "output_type": "stream",
          "text": [
            "/usr/local/lib/python3.7/dist-packages/tensorflow/python/keras/engine/sequential.py:430: UserWarning: `model.predict_proba()` is deprecated and will be removed after 2021-01-01. Please use `model.predict()` instead.\n",
            "  warnings.warn('`model.predict_proba()` is deprecated and '\n",
            "/usr/local/lib/python3.7/dist-packages/ipykernel_launcher.py:138: DeprecationWarning: scipy.interp is deprecated and will be removed in SciPy 2.0.0, use numpy.interp instead\n"
          ],
          "name": "stderr"
        },
        {
          "output_type": "stream",
          "text": [
            "\n",
            "p_recall 0 correctly predicted (True Negatives):\t 42575\n",
            "p_recall 1 incorrectly predicted (False Positives):\t 76348\n",
            "p_recall 0 incorrectly predicted (False Negatives):\t 133265\n",
            "p_recall 1 correctly predicted (True Positives):\t 473598\n",
            "Total incorrectly predicted p_recall:\t\t\t 209613\n",
            "\n",
            "Run: 5 completed\n",
            "\n",
            "Restoring model weights from the end of the best epoch.\n",
            "Epoch 00024: early stopping\n",
            "\n",
            "loss :  0.6482992172241211\n",
            "tp :  461680.0\n",
            "fp :  74855.0\n",
            "tn :  44069.0\n",
            "fn :  145183.0\n",
            "accuracy :  0.6968284249305725\n",
            "ROC_AUC :  0.6030733585357666\n",
            "prc :  0.8787739276885986\n",
            "f1: 0.7152763296076766\n",
            "specificity: 0.3705643940664874 \n",
            "\n"
          ],
          "name": "stdout"
        },
        {
          "output_type": "stream",
          "text": [
            "/usr/local/lib/python3.7/dist-packages/tensorflow/python/keras/engine/sequential.py:430: UserWarning: `model.predict_proba()` is deprecated and will be removed after 2021-01-01. Please use `model.predict()` instead.\n",
            "  warnings.warn('`model.predict_proba()` is deprecated and '\n",
            "/usr/local/lib/python3.7/dist-packages/ipykernel_launcher.py:138: DeprecationWarning: scipy.interp is deprecated and will be removed in SciPy 2.0.0, use numpy.interp instead\n"
          ],
          "name": "stderr"
        },
        {
          "output_type": "stream",
          "text": [
            "\n",
            "p_recall 0 correctly predicted (True Negatives):\t 44069\n",
            "p_recall 1 incorrectly predicted (False Positives):\t 74855\n",
            "p_recall 0 incorrectly predicted (False Negatives):\t 145183\n",
            "p_recall 1 correctly predicted (True Positives):\t 461680\n",
            "Total incorrectly predicted p_recall:\t\t\t 220038\n",
            "\n",
            "Run: 6 completed\n",
            "\n",
            "Restoring model weights from the end of the best epoch.\n",
            "Epoch 00028: early stopping\n",
            "\n",
            "loss :  0.6607977151870728\n",
            "tp :  373094.0\n",
            "fp :  52326.0\n",
            "tn :  66598.0\n",
            "fn :  233769.0\n",
            "accuracy :  0.6058140993118286\n",
            "ROC_AUC :  0.6253196597099304\n",
            "prc :  0.8871490359306335\n",
            "f1: 0.7335711937167558\n",
            "specificity: 0.5600047088892401 \n",
            "\n"
          ],
          "name": "stdout"
        },
        {
          "output_type": "stream",
          "text": [
            "/usr/local/lib/python3.7/dist-packages/tensorflow/python/keras/engine/sequential.py:430: UserWarning: `model.predict_proba()` is deprecated and will be removed after 2021-01-01. Please use `model.predict()` instead.\n",
            "  warnings.warn('`model.predict_proba()` is deprecated and '\n",
            "/usr/local/lib/python3.7/dist-packages/ipykernel_launcher.py:138: DeprecationWarning: scipy.interp is deprecated and will be removed in SciPy 2.0.0, use numpy.interp instead\n"
          ],
          "name": "stderr"
        },
        {
          "output_type": "stream",
          "text": [
            "\n",
            "p_recall 0 correctly predicted (True Negatives):\t 66598\n",
            "p_recall 1 incorrectly predicted (False Positives):\t 52326\n",
            "p_recall 0 incorrectly predicted (False Negatives):\t 233769\n",
            "p_recall 1 correctly predicted (True Positives):\t 373094\n",
            "Total incorrectly predicted p_recall:\t\t\t 286095\n",
            "\n",
            "Run: 7 completed\n",
            "\n",
            "Restoring model weights from the end of the best epoch.\n",
            "Epoch 00023: early stopping\n",
            "\n",
            "loss :  0.6333004832267761\n",
            "tp :  527381.0\n",
            "fp :  91833.0\n",
            "tn :  27091.0\n",
            "fn :  79482.0\n",
            "accuracy :  0.7639596462249756\n",
            "ROC_AUC :  0.6004051566123962\n",
            "prc :  0.8771288394927979\n",
            "f1: 0.71285355143521\n",
            "specificity: 0.22780094850473595 \n",
            "\n"
          ],
          "name": "stdout"
        },
        {
          "output_type": "stream",
          "text": [
            "/usr/local/lib/python3.7/dist-packages/tensorflow/python/keras/engine/sequential.py:430: UserWarning: `model.predict_proba()` is deprecated and will be removed after 2021-01-01. Please use `model.predict()` instead.\n",
            "  warnings.warn('`model.predict_proba()` is deprecated and '\n",
            "/usr/local/lib/python3.7/dist-packages/ipykernel_launcher.py:138: DeprecationWarning: scipy.interp is deprecated and will be removed in SciPy 2.0.0, use numpy.interp instead\n"
          ],
          "name": "stderr"
        },
        {
          "output_type": "stream",
          "text": [
            "\n",
            "p_recall 0 correctly predicted (True Negatives):\t 27091\n",
            "p_recall 1 incorrectly predicted (False Positives):\t 91833\n",
            "p_recall 0 incorrectly predicted (False Negatives):\t 79482\n",
            "p_recall 1 correctly predicted (True Positives):\t 527381\n",
            "Total incorrectly predicted p_recall:\t\t\t 171315\n",
            "\n",
            "Run: 8 completed\n",
            "\n",
            "Restoring model weights from the end of the best epoch.\n",
            "Epoch 00080: early stopping\n",
            "\n",
            "loss :  0.6509872078895569\n",
            "tp :  378731.0\n",
            "fp :  48701.0\n",
            "tn :  70223.0\n",
            "fn :  228132.0\n",
            "accuracy :  0.618575394153595\n",
            "ROC_AUC :  0.6523540019989014\n",
            "prc :  0.8984683752059937\n",
            "f1: 0.7558821033927372\n",
            "specificity: 0.5904863610368046 \n",
            "\n"
          ],
          "name": "stdout"
        },
        {
          "output_type": "stream",
          "text": [
            "/usr/local/lib/python3.7/dist-packages/tensorflow/python/keras/engine/sequential.py:430: UserWarning: `model.predict_proba()` is deprecated and will be removed after 2021-01-01. Please use `model.predict()` instead.\n",
            "  warnings.warn('`model.predict_proba()` is deprecated and '\n",
            "/usr/local/lib/python3.7/dist-packages/ipykernel_launcher.py:138: DeprecationWarning: scipy.interp is deprecated and will be removed in SciPy 2.0.0, use numpy.interp instead\n"
          ],
          "name": "stderr"
        },
        {
          "output_type": "stream",
          "text": [
            "\n",
            "p_recall 0 correctly predicted (True Negatives):\t 70223\n",
            "p_recall 1 incorrectly predicted (False Positives):\t 48701\n",
            "p_recall 0 incorrectly predicted (False Negatives):\t 228132\n",
            "p_recall 1 correctly predicted (True Positives):\t 378731\n",
            "Total incorrectly predicted p_recall:\t\t\t 276833\n",
            "\n",
            "Run: 9 completed\n",
            "\n",
            "Restoring model weights from the end of the best epoch.\n",
            "Epoch 00022: early stopping\n",
            "\n",
            "loss :  0.6236538887023926\n",
            "tp :  583429.0\n",
            "fp :  109158.0\n",
            "tn :  9765.0\n",
            "fn :  23434.0\n",
            "accuracy :  0.8173125386238098\n",
            "ROC_AUC :  0.5842208862304688\n",
            "prc :  0.8718590140342712\n",
            "f1: 0.6996295268611491\n",
            "specificity: 0.0821119547942096 \n",
            "\n"
          ],
          "name": "stdout"
        },
        {
          "output_type": "stream",
          "text": [
            "/usr/local/lib/python3.7/dist-packages/tensorflow/python/keras/engine/sequential.py:430: UserWarning: `model.predict_proba()` is deprecated and will be removed after 2021-01-01. Please use `model.predict()` instead.\n",
            "  warnings.warn('`model.predict_proba()` is deprecated and '\n",
            "/usr/local/lib/python3.7/dist-packages/ipykernel_launcher.py:138: DeprecationWarning: scipy.interp is deprecated and will be removed in SciPy 2.0.0, use numpy.interp instead\n"
          ],
          "name": "stderr"
        },
        {
          "output_type": "stream",
          "text": [
            "\n",
            "p_recall 0 correctly predicted (True Negatives):\t 9765\n",
            "p_recall 1 incorrectly predicted (False Positives):\t 109158\n",
            "p_recall 0 incorrectly predicted (False Negatives):\t 23434\n",
            "p_recall 1 correctly predicted (True Positives):\t 583429\n",
            "Total incorrectly predicted p_recall:\t\t\t 132592\n",
            "\n",
            "Run: 10 completed\n",
            "\n",
            "Restoring model weights from the end of the best epoch.\n",
            "Epoch 00088: early stopping\n",
            "\n",
            "loss :  0.6484794020652771\n",
            "tp :  378718.0\n",
            "fp :  48218.0\n",
            "tn :  70706.0\n",
            "fn :  228145.0\n",
            "accuracy :  0.6192229986190796\n",
            "ROC_AUC :  0.6556800007820129\n",
            "prc :  0.899629533290863\n",
            "f1: 0.7585230851726212\n",
            "specificity: 0.5945477784126042 \n",
            "\n"
          ],
          "name": "stdout"
        },
        {
          "output_type": "stream",
          "text": [
            "/usr/local/lib/python3.7/dist-packages/tensorflow/python/keras/engine/sequential.py:430: UserWarning: `model.predict_proba()` is deprecated and will be removed after 2021-01-01. Please use `model.predict()` instead.\n",
            "  warnings.warn('`model.predict_proba()` is deprecated and '\n",
            "/usr/local/lib/python3.7/dist-packages/ipykernel_launcher.py:138: DeprecationWarning: scipy.interp is deprecated and will be removed in SciPy 2.0.0, use numpy.interp instead\n"
          ],
          "name": "stderr"
        },
        {
          "output_type": "stream",
          "text": [
            "\n",
            "p_recall 0 correctly predicted (True Negatives):\t 70706\n",
            "p_recall 1 incorrectly predicted (False Positives):\t 48218\n",
            "p_recall 0 incorrectly predicted (False Negatives):\t 228145\n",
            "p_recall 1 correctly predicted (True Positives):\t 378718\n",
            "Total incorrectly predicted p_recall:\t\t\t 276363\n",
            "\n",
            "Run: 11 completed\n",
            "\n",
            "Restoring model weights from the end of the best epoch.\n",
            "Epoch 00025: early stopping\n",
            "\n",
            "loss :  0.655132532119751\n",
            "tp :  424326.0\n",
            "fp :  66354.0\n",
            "tn :  52570.0\n",
            "fn :  182537.0\n",
            "accuracy :  0.6570743322372437\n",
            "ROC_AUC :  0.6055904030799866\n",
            "prc :  0.8795465230941772\n",
            "f1: 0.7173007741721716\n",
            "specificity: 0.442047021626886 \n",
            "\n"
          ],
          "name": "stdout"
        },
        {
          "output_type": "stream",
          "text": [
            "/usr/local/lib/python3.7/dist-packages/tensorflow/python/keras/engine/sequential.py:430: UserWarning: `model.predict_proba()` is deprecated and will be removed after 2021-01-01. Please use `model.predict()` instead.\n",
            "  warnings.warn('`model.predict_proba()` is deprecated and '\n",
            "/usr/local/lib/python3.7/dist-packages/ipykernel_launcher.py:138: DeprecationWarning: scipy.interp is deprecated and will be removed in SciPy 2.0.0, use numpy.interp instead\n"
          ],
          "name": "stderr"
        },
        {
          "output_type": "stream",
          "text": [
            "\n",
            "p_recall 0 correctly predicted (True Negatives):\t 52570\n",
            "p_recall 1 incorrectly predicted (False Positives):\t 66354\n",
            "p_recall 0 incorrectly predicted (False Negatives):\t 182537\n",
            "p_recall 1 correctly predicted (True Positives):\t 424326\n",
            "Total incorrectly predicted p_recall:\t\t\t 248891\n",
            "\n",
            "Run: 12 completed\n",
            "\n",
            "Restoring model weights from the end of the best epoch.\n",
            "Epoch 00043: early stopping\n",
            "\n",
            "loss :  0.6624144911766052\n",
            "tp :  372382.0\n",
            "fp :  49115.0\n",
            "tn :  69809.0\n",
            "fn :  234481.0\n",
            "accuracy :  0.6092572808265686\n",
            "ROC_AUC :  0.643210768699646\n",
            "prc :  0.8941740989685059\n",
            "f1: 0.7482087558481053\n",
            "specificity: 0.587005146143262 \n",
            "\n"
          ],
          "name": "stdout"
        },
        {
          "output_type": "stream",
          "text": [
            "/usr/local/lib/python3.7/dist-packages/tensorflow/python/keras/engine/sequential.py:430: UserWarning: `model.predict_proba()` is deprecated and will be removed after 2021-01-01. Please use `model.predict()` instead.\n",
            "  warnings.warn('`model.predict_proba()` is deprecated and '\n",
            "/usr/local/lib/python3.7/dist-packages/ipykernel_launcher.py:138: DeprecationWarning: scipy.interp is deprecated and will be removed in SciPy 2.0.0, use numpy.interp instead\n"
          ],
          "name": "stderr"
        },
        {
          "output_type": "stream",
          "text": [
            "\n",
            "p_recall 0 correctly predicted (True Negatives):\t 69809\n",
            "p_recall 1 incorrectly predicted (False Positives):\t 49115\n",
            "p_recall 0 incorrectly predicted (False Negatives):\t 234481\n",
            "p_recall 1 correctly predicted (True Positives):\t 372382\n",
            "Total incorrectly predicted p_recall:\t\t\t 283596\n",
            "\n",
            "Run: 13 completed\n",
            "\n",
            "Restoring model weights from the end of the best epoch.\n",
            "Epoch 00043: early stopping\n",
            "\n",
            "loss :  0.6552818417549133\n",
            "tp :  377834.0\n",
            "fp :  49925.0\n",
            "tn :  68999.0\n",
            "fn :  229029.0\n",
            "accuracy :  0.6156530976295471\n",
            "ROC_AUC :  0.6440442204475403\n",
            "prc :  0.8945838212966919\n",
            "f1: 0.7489159487290612\n",
            "specificity: 0.5801940735254615 \n",
            "\n"
          ],
          "name": "stdout"
        },
        {
          "output_type": "stream",
          "text": [
            "/usr/local/lib/python3.7/dist-packages/tensorflow/python/keras/engine/sequential.py:430: UserWarning: `model.predict_proba()` is deprecated and will be removed after 2021-01-01. Please use `model.predict()` instead.\n",
            "  warnings.warn('`model.predict_proba()` is deprecated and '\n",
            "/usr/local/lib/python3.7/dist-packages/ipykernel_launcher.py:138: DeprecationWarning: scipy.interp is deprecated and will be removed in SciPy 2.0.0, use numpy.interp instead\n"
          ],
          "name": "stderr"
        },
        {
          "output_type": "stream",
          "text": [
            "\n",
            "p_recall 0 correctly predicted (True Negatives):\t 68999\n",
            "p_recall 1 incorrectly predicted (False Positives):\t 49925\n",
            "p_recall 0 incorrectly predicted (False Negatives):\t 229029\n",
            "p_recall 1 correctly predicted (True Positives):\t 377834\n",
            "Total incorrectly predicted p_recall:\t\t\t 278954\n",
            "\n",
            "Run: 14 completed\n",
            "\n",
            "\n",
            "loss :  0.6537872552871704\n",
            "tp :  369660.0\n",
            "fp :  45845.0\n",
            "tn :  73078.0\n",
            "fn :  237203.0\n",
            "accuracy :  0.6100117564201355\n",
            "ROC_AUC :  0.6579264998435974\n",
            "prc :  0.9004130363464355\n",
            "f1: 0.7603036227461982\n",
            "specificity: 0.614498456984255 \n",
            "\n"
          ],
          "name": "stdout"
        },
        {
          "output_type": "stream",
          "text": [
            "/usr/local/lib/python3.7/dist-packages/tensorflow/python/keras/engine/sequential.py:430: UserWarning: `model.predict_proba()` is deprecated and will be removed after 2021-01-01. Please use `model.predict()` instead.\n",
            "  warnings.warn('`model.predict_proba()` is deprecated and '\n",
            "/usr/local/lib/python3.7/dist-packages/ipykernel_launcher.py:138: DeprecationWarning: scipy.interp is deprecated and will be removed in SciPy 2.0.0, use numpy.interp instead\n"
          ],
          "name": "stderr"
        },
        {
          "output_type": "stream",
          "text": [
            "\n",
            "p_recall 0 correctly predicted (True Negatives):\t 73078\n",
            "p_recall 1 incorrectly predicted (False Positives):\t 45845\n",
            "p_recall 0 incorrectly predicted (False Negatives):\t 237203\n",
            "p_recall 1 correctly predicted (True Positives):\t 369660\n",
            "Total incorrectly predicted p_recall:\t\t\t 283048\n",
            "\n",
            "Run: 15 completed\n",
            "\n"
          ],
          "name": "stdout"
        },
        {
          "output_type": "display_data",
          "data": {
            "image/png": "[encoded data removed]",
            "text/plain": [
              "<Figure size 864x864 with 1 Axes>"
            ]
          },
          "metadata": {
            "tags": [],
            "needs_background": "light"
          }
        }
      ]
    },
    {
      "cell_type": "markdown",
      "metadata": {
        "id": "ZEmnlZ-kkLY9"
      },
      "source": [
        "# **Results and compare**"
      ]
    },
    {
      "cell_type": "code",
      "metadata": {
        "colab": {
          "base_uri": "https://localhost:8080/"
        },
        "id": "vfRTUrq1Xz8F",
        "outputId": "8b9a17db-4020-415d-efe1-bab141761dc8"
      },
      "source": [
        "score = statistics.mean(accuracy_MLP)\n",
        "min = np.min(accuracy_MLP)\n",
        "max = np.max(accuracy_MLP)\n",
        "median = statistics.median(accuracy_MLP)\n",
        "std = statistics.stdev(accuracy_MLP)\n",
        "print('MLP 5 fold - 3 repeat results:\\n')\n",
        "print('Mean accuracy:\\t', score, '\\nMedian:\\t\\t', median, '\\nMin:\\t\\t', min, '\\nMax:\\t\\t', max, '\\nStd.:\\t\\t', std)\n",
        "specificity = statistics.mean(specificity_MLP)\n",
        "ROC_AUC = statistics.mean(ROC_AUC_MLP)\n",
        "f1 = statistics.mean(F1_MLP)\n",
        "print('\\nF1:\\t\\t', f1, '\\nSpecificity:\\t', specificity, '\\nROC AUC:\\t', ROC_AUC)\n",
        "\n",
        "print('\\nRandom Forest 5 fold - 3 repeat results:\\n')\n",
        "score = statistics.mean(accuracy_RFC)\n",
        "min = np.min(accuracy_RFC)\n",
        "max = np.max(accuracy_RFC)\n",
        "median = statistics.median(accuracy_RFC)\n",
        "std = statistics.stdev(accuracy_RFC)\n",
        "print('Mean accuracy:\\t', score, '\\nMedian:\\t\\t', median, '\\nMin:\\t\\t', min, '\\nMax:\\t\\t', max, '\\nStd.:\\t\\t', std)\n",
        "f1 = statistics.mean(F1_RFC)\n",
        "specificity = statistics.mean(specificity_RFC)\n",
        "ROC_AUC = statistics.mean(ROC_AUC_RFC)\n",
        "print('\\nF1:\\t\\t', f1, '\\nSpecificity:\\t', specificity, '\\nROC AUC:\\t', ROC_AUC)"
      ],
      "execution_count": null,
      "outputs": [
        {
          "output_type": "stream",
          "text": [
            "MLP 5 fold - 3 repeat results:\n",
            "\n",
            "Mean accuracy:\t 0.6531480193138123 \n",
            "Median:\t\t 0.618575394153595 \n",
            "Min:\t\t 0.6058140993118286 \n",
            "Max:\t\t 0.8173125386238098 \n",
            "Std.:\t\t 0.0653670775779678\n",
            "\n",
            "F1:\t\t 0.736275398580054 \n",
            "Specificity:\t 0.48373305899254737 \n",
            "ROC AUC:\t 0.6286767800649007\n",
            "\n",
            "Random Forest 5 fold - 3 repeat results:\n",
            "\n",
            "Mean accuracy:\t 0.6098786404557921 \n",
            "Median:\t\t 0.6097877200886761 \n",
            "Min:\t\t 0.6067151933005138 \n",
            "Max:\t\t 0.6126453077831375 \n",
            "Std.:\t\t 0.001669922530101229\n",
            "\n",
            "F1:\t\t 0.7229591991077527 \n",
            "Specificity:\t 0.6154669354740722 \n",
            "ROC AUC:\t 0.6121252332590732\n"
          ],
          "name": "stdout"
        }
      ]
    },
    {
      "cell_type": "markdown",
      "metadata": {
        "id": "Ldz-j3Y1ruKf"
      },
      "source": [
        "Write and export results to Drive  \n",
        ".csv files"
      ]
    },
    {
      "cell_type": "code",
      "metadata": {
        "colab": {
          "base_uri": "https://localhost:8080/",
          "height": 514
        },
        "id": "rh1rdHbQwxWl",
        "outputId": "2bebcbb5-bf3a-4c28-efe4-481ec9238615"
      },
      "source": [
        "df_MLP_rus = pd.DataFrame({'accuracy_MLP' : accuracy_MLP, 'F1_MLP' : F1_MLP,\n",
        "                           'specificity_MLP' : specificity_MLP, 'ROC_AUC_MLP' : ROC_AUC_MLP})\n",
        "\n",
        "df_MLP_rus.to_csv('/content/drive/My Drive/Colab Notebooks/Results/results_MLP_RUS.csv', index=False)\n",
        "df_MLP_rus"
      ],
      "execution_count": null,
      "outputs": [
        {
          "output_type": "execute_result",
          "data": {
            "text/html": [
              "<div>\n",
              "<style scoped>\n",
              "    .dataframe tbody tr th:only-of-type {\n",
              "        vertical-align: middle;\n",
              "    }\n",
              "\n",
              "    .dataframe tbody tr th {\n",
              "        vertical-align: top;\n",
              "    }\n",
              "\n",
              "    .dataframe thead th {\n",
              "        text-align: right;\n",
              "    }\n",
              "</style>\n",
              "<table border=\"1\" class=\"dataframe\">\n",
              "  <thead>\n",
              "    <tr style=\"text-align: right;\">\n",
              "      <th></th>\n",
              "      <th>accuracy_MLP</th>\n",
              "      <th>F1_MLP</th>\n",
              "      <th>specificity_MLP</th>\n",
              "      <th>ROC_AUC_MLP</th>\n",
              "    </tr>\n",
              "  </thead>\n",
              "  <tbody>\n",
              "    <tr>\n",
              "      <th>0</th>\n",
              "      <td>0.613389</td>\n",
              "      <td>0.751519</td>\n",
              "      <td>0.589553</td>\n",
              "      <td>0.647276</td>\n",
              "    </tr>\n",
              "    <tr>\n",
              "      <th>1</th>\n",
              "      <td>0.609829</td>\n",
              "      <td>0.746799</td>\n",
              "      <td>0.584163</td>\n",
              "      <td>0.641428</td>\n",
              "    </tr>\n",
              "    <tr>\n",
              "      <th>2</th>\n",
              "      <td>0.639139</td>\n",
              "      <td>0.725673</td>\n",
              "      <td>0.488177</td>\n",
              "      <td>0.615490</td>\n",
              "    </tr>\n",
              "    <tr>\n",
              "      <th>3</th>\n",
              "      <td>0.609961</td>\n",
              "      <td>0.748685</td>\n",
              "      <td>0.586837</td>\n",
              "      <td>0.643801</td>\n",
              "    </tr>\n",
              "    <tr>\n",
              "      <th>4</th>\n",
              "      <td>0.711192</td>\n",
              "      <td>0.720990</td>\n",
              "      <td>0.358005</td>\n",
              "      <td>0.610332</td>\n",
              "    </tr>\n",
              "    <tr>\n",
              "      <th>5</th>\n",
              "      <td>0.696828</td>\n",
              "      <td>0.715276</td>\n",
              "      <td>0.370564</td>\n",
              "      <td>0.603073</td>\n",
              "    </tr>\n",
              "    <tr>\n",
              "      <th>6</th>\n",
              "      <td>0.605814</td>\n",
              "      <td>0.733571</td>\n",
              "      <td>0.560005</td>\n",
              "      <td>0.625320</td>\n",
              "    </tr>\n",
              "    <tr>\n",
              "      <th>7</th>\n",
              "      <td>0.763960</td>\n",
              "      <td>0.712854</td>\n",
              "      <td>0.227801</td>\n",
              "      <td>0.600405</td>\n",
              "    </tr>\n",
              "    <tr>\n",
              "      <th>8</th>\n",
              "      <td>0.618575</td>\n",
              "      <td>0.755882</td>\n",
              "      <td>0.590486</td>\n",
              "      <td>0.652354</td>\n",
              "    </tr>\n",
              "    <tr>\n",
              "      <th>9</th>\n",
              "      <td>0.817313</td>\n",
              "      <td>0.699630</td>\n",
              "      <td>0.082112</td>\n",
              "      <td>0.584221</td>\n",
              "    </tr>\n",
              "    <tr>\n",
              "      <th>10</th>\n",
              "      <td>0.619223</td>\n",
              "      <td>0.758523</td>\n",
              "      <td>0.594548</td>\n",
              "      <td>0.655680</td>\n",
              "    </tr>\n",
              "    <tr>\n",
              "      <th>11</th>\n",
              "      <td>0.657074</td>\n",
              "      <td>0.717301</td>\n",
              "      <td>0.442047</td>\n",
              "      <td>0.605590</td>\n",
              "    </tr>\n",
              "    <tr>\n",
              "      <th>12</th>\n",
              "      <td>0.609257</td>\n",
              "      <td>0.748209</td>\n",
              "      <td>0.587005</td>\n",
              "      <td>0.643211</td>\n",
              "    </tr>\n",
              "    <tr>\n",
              "      <th>13</th>\n",
              "      <td>0.615653</td>\n",
              "      <td>0.748916</td>\n",
              "      <td>0.580194</td>\n",
              "      <td>0.644044</td>\n",
              "    </tr>\n",
              "    <tr>\n",
              "      <th>14</th>\n",
              "      <td>0.610012</td>\n",
              "      <td>0.760304</td>\n",
              "      <td>0.614498</td>\n",
              "      <td>0.657926</td>\n",
              "    </tr>\n",
              "  </tbody>\n",
              "</table>\n",
              "</div>"
            ],
            "text/plain": [
              "    accuracy_MLP    F1_MLP  specificity_MLP  ROC_AUC_MLP\n",
              "0       0.613389  0.751519         0.589553     0.647276\n",
              "1       0.609829  0.746799         0.584163     0.641428\n",
              "2       0.639139  0.725673         0.488177     0.615490\n",
              "3       0.609961  0.748685         0.586837     0.643801\n",
              "4       0.711192  0.720990         0.358005     0.610332\n",
              "5       0.696828  0.715276         0.370564     0.603073\n",
              "6       0.605814  0.733571         0.560005     0.625320\n",
              "7       0.763960  0.712854         0.227801     0.600405\n",
              "8       0.618575  0.755882         0.590486     0.652354\n",
              "9       0.817313  0.699630         0.082112     0.584221\n",
              "10      0.619223  0.758523         0.594548     0.655680\n",
              "11      0.657074  0.717301         0.442047     0.605590\n",
              "12      0.609257  0.748209         0.587005     0.643211\n",
              "13      0.615653  0.748916         0.580194     0.644044\n",
              "14      0.610012  0.760304         0.614498     0.657926"
            ]
          },
          "metadata": {
            "tags": []
          },
          "execution_count": 25
        }
      ]
    },
    {
      "cell_type": "code",
      "metadata": {
        "colab": {
          "base_uri": "https://localhost:8080/",
          "height": 514
        },
        "id": "mKefzAc9wyXS",
        "outputId": "85c93cfb-9f65-436b-b01e-5c549636a313"
      },
      "source": [
        "df_RFC_rus = pd.DataFrame({'accuracy_RFC' : accuracy_RFC, 'F1_RFC' : F1_RFC,\n",
        "                           'specificity_RFC' : specificity_RFC, 'ROC_AUC_RFC' : ROC_AUC_RFC})\n",
        "df_RFC_rus.to_csv('/content/drive/My Drive/Colab Notebooks/Results/results_RFC_RUS.csv', index=False)\n",
        "df_RFC_rus"
      ],
      "execution_count": null,
      "outputs": [
        {
          "output_type": "execute_result",
          "data": {
            "text/html": [
              "<div>\n",
              "<style scoped>\n",
              "    .dataframe tbody tr th:only-of-type {\n",
              "        vertical-align: middle;\n",
              "    }\n",
              "\n",
              "    .dataframe tbody tr th {\n",
              "        vertical-align: top;\n",
              "    }\n",
              "\n",
              "    .dataframe thead th {\n",
              "        text-align: right;\n",
              "    }\n",
              "</style>\n",
              "<table border=\"1\" class=\"dataframe\">\n",
              "  <thead>\n",
              "    <tr style=\"text-align: right;\">\n",
              "      <th></th>\n",
              "      <th>accuracy_RFC</th>\n",
              "      <th>F1_RFC</th>\n",
              "      <th>specificity_RFC</th>\n",
              "      <th>ROC_AUC_RFC</th>\n",
              "    </tr>\n",
              "  </thead>\n",
              "  <tbody>\n",
              "    <tr>\n",
              "      <th>0</th>\n",
              "      <td>0.606715</td>\n",
              "      <td>0.719987</td>\n",
              "      <td>0.616982</td>\n",
              "      <td>0.610843</td>\n",
              "    </tr>\n",
              "    <tr>\n",
              "      <th>1</th>\n",
              "      <td>0.612645</td>\n",
              "      <td>0.725630</td>\n",
              "      <td>0.612879</td>\n",
              "      <td>0.612739</td>\n",
              "    </tr>\n",
              "    <tr>\n",
              "      <th>2</th>\n",
              "      <td>0.608381</td>\n",
              "      <td>0.721545</td>\n",
              "      <td>0.616335</td>\n",
              "      <td>0.611579</td>\n",
              "    </tr>\n",
              "    <tr>\n",
              "      <th>3</th>\n",
              "      <td>0.609647</td>\n",
              "      <td>0.722764</td>\n",
              "      <td>0.615267</td>\n",
              "      <td>0.611906</td>\n",
              "    </tr>\n",
              "    <tr>\n",
              "      <th>4</th>\n",
              "      <td>0.611070</td>\n",
              "      <td>0.723938</td>\n",
              "      <td>0.617072</td>\n",
              "      <td>0.613483</td>\n",
              "    </tr>\n",
              "    <tr>\n",
              "      <th>5</th>\n",
              "      <td>0.609788</td>\n",
              "      <td>0.722949</td>\n",
              "      <td>0.614384</td>\n",
              "      <td>0.611635</td>\n",
              "    </tr>\n",
              "    <tr>\n",
              "      <th>6</th>\n",
              "      <td>0.607886</td>\n",
              "      <td>0.720978</td>\n",
              "      <td>0.618143</td>\n",
              "      <td>0.612010</td>\n",
              "    </tr>\n",
              "    <tr>\n",
              "      <th>7</th>\n",
              "      <td>0.611513</td>\n",
              "      <td>0.724413</td>\n",
              "      <td>0.615906</td>\n",
              "      <td>0.613279</td>\n",
              "    </tr>\n",
              "    <tr>\n",
              "      <th>8</th>\n",
              "      <td>0.607975</td>\n",
              "      <td>0.721215</td>\n",
              "      <td>0.615729</td>\n",
              "      <td>0.611092</td>\n",
              "    </tr>\n",
              "    <tr>\n",
              "      <th>9</th>\n",
              "      <td>0.609415</td>\n",
              "      <td>0.722476</td>\n",
              "      <td>0.616483</td>\n",
              "      <td>0.612257</td>\n",
              "    </tr>\n",
              "    <tr>\n",
              "      <th>10</th>\n",
              "      <td>0.610129</td>\n",
              "      <td>0.723178</td>\n",
              "      <td>0.615637</td>\n",
              "      <td>0.612344</td>\n",
              "    </tr>\n",
              "    <tr>\n",
              "      <th>11</th>\n",
              "      <td>0.610342</td>\n",
              "      <td>0.723320</td>\n",
              "      <td>0.616419</td>\n",
              "      <td>0.612785</td>\n",
              "    </tr>\n",
              "    <tr>\n",
              "      <th>12</th>\n",
              "      <td>0.609303</td>\n",
              "      <td>0.722435</td>\n",
              "      <td>0.615528</td>\n",
              "      <td>0.611805</td>\n",
              "    </tr>\n",
              "    <tr>\n",
              "      <th>13</th>\n",
              "      <td>0.611549</td>\n",
              "      <td>0.724742</td>\n",
              "      <td>0.611281</td>\n",
              "      <td>0.611441</td>\n",
              "    </tr>\n",
              "    <tr>\n",
              "      <th>14</th>\n",
              "      <td>0.611822</td>\n",
              "      <td>0.724818</td>\n",
              "      <td>0.613960</td>\n",
              "      <td>0.612682</td>\n",
              "    </tr>\n",
              "  </tbody>\n",
              "</table>\n",
              "</div>"
            ],
            "text/plain": [
              "    accuracy_RFC    F1_RFC  specificity_RFC  ROC_AUC_RFC\n",
              "0       0.606715  0.719987         0.616982     0.610843\n",
              "1       0.612645  0.725630         0.612879     0.612739\n",
              "2       0.608381  0.721545         0.616335     0.611579\n",
              "3       0.609647  0.722764         0.615267     0.611906\n",
              "4       0.611070  0.723938         0.617072     0.613483\n",
              "5       0.609788  0.722949         0.614384     0.611635\n",
              "6       0.607886  0.720978         0.618143     0.612010\n",
              "7       0.611513  0.724413         0.615906     0.613279\n",
              "8       0.607975  0.721215         0.615729     0.611092\n",
              "9       0.609415  0.722476         0.616483     0.612257\n",
              "10      0.610129  0.723178         0.615637     0.612344\n",
              "11      0.610342  0.723320         0.616419     0.612785\n",
              "12      0.609303  0.722435         0.615528     0.611805\n",
              "13      0.611549  0.724742         0.611281     0.611441\n",
              "14      0.611822  0.724818         0.613960     0.612682"
            ]
          },
          "metadata": {
            "tags": []
          },
          "execution_count": 26
        }
      ]
    },
    {
      "cell_type": "markdown",
      "metadata": {
        "id": "PL1-iAs3nea4"
      },
      "source": [
        "# **Significantly different?**  \n",
        "Compare model accuracy"
      ]
    },
    {
      "cell_type": "markdown",
      "metadata": {
        "id": "J2LkQznyn3sC"
      },
      "source": [
        "Get (artificial) scores from mean, min, max and std scores  \n",
        "Baseline Random Forest combined model from Coerver (2020)"
      ]
    },
    {
      "cell_type": "code",
      "metadata": {
        "colab": {
          "base_uri": "https://localhost:8080/"
        },
        "id": "O8mwO0nTmwRg",
        "outputId": "f2ff24fd-8e2c-43d6-b625-ebb141a5ebd4"
      },
      "source": [
        "def get_truncated_normal(mean=0, sd=1, low=0, upp=10):\n",
        "    return truncnorm( (low - mean) / sd, (upp - mean) / sd, loc=mean, scale=sd)\n",
        "\n",
        "# Values from combined model Coerver (2020)\n",
        "baseline_combined = get_truncated_normal(mean=0.6141, sd=0.0007, low=0.6125, upp=0.6154)\n",
        "# Orignal basiline used 25 instead of 15, so can't use this statistic, but still curious you know how it is\n",
        "coerver_scores = baseline_combined.rvs(15, random_state=14)\n",
        "print('(Artificial) scores:\\n',coerver_scores)\n",
        "print('\\nMean:', statistics.mean(coerver_scores))\n",
        "print('Median:', statistics.median(coerver_scores))"
      ],
      "execution_count": null,
      "outputs": [
        {
          "output_type": "stream",
          "text": [
            "(Artificial) scores:\n",
            " [0.61410543 0.61457484 0.61480868 0.61264515 0.61374818 0.61512158\n",
            " 0.61410404 0.61376437 0.61414788 0.61356635 0.61464793 0.61380888\n",
            " 0.61414736 0.61261191 0.61438013]\n",
            "\n",
            "Mean: 0.6140121800665181\n",
            "Median: 0.6141054251752189\n"
          ],
          "name": "stdout"
        }
      ]
    },
    {
      "cell_type": "markdown",
      "metadata": {
        "id": "-26QrpQPP8lu"
      },
      "source": [
        "Normal distribution not assumed so Wilcoxon signed-rank test used  \n",
        "One sided because see if one median score is higher than other"
      ]
    },
    {
      "cell_type": "code",
      "metadata": {
        "colab": {
          "base_uri": "https://localhost:8080/"
        },
        "id": "nwAXm2er2Oc-",
        "outputId": "abf15e79-0eac-4407-8d6c-ac271b45ee19"
      },
      "source": [
        "import numpy as np\n",
        "from scipy import stats\n",
        "\n",
        "# Normal distribution not assumed so Wilcoxon signed-rank test used \n",
        "print(stats.wilcoxon(accuracy_RFC,coerver_scores, alternative='less'))\n",
        "print(stats.wilcoxon(accuracy_MLP, accuracy_RFC, alternative='greater'))\n",
        "print(stats.wilcoxon(F1_MLP, F1_RFC, alternative='greater'))\n",
        "print(stats.wilcoxon(ROC_AUC_MLP, ROC_AUC_RFC, alternative='greater'))\n",
        "print(stats.wilcoxon(specificity_MLP, specificity_RFC, alternative='less'))"
      ],
      "execution_count": null,
      "outputs": [
        {
          "output_type": "stream",
          "text": [
            "WilcoxonResult(statistic=0.0, pvalue=0.0003274791716928477)\n",
            "WilcoxonResult(statistic=107.0, pvalue=0.0037991115410316227)\n",
            "WilcoxonResult(statistic=99.0, pvalue=0.01337827681223382)\n",
            "WilcoxonResult(statistic=100.0, pvalue=0.011547866308733279)\n",
            "WilcoxonResult(statistic=1.0, pvalue=0.0004026381184834067)\n"
          ],
          "name": "stdout"
        }
      ]
    },
    {
      "cell_type": "markdown",
      "metadata": {
        "id": "140WsYqDDpI1"
      },
      "source": [
        "# **Evaluate one MLP model**"
      ]
    },
    {
      "cell_type": "code",
      "metadata": {
        "id": "oqwH-TtFDpI6"
      },
      "source": [
        "def plot_cm(labels, predictions, p=0.5):\n",
        "  cm = confusion_matrix(labels, predictions > p)\n",
        "  plt.figure(figsize=(5,5))\n",
        "  sns.heatmap(cm, annot=True, fmt=\"d\")\n",
        "  plt.title('Confusion matrix @{:.2f}'.format(p))\n",
        "  plt.ylabel('Actual label')\n",
        "  plt.xlabel('Predicted label')\n",
        "  plt.savefig('/content/drive/My Drive/Colab Notebooks/Results/RUS_MLP_CM_plot.png')\n",
        "\n",
        "  print('p_recall 0 correctly predicted (True Negatives):\\t', cm[0][0])\n",
        "  print('p_recall 1 incorrectly predicted (False Positives):\\t', cm[0][1])\n",
        "  print('p_recall 0 incorrectly predicted (False Negatives):\\t', cm[1][0])\n",
        "  print('p_recall 1 correctly predicted (True Positives):\\t', cm[1][1])"
      ],
      "execution_count": null,
      "outputs": []
    },
    {
      "cell_type": "code",
      "metadata": {
        "colab": {
          "base_uri": "https://localhost:8080/",
          "height": 571
        },
        "id": "QKarQDbLDpI6",
        "outputId": "ee522a13-a94e-47e0-e192-0b14f3bf7528"
      },
      "source": [
        "for name, value in zip(model.metrics_names, baseline_results):\n",
        "  print(name, ': ', value)\n",
        "print()\n",
        "\n",
        "plot_cm(y_test, test_predictions_baseline)"
      ],
      "execution_count": null,
      "outputs": [
        {
          "output_type": "stream",
          "text": [
            "loss :  0.6537872552871704\n",
            "tp :  369660.0\n",
            "fp :  45845.0\n",
            "tn :  73078.0\n",
            "fn :  237203.0\n",
            "accuracy :  0.6100117564201355\n",
            "ROC_AUC :  0.6579264998435974\n",
            "prc :  0.9004130363464355\n",
            "\n",
            "p_recall 0 correctly predicted (True Negatives):\t 73078\n",
            "p_recall 1 incorrectly predicted (False Positives):\t 45845\n",
            "p_recall 0 incorrectly predicted (False Negatives):\t 237203\n",
            "p_recall 1 correctly predicted (True Positives):\t 369660\n"
          ],
          "name": "stdout"
        },
        {
          "output_type": "display_data",
          "data": {
            "image/png": "[encoded data removed]",
            "text/plain": [
              "<Figure size 360x360 with 2 Axes>"
            ]
          },
          "metadata": {
            "tags": [],
            "needs_background": "light"
          }
        }
      ]
    },
    {
      "cell_type": "markdown",
      "metadata": {
        "id": "KTesTv_XlKYG"
      },
      "source": [
        "**Show training progress**"
      ]
    },
    {
      "cell_type": "code",
      "metadata": {
        "id": "fESISM_Jt1UR",
        "colab": {
          "base_uri": "https://localhost:8080/"
        },
        "outputId": "8241c780-34aa-4918-a7ed-c8d866bdebe2"
      },
      "source": [
        "# Clear model, and create it\n",
        "model = None\n",
        "\n",
        "# Dunno if this works but as a proper programmer would say: best leave it... \n",
        "os.environ['TF_DETERMINISTIC_OPS'] = '1'\n",
        "\n",
        "# Create the model can be outside loop but can't be bothered \n",
        "def make_model(metrics=METRICS):\n",
        "      model = keras.Sequential([\n",
        "          # bias = false because batchnorm\n",
        "          keras.layers.Dense(64, activation='relu', input_shape=(train_features_rus.shape[-1],), use_bias=False),\n",
        "          keras.layers.BatchNormalization(),\n",
        "          keras.layers.Dropout(0.1),\n",
        "          keras.layers.Dense(64, activation='relu', use_bias=False),\n",
        "          keras.layers.BatchNormalization(),\n",
        "          keras.layers.Dropout(0.1),\n",
        "          keras.layers.Dense(64, activation='relu', use_bias=False),\n",
        "          keras.layers.BatchNormalization(),\n",
        "          keras.layers.Dropout(0.1),\n",
        "          keras.layers.Dense(1, activation='sigmoid'),\n",
        "      ])\n",
        "\n",
        "      # Compile with new focal loss function\n",
        "      model.compile(\n",
        "          optimizer=keras.optimizers.Adam(learning_rate=.001),\n",
        "          loss=keras.losses.BinaryCrossentropy(),\n",
        "          metrics=METRICS)\n",
        "      return model\n",
        "    \n",
        "model = make_model()\n",
        "\n",
        "# Fit model on train, use validation set for model fit\n",
        "history = model.fit(train_features_rus,train_labels_rus, batch_size=BATCH_SIZE, epochs=EPOCHS,\n",
        "                    callbacks=[early_stopping],validation_data=(val_features_scaled, val_labels), verbose=0)"
      ],
      "execution_count": null,
      "outputs": [
        {
          "output_type": "stream",
          "text": [
            "Restoring model weights from the end of the best epoch.\n",
            "Epoch 00047: early stopping\n"
          ],
          "name": "stdout"
        }
      ]
    },
    {
      "cell_type": "code",
      "metadata": {
        "colab": {
          "base_uri": "https://localhost:8080/",
          "height": 730
        },
        "id": "1halL-iq2reV",
        "outputId": "f0cd62c5-076e-4b47-b50d-dd682bca64bf"
      },
      "source": [
        "plt.plot(history.history['loss']) \n",
        "plt.plot(history.history['val_loss']) \n",
        "plt.title('Model loss') \n",
        "plt.ylabel('Loss') \n",
        "plt.xlabel('Epoch') \n",
        "plt.legend(['Train', 'Val'], loc='upper left')\n",
        "plt.savefig('/content/drive/My Drive/Colab Notebooks/Results/RUS_MLP_loss_plot.png')\n",
        "plt.show()"
      ],
      "execution_count": null,
      "outputs": [
        {
          "output_type": "display_data",
          "data": {
            "image/png": "[encoded data removed]",
            "text/plain": [
              "<Figure size 864x864 with 1 Axes>"
            ]
          },
          "metadata": {
            "tags": [],
            "needs_background": "light"
          }
        }
      ]
    },
    {
      "cell_type": "code",
      "metadata": {
        "colab": {
          "base_uri": "https://localhost:8080/",
          "height": 730
        },
        "id": "s-jp5D9v2mTR",
        "outputId": "ee763e48-fac7-462b-deb6-4d259966ed22"
      },
      "source": [
        "plt.plot(history.history['accuracy'])\n",
        "plt.plot(history.history['val_accuracy'])\n",
        "plt.title('Model accuracy')\n",
        "plt.ylabel('Accuracy')\n",
        "plt.xlabel('Epoch')\n",
        "plt.legend(['Train', 'Val'], loc='upper left')\n",
        "plt.savefig('/content/drive/My Drive/Colab Notebooks/Results/RUS_MLP_accuracy_plot.png')\n",
        "plt.show()"
      ],
      "execution_count": null,
      "outputs": [
        {
          "output_type": "display_data",
          "data": {
            "image/png": "[encoded data removed]",
            "text/plain": [
              "<Figure size 864x864 with 1 Axes>"
            ]
          },
          "metadata": {
            "tags": [],
            "needs_background": "light"
          }
        }
      ]
    }
  ]
}