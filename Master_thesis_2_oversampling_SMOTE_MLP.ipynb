{
  "nbformat": 4,
  "nbformat_minor": 0,
  "metadata": {
    "colab": {
      "name": "Master thesis 2_oversampling_SMOTE_MLP.ipynb",
      "provenance": [],
      "collapsed_sections": [
        "0ShM3_oWOUwR",
        "aliVACeTwmgh",
        "XA1oZvY3OeVF",
        "ar88ziR6OrlG",
        "xf8Apb5xMK_J",
        "HaBz38EqS57m",
        "n1gQbFdP1kEb",
        "nVIiWWEaN5bA",
        "izAPLGKDLQ2f",
        "ZEmnlZ-kkLY9"
      ],
      "authorship_tag": "ABX9TyO44SDzquwhV3Wwc2fVaUSB",
      "include_colab_link": true
    },
    "kernelspec": {
      "name": "python3",
      "display_name": "Python 3"
    },
    "language_info": {
      "name": "python"
    },
    "accelerator": "GPU"
  },
  "cells": [
    {
      "cell_type": "markdown",
      "metadata": {
        "id": "view-in-github",
        "colab_type": "text"
      },
      "source": [
        "<a href=\"https://colab.research.google.com/github/Kroomer/Master_thesis/blob/main/Master_thesis_2_oversampling_SMOTE_MLP.ipynb\" target=\"_parent\"><img src=\"https://colab.research.google.com/assets/colab-badge.svg\" alt=\"Open In Colab\"/></a>"
      ]
    },
    {
      "cell_type": "markdown",
      "metadata": {
        "id": "0ShM3_oWOUwR"
      },
      "source": [
        "# **Connect to drive**  \n"
      ]
    },
    {
      "cell_type": "markdown",
      "metadata": {
        "id": "-3iIfBD9jsVr"
      },
      "source": [
        "Click link and enter authorization code"
      ]
    },
    {
      "cell_type": "code",
      "metadata": {
        "colab": {
          "base_uri": "https://localhost:8080/"
        },
        "id": "Xw1vgosDa4RS",
        "outputId": "114d41b1-b96e-4ad1-bea5-afeca8daacf5"
      },
      "source": [
        "from google.colab import drive\n",
        "drive.mount('/content/drive/')\n"
      ],
      "execution_count": null,
      "outputs": [
        {
          "output_type": "stream",
          "text": [
            "Mounted at /content/drive/\n"
          ],
          "name": "stdout"
        }
      ]
    },
    {
      "cell_type": "code",
      "metadata": {
        "colab": {
          "base_uri": "https://localhost:8080/"
        },
        "id": "aWTfNdvYO4vd",
        "outputId": "eec8c2bf-d78a-4301-a78c-eb44b5ef0158"
      },
      "source": [
        "!ls \"/content/drive/My Drive/Colab Notebooks/Master thesis\""
      ],
      "execution_count": null,
      "outputs": [
        {
          "output_type": "stream",
          "text": [
            " create_extracted_dataset.R   Lexique-query.csv\n",
            " emotion_dict.csv\t     'Lexique-query final.csv'\n",
            " final_dataset.csv\t     'NN-SVG adapted from LeNail (2019).png'\n",
            " halflife-regression-master  'unique words.txt'\n",
            " learning_traces.13m.csv\n"
          ],
          "name": "stdout"
        }
      ]
    },
    {
      "cell_type": "markdown",
      "metadata": {
        "id": "aliVACeTwmgh"
      },
      "source": [
        "# **Connect to GPU**"
      ]
    },
    {
      "cell_type": "code",
      "metadata": {
        "colab": {
          "base_uri": "https://localhost:8080/"
        },
        "id": "xk3s5tMMwbgA",
        "outputId": "7351cec8-2e27-4f3e-93b5-00e8554df9e2"
      },
      "source": [
        "%tensorflow_version 2.x\n",
        "import tensorflow as tf\n",
        "device_name = tf.test.gpu_device_name()\n",
        "if device_name != '/device:GPU:0':\n",
        "  raise SystemError('GPU device not found')\n",
        "print('Found GPU at: {}'.format(device_name))\n",
        "!nvidia-smi"
      ],
      "execution_count": null,
      "outputs": [
        {
          "output_type": "stream",
          "text": [
            "Found GPU at: /device:GPU:0\n",
            "Thu Jun 24 12:28:39 2021       \n",
            "+-----------------------------------------------------------------------------+\n",
            "| NVIDIA-SMI 465.27       Driver Version: 460.32.03    CUDA Version: 11.2     |\n",
            "|-------------------------------+----------------------+----------------------+\n",
            "| GPU  Name        Persistence-M| Bus-Id        Disp.A | Volatile Uncorr. ECC |\n",
            "| Fan  Temp  Perf  Pwr:Usage/Cap|         Memory-Usage | GPU-Util  Compute M. |\n",
            "|                               |                      |               MIG M. |\n",
            "|===============================+======================+======================|\n",
            "|   0  Tesla K80           Off  | 00000000:00:04.0 Off |                    0 |\n",
            "| N/A   71C    P0    74W / 149W |    122MiB / 11441MiB |      1%      Default |\n",
            "|                               |                      |                  N/A |\n",
            "+-------------------------------+----------------------+----------------------+\n",
            "                                                                               \n",
            "+-----------------------------------------------------------------------------+\n",
            "| Processes:                                                                  |\n",
            "|  GPU   GI   CI        PID   Type   Process name                  GPU Memory |\n",
            "|        ID   ID                                                   Usage      |\n",
            "|=============================================================================|\n",
            "+-----------------------------------------------------------------------------+\n"
          ],
          "name": "stdout"
        }
      ]
    },
    {
      "cell_type": "markdown",
      "metadata": {
        "id": "XA1oZvY3OeVF"
      },
      "source": [
        "# **Import libraries**"
      ]
    },
    {
      "cell_type": "code",
      "metadata": {
        "id": "80y6p5mXNvkk",
        "colab": {
          "base_uri": "https://localhost:8080/"
        },
        "outputId": "2f25821a-3cb4-48fc-bc61-41e2a0e7670c"
      },
      "source": [
        "import tensorflow as tf\n",
        "from tensorflow import keras\n",
        "from keras import backend as K\n",
        "from keras.wrappers.scikit_learn import KerasClassifier\n",
        "\n",
        "import pydot \n",
        "import graphviz\n",
        "from tensorflow.keras.utils import plot_model\n",
        "\n",
        "import matplotlib as mpl\n",
        "import matplotlib.pyplot as plt\n",
        "import numpy as np\n",
        "import pandas as pd\n",
        "import seaborn as sns\n",
        "\n",
        "import sklearn\n",
        "from sklearn.metrics import confusion_matrix\n",
        "from sklearn.metrics import make_scorer\n",
        "from sklearn.metrics import accuracy_score, precision_score, recall_score, f1_score, auc, roc_auc_score, roc_curve, plot_roc_curve, precision_recall_fscore_support, classification_report, precision_recall_curve\n",
        "from sklearn.model_selection import train_test_split\n",
        "from sklearn.model_selection import RepeatedStratifiedKFold\n",
        "from sklearn.model_selection import cross_validate\n",
        "from sklearn.preprocessing import StandardScaler\n",
        "from sklearn.ensemble import RandomForestClassifier\n",
        "\n",
        "import os\n",
        "import tempfile\n",
        "\n",
        "# # Fix for random errors\n",
        "# import six\n",
        "# import sys\n",
        "# sys.modules['sklearn.externals.six'] = six\n",
        "# import sklearn.neighbors._base\n",
        "# sys.modules['sklearn.neighbors.base'] = sklearn.neighbors._base\n",
        "\n",
        "import imblearn\n",
        "from imblearn.pipeline import Pipeline\n",
        "from imblearn.over_sampling import SMOTE\n",
        "from collections import Counter\n",
        "\n",
        "import statistics\n",
        "from scipy import interp\n",
        "from scipy.stats import truncnorm\n",
        "\n",
        "# fix random seed for reproducibility\n",
        "np.random.seed(14)\n",
        "tf.random.set_seed(14)\n",
        "os.environ['TF_DETERMINISTIC_OPS'] = '1'"
      ],
      "execution_count": null,
      "outputs": [
        {
          "output_type": "stream",
          "text": [
            "/usr/local/lib/python3.7/dist-packages/sklearn/externals/six.py:31: FutureWarning: The module is deprecated in version 0.21 and will be removed in version 0.23 since we've dropped support for Python 2.7. Please rely on the official version of six (https://pypi.org/project/six/).\n",
            "  \"(https://pypi.org/project/six/).\", FutureWarning)\n",
            "/usr/local/lib/python3.7/dist-packages/sklearn/utils/deprecation.py:144: FutureWarning: The sklearn.neighbors.base module is  deprecated in version 0.22 and will be removed in version 0.24. The corresponding classes / functions should instead be imported from sklearn.neighbors. Anything that cannot be imported from sklearn.neighbors is now part of the private API.\n",
            "  warnings.warn(message, FutureWarning)\n"
          ],
          "name": "stderr"
        }
      ]
    },
    {
      "cell_type": "markdown",
      "metadata": {
        "id": "ar88ziR6OrlG"
      },
      "source": [
        "# **Import data**  \n",
        "Final dataset created using \"create_extracted_dataset.R\"\n",
        "\n",
        "Combining data from:\n",
        "1. Duolingo spaced repetition (1.21 GB)\n",
        "> B. Settles and B. Meeder. 2016. A Trainable Spaced Repetition Model for Language Learning.\n",
        "In Proceedings of the Association for Computational Linguistics (ACL), pages 1848-1858.<br/>\n",
        "> https://dataverse.harvard.edu/dataset.xhtml?persistentId=doi:10.7910/DVN/N8XJME\n",
        "2. SUBTLEX-US data \n",
        ">Manually created on http://www.lexique.org/shiny/openlexicon/\n",
        "3. \"Emotion dictionary\", created by Geoff Hollis and Chris Westbury based on Warriner, Kuperman and Brysbaert (*2007*)\n",
        ">Link: http://crr.ugent.be/programs-data,<br/>\n",
        ">Direct link: https://sites.ualberta.ca/~hollis/files/emotion_dict.csv\n",
        "\n"
      ]
    },
    {
      "cell_type": "code",
      "metadata": {
        "colab": {
          "base_uri": "https://localhost:8080/"
        },
        "id": "ltxj8dh7Ovpq",
        "outputId": "1cd55ed1-5340-4fe7-f7c7-6b7f7eabcbee"
      },
      "source": [
        "final_dataset = pd.read_csv(\"drive/My Drive/Colab Notebooks/Master thesis/final_dataset.csv\", sep=',')\n",
        "final_dataset.head()"
      ],
      "execution_count": null,
      "outputs": [
        {
          "output_type": "execute_result",
          "data": {
            "text/html": [
              "<div>\n",
              "<style scoped>\n",
              "    .dataframe tbody tr th:only-of-type {\n",
              "        vertical-align: middle;\n",
              "    }\n",
              "\n",
              "    .dataframe tbody tr th {\n",
              "        vertical-align: top;\n",
              "    }\n",
              "\n",
              "    .dataframe thead th {\n",
              "        text-align: right;\n",
              "    }\n",
              "</style>\n",
              "<table border=\"1\" class=\"dataframe\">\n",
              "  <thead>\n",
              "    <tr style=\"text-align: right;\">\n",
              "      <th></th>\n",
              "      <th>p_recall</th>\n",
              "      <th>timestamp</th>\n",
              "      <th>delta</th>\n",
              "      <th>history_seen</th>\n",
              "      <th>history_correct</th>\n",
              "      <th>history_incorrect</th>\n",
              "      <th>dummy_noun</th>\n",
              "      <th>dummy_verb</th>\n",
              "      <th>words</th>\n",
              "      <th>FREQcount</th>\n",
              "      <th>CDcount</th>\n",
              "      <th>Valence</th>\n",
              "      <th>Arousal</th>\n",
              "      <th>Concreteness</th>\n",
              "    </tr>\n",
              "  </thead>\n",
              "  <tbody>\n",
              "    <tr>\n",
              "      <th>0</th>\n",
              "      <td>1</td>\n",
              "      <td>1362082519</td>\n",
              "      <td>3888560</td>\n",
              "      <td>5</td>\n",
              "      <td>5</td>\n",
              "      <td>0</td>\n",
              "      <td>0</td>\n",
              "      <td>1</td>\n",
              "      <td>thank</td>\n",
              "      <td>56877</td>\n",
              "      <td>7790</td>\n",
              "      <td>0.751554</td>\n",
              "      <td>0.377968</td>\n",
              "      <td>0.557784</td>\n",
              "    </tr>\n",
              "    <tr>\n",
              "      <th>1</th>\n",
              "      <td>1</td>\n",
              "      <td>1362082532</td>\n",
              "      <td>287</td>\n",
              "      <td>40</td>\n",
              "      <td>37</td>\n",
              "      <td>3</td>\n",
              "      <td>0</td>\n",
              "      <td>0</td>\n",
              "      <td>i</td>\n",
              "      <td>2038529</td>\n",
              "      <td>8372</td>\n",
              "      <td>0.544628</td>\n",
              "      <td>0.371790</td>\n",
              "      <td>0.533944</td>\n",
              "    </tr>\n",
              "    <tr>\n",
              "      <th>2</th>\n",
              "      <td>1</td>\n",
              "      <td>1362082532</td>\n",
              "      <td>287</td>\n",
              "      <td>87</td>\n",
              "      <td>80</td>\n",
              "      <td>7</td>\n",
              "      <td>0</td>\n",
              "      <td>0</td>\n",
              "      <td>the</td>\n",
              "      <td>1501908</td>\n",
              "      <td>8388</td>\n",
              "      <td>0.645179</td>\n",
              "      <td>0.330776</td>\n",
              "      <td>0.461627</td>\n",
              "    </tr>\n",
              "    <tr>\n",
              "      <th>3</th>\n",
              "      <td>1</td>\n",
              "      <td>1362082532</td>\n",
              "      <td>287</td>\n",
              "      <td>79</td>\n",
              "      <td>70</td>\n",
              "      <td>9</td>\n",
              "      <td>1</td>\n",
              "      <td>0</td>\n",
              "      <td>apple</td>\n",
              "      <td>1207</td>\n",
              "      <td>689</td>\n",
              "      <td>0.646746</td>\n",
              "      <td>0.339613</td>\n",
              "      <td>0.974410</td>\n",
              "    </tr>\n",
              "    <tr>\n",
              "      <th>4</th>\n",
              "      <td>1</td>\n",
              "      <td>1362082532</td>\n",
              "      <td>287</td>\n",
              "      <td>64</td>\n",
              "      <td>56</td>\n",
              "      <td>8</td>\n",
              "      <td>1</td>\n",
              "      <td>0</td>\n",
              "      <td>man</td>\n",
              "      <td>94133</td>\n",
              "      <td>8054</td>\n",
              "      <td>0.505728</td>\n",
              "      <td>0.451745</td>\n",
              "      <td>0.916435</td>\n",
              "    </tr>\n",
              "  </tbody>\n",
              "</table>\n",
              "</div>"
            ],
            "text/plain": [
              "   p_recall   timestamp    delta  ...   Valence   Arousal  Concreteness\n",
              "0         1  1362082519  3888560  ...  0.751554  0.377968      0.557784\n",
              "1         1  1362082532      287  ...  0.544628  0.371790      0.533944\n",
              "2         1  1362082532      287  ...  0.645179  0.330776      0.461627\n",
              "3         1  1362082532      287  ...  0.646746  0.339613      0.974410\n",
              "4         1  1362082532      287  ...  0.505728  0.451745      0.916435\n",
              "\n",
              "[5 rows x 14 columns]"
            ]
          },
          "metadata": {
            "tags": []
          },
          "execution_count": 5
        }
      ]
    },
    {
      "cell_type": "code",
      "metadata": {
        "colab": {
          "base_uri": "https://localhost:8080/"
        },
        "id": "eSY76-Fg9Bua",
        "outputId": "443d2a6a-0dee-41c6-fedf-852797743812"
      },
      "source": [
        "# Don't want the \"words\" column.\n",
        "final_dataset.pop('words')\n",
        "final_dataset.describe()"
      ],
      "execution_count": null,
      "outputs": [
        {
          "output_type": "execute_result",
          "data": {
            "text/html": [
              "<div>\n",
              "<style scoped>\n",
              "    .dataframe tbody tr th:only-of-type {\n",
              "        vertical-align: middle;\n",
              "    }\n",
              "\n",
              "    .dataframe tbody tr th {\n",
              "        vertical-align: top;\n",
              "    }\n",
              "\n",
              "    .dataframe thead th {\n",
              "        text-align: right;\n",
              "    }\n",
              "</style>\n",
              "<table border=\"1\" class=\"dataframe\">\n",
              "  <thead>\n",
              "    <tr style=\"text-align: right;\">\n",
              "      <th></th>\n",
              "      <th>p_recall</th>\n",
              "      <th>timestamp</th>\n",
              "      <th>delta</th>\n",
              "      <th>history_seen</th>\n",
              "      <th>history_correct</th>\n",
              "      <th>history_incorrect</th>\n",
              "      <th>dummy_noun</th>\n",
              "      <th>dummy_verb</th>\n",
              "      <th>FREQcount</th>\n",
              "      <th>CDcount</th>\n",
              "      <th>Valence</th>\n",
              "      <th>Arousal</th>\n",
              "      <th>Concreteness</th>\n",
              "    </tr>\n",
              "  </thead>\n",
              "  <tbody>\n",
              "    <tr>\n",
              "      <th>count</th>\n",
              "      <td>3.628934e+06</td>\n",
              "      <td>3.628934e+06</td>\n",
              "      <td>3.628934e+06</td>\n",
              "      <td>3.628934e+06</td>\n",
              "      <td>3.628934e+06</td>\n",
              "      <td>3.628934e+06</td>\n",
              "      <td>3.628934e+06</td>\n",
              "      <td>3.628934e+06</td>\n",
              "      <td>3.628934e+06</td>\n",
              "      <td>3.628934e+06</td>\n",
              "      <td>3.628934e+06</td>\n",
              "      <td>3.628934e+06</td>\n",
              "      <td>3.628934e+06</td>\n",
              "    </tr>\n",
              "    <tr>\n",
              "      <th>mean</th>\n",
              "      <td>8.361450e-01</td>\n",
              "      <td>1.362589e+09</td>\n",
              "      <td>6.862933e+05</td>\n",
              "      <td>3.972093e+01</td>\n",
              "      <td>3.424126e+01</td>\n",
              "      <td>5.479667e+00</td>\n",
              "      <td>4.666492e-01</td>\n",
              "      <td>2.197202e-01</td>\n",
              "      <td>1.600285e+05</td>\n",
              "      <td>4.338620e+03</td>\n",
              "      <td>6.057379e-01</td>\n",
              "      <td>3.775665e-01</td>\n",
              "      <td>6.499140e-01</td>\n",
              "    </tr>\n",
              "    <tr>\n",
              "      <th>std</th>\n",
              "      <td>3.701440e-01</td>\n",
              "      <td>2.942436e+05</td>\n",
              "      <td>2.084959e+06</td>\n",
              "      <td>2.311720e+02</td>\n",
              "      <td>1.985168e+02</td>\n",
              "      <td>4.987316e+01</td>\n",
              "      <td>4.988866e-01</td>\n",
              "      <td>4.140571e-01</td>\n",
              "      <td>3.646153e+05</td>\n",
              "      <td>3.257039e+03</td>\n",
              "      <td>6.758736e-02</td>\n",
              "      <td>4.693279e-02</td>\n",
              "      <td>2.153472e-01</td>\n",
              "    </tr>\n",
              "    <tr>\n",
              "      <th>min</th>\n",
              "      <td>0.000000e+00</td>\n",
              "      <td>1.362083e+09</td>\n",
              "      <td>1.000000e+00</td>\n",
              "      <td>1.000000e+00</td>\n",
              "      <td>1.000000e+00</td>\n",
              "      <td>0.000000e+00</td>\n",
              "      <td>0.000000e+00</td>\n",
              "      <td>0.000000e+00</td>\n",
              "      <td>1.900000e+01</td>\n",
              "      <td>1.400000e+01</td>\n",
              "      <td>1.331056e-01</td>\n",
              "      <td>1.841600e-01</td>\n",
              "      <td>9.250205e-02</td>\n",
              "    </tr>\n",
              "    <tr>\n",
              "      <th>25%</th>\n",
              "      <td>1.000000e+00</td>\n",
              "      <td>1.362346e+09</td>\n",
              "      <td>4.690000e+02</td>\n",
              "      <td>4.000000e+00</td>\n",
              "      <td>3.000000e+00</td>\n",
              "      <td>0.000000e+00</td>\n",
              "      <td>0.000000e+00</td>\n",
              "      <td>0.000000e+00</td>\n",
              "      <td>1.724000e+03</td>\n",
              "      <td>1.022000e+03</td>\n",
              "      <td>5.621335e-01</td>\n",
              "      <td>3.460062e-01</td>\n",
              "      <td>4.692620e-01</td>\n",
              "    </tr>\n",
              "    <tr>\n",
              "      <th>50%</th>\n",
              "      <td>1.000000e+00</td>\n",
              "      <td>1.362595e+09</td>\n",
              "      <td>4.183800e+04</td>\n",
              "      <td>8.000000e+00</td>\n",
              "      <td>7.000000e+00</td>\n",
              "      <td>1.000000e+00</td>\n",
              "      <td>0.000000e+00</td>\n",
              "      <td>0.000000e+00</td>\n",
              "      <td>1.033600e+04</td>\n",
              "      <td>3.827000e+03</td>\n",
              "      <td>6.057379e-01</td>\n",
              "      <td>3.760237e-01</td>\n",
              "      <td>6.539603e-01</td>\n",
              "    </tr>\n",
              "    <tr>\n",
              "      <th>75%</th>\n",
              "      <td>1.000000e+00</td>\n",
              "      <td>1.362845e+09</td>\n",
              "      <td>3.846388e+05</td>\n",
              "      <td>2.000000e+01</td>\n",
              "      <td>1.800000e+01</td>\n",
              "      <td>2.000000e+00</td>\n",
              "      <td>1.000000e+00</td>\n",
              "      <td>0.000000e+00</td>\n",
              "      <td>1.083640e+05</td>\n",
              "      <td>8.254000e+03</td>\n",
              "      <td>6.467458e-01</td>\n",
              "      <td>4.038101e-01</td>\n",
              "      <td>8.294996e-01</td>\n",
              "    </tr>\n",
              "    <tr>\n",
              "      <th>max</th>\n",
              "      <td>1.000000e+00</td>\n",
              "      <td>1.363105e+09</td>\n",
              "      <td>3.724681e+07</td>\n",
              "      <td>1.351800e+04</td>\n",
              "      <td>1.288800e+04</td>\n",
              "      <td>2.457000e+03</td>\n",
              "      <td>1.000000e+00</td>\n",
              "      <td>1.000000e+00</td>\n",
              "      <td>2.134713e+06</td>\n",
              "      <td>8.388000e+03</td>\n",
              "      <td>8.936641e-01</td>\n",
              "      <td>6.609906e-01</td>\n",
              "      <td>1.074385e+00</td>\n",
              "    </tr>\n",
              "  </tbody>\n",
              "</table>\n",
              "</div>"
            ],
            "text/plain": [
              "           p_recall     timestamp  ...       Arousal  Concreteness\n",
              "count  3.628934e+06  3.628934e+06  ...  3.628934e+06  3.628934e+06\n",
              "mean   8.361450e-01  1.362589e+09  ...  3.775665e-01  6.499140e-01\n",
              "std    3.701440e-01  2.942436e+05  ...  4.693279e-02  2.153472e-01\n",
              "min    0.000000e+00  1.362083e+09  ...  1.841600e-01  9.250205e-02\n",
              "25%    1.000000e+00  1.362346e+09  ...  3.460062e-01  4.692620e-01\n",
              "50%    1.000000e+00  1.362595e+09  ...  3.760237e-01  6.539603e-01\n",
              "75%    1.000000e+00  1.362845e+09  ...  4.038101e-01  8.294996e-01\n",
              "max    1.000000e+00  1.363105e+09  ...  6.609906e-01  1.074385e+00\n",
              "\n",
              "[8 rows x 13 columns]"
            ]
          },
          "metadata": {
            "tags": []
          },
          "execution_count": 6
        }
      ]
    },
    {
      "cell_type": "markdown",
      "metadata": {
        "id": "xf8Apb5xMK_J"
      },
      "source": [
        "# **Clean data**"
      ]
    },
    {
      "cell_type": "code",
      "metadata": {
        "colab": {
          "base_uri": "https://localhost:8080/"
        },
        "id": "em_IZwZ6WXoT",
        "outputId": "400674cc-e860-457d-9a6a-f4a70c06b827"
      },
      "source": [
        "cleaned_df = final_dataset.copy()\n",
        "\n",
        "# Columns covering a huge range. Convert to log-space.\n",
        "cleaned_df['log timestamp'] = np.log(cleaned_df.pop('timestamp'))\n",
        "cleaned_df['log delta'] = np.log(cleaned_df.pop('delta'))\n",
        "cleaned_df['log history_seen'] = np.log(cleaned_df.pop('history_seen'))\n",
        "cleaned_df['log history_correct'] = np.log(cleaned_df.pop('history_correct'))\n",
        "cleaned_df['log FREQcount'] = np.log(cleaned_df.pop('FREQcount'))\n",
        "cleaned_df['log CDcount'] = np.log(cleaned_df.pop('CDcount'))\n",
        "cleaned_df['log Valence'] = np.log(cleaned_df.pop('Valence'))\n",
        "cleaned_df['log Arousal'] = np.log(cleaned_df.pop('Arousal'))\n",
        "cleaned_df['log Concreteness'] = np.log(cleaned_df.pop('Concreteness'))\n",
        "cleaned_df.describe()"
      ],
      "execution_count": null,
      "outputs": [
        {
          "output_type": "execute_result",
          "data": {
            "text/html": [
              "<div>\n",
              "<style scoped>\n",
              "    .dataframe tbody tr th:only-of-type {\n",
              "        vertical-align: middle;\n",
              "    }\n",
              "\n",
              "    .dataframe tbody tr th {\n",
              "        vertical-align: top;\n",
              "    }\n",
              "\n",
              "    .dataframe thead th {\n",
              "        text-align: right;\n",
              "    }\n",
              "</style>\n",
              "<table border=\"1\" class=\"dataframe\">\n",
              "  <thead>\n",
              "    <tr style=\"text-align: right;\">\n",
              "      <th></th>\n",
              "      <th>p_recall</th>\n",
              "      <th>history_incorrect</th>\n",
              "      <th>dummy_noun</th>\n",
              "      <th>dummy_verb</th>\n",
              "      <th>log timestamp</th>\n",
              "      <th>log delta</th>\n",
              "      <th>log history_seen</th>\n",
              "      <th>log history_correct</th>\n",
              "      <th>log FREQcount</th>\n",
              "      <th>log CDcount</th>\n",
              "      <th>log Valence</th>\n",
              "      <th>log Arousal</th>\n",
              "      <th>log Concreteness</th>\n",
              "    </tr>\n",
              "  </thead>\n",
              "  <tbody>\n",
              "    <tr>\n",
              "      <th>count</th>\n",
              "      <td>3.628934e+06</td>\n",
              "      <td>3.628934e+06</td>\n",
              "      <td>3.628934e+06</td>\n",
              "      <td>3.628934e+06</td>\n",
              "      <td>3.628934e+06</td>\n",
              "      <td>3.628934e+06</td>\n",
              "      <td>3.628934e+06</td>\n",
              "      <td>3.628934e+06</td>\n",
              "      <td>3.628934e+06</td>\n",
              "      <td>3.628934e+06</td>\n",
              "      <td>3.628934e+06</td>\n",
              "      <td>3.628934e+06</td>\n",
              "      <td>3.628934e+06</td>\n",
              "    </tr>\n",
              "    <tr>\n",
              "      <th>mean</th>\n",
              "      <td>8.361450e-01</td>\n",
              "      <td>5.479667e+00</td>\n",
              "      <td>4.666492e-01</td>\n",
              "      <td>2.197202e-01</td>\n",
              "      <td>2.103265e+01</td>\n",
              "      <td>9.752850e+00</td>\n",
              "      <td>2.275656e+00</td>\n",
              "      <td>2.160277e+00</td>\n",
              "      <td>9.518371e+00</td>\n",
              "      <td>7.862031e+00</td>\n",
              "      <td>-5.078608e-01</td>\n",
              "      <td>-9.817592e-01</td>\n",
              "      <td>-4.956570e-01</td>\n",
              "    </tr>\n",
              "    <tr>\n",
              "      <th>std</th>\n",
              "      <td>3.701440e-01</td>\n",
              "      <td>4.987316e+01</td>\n",
              "      <td>4.988866e-01</td>\n",
              "      <td>4.140571e-01</td>\n",
              "      <td>2.159446e-04</td>\n",
              "      <td>3.559627e+00</td>\n",
              "      <td>1.315525e+00</td>\n",
              "      <td>1.317163e+00</td>\n",
              "      <td>2.492906e+00</td>\n",
              "      <td>1.213273e+00</td>\n",
              "      <td>1.166200e-01</td>\n",
              "      <td>1.248932e-01</td>\n",
              "      <td>3.782716e-01</td>\n",
              "    </tr>\n",
              "    <tr>\n",
              "      <th>min</th>\n",
              "      <td>0.000000e+00</td>\n",
              "      <td>0.000000e+00</td>\n",
              "      <td>0.000000e+00</td>\n",
              "      <td>0.000000e+00</td>\n",
              "      <td>2.103228e+01</td>\n",
              "      <td>0.000000e+00</td>\n",
              "      <td>0.000000e+00</td>\n",
              "      <td>0.000000e+00</td>\n",
              "      <td>2.944439e+00</td>\n",
              "      <td>2.639057e+00</td>\n",
              "      <td>-2.016613e+00</td>\n",
              "      <td>-1.691950e+00</td>\n",
              "      <td>-2.380524e+00</td>\n",
              "    </tr>\n",
              "    <tr>\n",
              "      <th>25%</th>\n",
              "      <td>1.000000e+00</td>\n",
              "      <td>0.000000e+00</td>\n",
              "      <td>0.000000e+00</td>\n",
              "      <td>0.000000e+00</td>\n",
              "      <td>2.103247e+01</td>\n",
              "      <td>6.150603e+00</td>\n",
              "      <td>1.386294e+00</td>\n",
              "      <td>1.098612e+00</td>\n",
              "      <td>7.452402e+00</td>\n",
              "      <td>6.929517e+00</td>\n",
              "      <td>-5.760160e-01</td>\n",
              "      <td>-1.061299e+00</td>\n",
              "      <td>-7.565941e-01</td>\n",
              "    </tr>\n",
              "    <tr>\n",
              "      <th>50%</th>\n",
              "      <td>1.000000e+00</td>\n",
              "      <td>1.000000e+00</td>\n",
              "      <td>0.000000e+00</td>\n",
              "      <td>0.000000e+00</td>\n",
              "      <td>2.103266e+01</td>\n",
              "      <td>1.064156e+01</td>\n",
              "      <td>2.079442e+00</td>\n",
              "      <td>1.945910e+00</td>\n",
              "      <td>9.243388e+00</td>\n",
              "      <td>8.249836e+00</td>\n",
              "      <td>-5.013079e-01</td>\n",
              "      <td>-9.781031e-01</td>\n",
              "      <td>-4.247086e-01</td>\n",
              "    </tr>\n",
              "    <tr>\n",
              "      <th>75%</th>\n",
              "      <td>1.000000e+00</td>\n",
              "      <td>2.000000e+00</td>\n",
              "      <td>1.000000e+00</td>\n",
              "      <td>0.000000e+00</td>\n",
              "      <td>2.103284e+01</td>\n",
              "      <td>1.286006e+01</td>\n",
              "      <td>2.995732e+00</td>\n",
              "      <td>2.890372e+00</td>\n",
              "      <td>1.159325e+01</td>\n",
              "      <td>9.018453e+00</td>\n",
              "      <td>-4.358019e-01</td>\n",
              "      <td>-9.068106e-01</td>\n",
              "      <td>-1.869326e-01</td>\n",
              "    </tr>\n",
              "    <tr>\n",
              "      <th>max</th>\n",
              "      <td>1.000000e+00</td>\n",
              "      <td>2.457000e+03</td>\n",
              "      <td>1.000000e+00</td>\n",
              "      <td>1.000000e+00</td>\n",
              "      <td>2.103303e+01</td>\n",
              "      <td>1.743308e+01</td>\n",
              "      <td>9.511777e+00</td>\n",
              "      <td>9.464052e+00</td>\n",
              "      <td>1.457384e+01</td>\n",
              "      <td>9.034557e+00</td>\n",
              "      <td>-1.124253e-01</td>\n",
              "      <td>-4.140156e-01</td>\n",
              "      <td>7.174847e-02</td>\n",
              "    </tr>\n",
              "  </tbody>\n",
              "</table>\n",
              "</div>"
            ],
            "text/plain": [
              "           p_recall  history_incorrect  ...   log Arousal  log Concreteness\n",
              "count  3.628934e+06       3.628934e+06  ...  3.628934e+06      3.628934e+06\n",
              "mean   8.361450e-01       5.479667e+00  ... -9.817592e-01     -4.956570e-01\n",
              "std    3.701440e-01       4.987316e+01  ...  1.248932e-01      3.782716e-01\n",
              "min    0.000000e+00       0.000000e+00  ... -1.691950e+00     -2.380524e+00\n",
              "25%    1.000000e+00       0.000000e+00  ... -1.061299e+00     -7.565941e-01\n",
              "50%    1.000000e+00       1.000000e+00  ... -9.781031e-01     -4.247086e-01\n",
              "75%    1.000000e+00       2.000000e+00  ... -9.068106e-01     -1.869326e-01\n",
              "max    1.000000e+00       2.457000e+03  ... -4.140156e-01      7.174847e-02\n",
              "\n",
              "[8 rows x 13 columns]"
            ]
          },
          "metadata": {
            "tags": []
          },
          "execution_count": 7
        }
      ]
    },
    {
      "cell_type": "markdown",
      "metadata": {
        "id": "JHZt2yHfOxfh"
      },
      "source": [
        "**Imbalanced data**  \n",
        "On target variable \"p_recall\""
      ]
    },
    {
      "cell_type": "code",
      "metadata": {
        "colab": {
          "base_uri": "https://localhost:8080/"
        },
        "id": "SXoiXKd7OvlU",
        "outputId": "78d77131-7c3d-4d78-dc4e-2934ca04a210"
      },
      "source": [
        "# Describe target\n",
        "neg_clean, pos_clean = np.bincount(cleaned_df['p_recall'])\n",
        "total_clean = neg_clean + pos_clean\n",
        "print('Examples:\\n\\tTotal:\\t\\t{}\\n\\tNegative:\\t{}\\t({:.2f}% of total)\\n\\tPositive:\\t{}\\t({:.2f}% of total)\\n'.format(\n",
        "    total_clean, neg_clean, 100 * neg_clean / total_clean, pos_clean, 100 * pos_clean / total_clean))\n",
        "# visualize target\n",
        "g = sns.countplot(x='p_recall',data=cleaned_df)\n",
        "g.set_xticklabels(['Unsuccessful session','Successful session'])\n",
        "plt.show()"
      ],
      "execution_count": null,
      "outputs": [
        {
          "output_type": "stream",
          "text": [
            "Examples:\n",
            "\tTotal:\t\t3628934\n",
            "\tNegative:\t594619\t(16.39% of total)\n",
            "\tPositive:\t3034315\t(83.61% of total)\n",
            "\n"
          ],
          "name": "stdout"
        },
        {
          "output_type": "display_data",
          "data": {
            "image/png": "[encoded data removed]",
            "text/plain": [
              "<Figure size 432x288 with 1 Axes>"
            ]
          },
          "metadata": {
            "tags": [],
            "needs_background": "light"
          }
        }
      ]
    },
    {
      "cell_type": "markdown",
      "metadata": {
        "id": "HaBz38EqS57m"
      },
      "source": [
        "# **Create features and labels**"
      ]
    },
    {
      "cell_type": "code",
      "metadata": {
        "id": "AkYF4bebS5q9"
      },
      "source": [
        "# Create labels train and test\n",
        "# .pop already deletes p_recall from data\n",
        "df = cleaned_df.copy()\n",
        "\n",
        "y = np.array(df.pop('p_recall'))\n",
        "x = np.array(df.copy())"
      ],
      "execution_count": null,
      "outputs": []
    },
    {
      "cell_type": "markdown",
      "metadata": {
        "id": "nVIiWWEaN5bA"
      },
      "source": [
        "# **MLP Plots**  \n",
        "Visualisation of neural network"
      ]
    },
    {
      "cell_type": "code",
      "metadata": {
        "colab": {
          "base_uri": "https://localhost:8080/"
        },
        "id": "iJ1tvdmJORNt",
        "outputId": "0f2e3a61-daf6-4b8d-b7fa-a184226ffcf9"
      },
      "source": [
        "# Reset keras session\n",
        "K.clear_session()\n",
        "\n",
        "def make_model():\n",
        "  model = keras.Sequential([\n",
        "      # bias = false because batchnorm\n",
        "      keras.layers.Dense(64, activation='relu', input_shape=(12,), use_bias=False),\n",
        "      keras.layers.BatchNormalization(),\n",
        "      keras.layers.Dropout(0.1),\n",
        "      keras.layers.Dense(64, activation='relu', use_bias=False),\n",
        "      keras.layers.BatchNormalization(),\n",
        "      keras.layers.Dropout(0.1),\n",
        "      keras.layers.Dense(64, activation='relu', use_bias=False),\n",
        "      keras.layers.BatchNormalization(),\n",
        "      keras.layers.Dropout(0.1),\n",
        "      keras.layers.Dense(1, activation='sigmoid'),\n",
        "  ])\n",
        "  model.compile(\n",
        "      optimizer=keras.optimizers.Adam(learning_rate=.001),\n",
        "      loss=keras.losses.BinaryCrossentropy(),\n",
        "      )\n",
        "\n",
        "  return model\n",
        "\n",
        "model = make_model()\n",
        "model.summary()"
      ],
      "execution_count": null,
      "outputs": [
        {
          "output_type": "stream",
          "text": [
            "Model: \"sequential\"\n",
            "_________________________________________________________________\n",
            "Layer (type)                 Output Shape              Param #   \n",
            "=================================================================\n",
            "dense (Dense)                (None, 64)                768       \n",
            "_________________________________________________________________\n",
            "batch_normalization (BatchNo (None, 64)                256       \n",
            "_________________________________________________________________\n",
            "dropout (Dropout)            (None, 64)                0         \n",
            "_________________________________________________________________\n",
            "dense_1 (Dense)              (None, 64)                4096      \n",
            "_________________________________________________________________\n",
            "batch_normalization_1 (Batch (None, 64)                256       \n",
            "_________________________________________________________________\n",
            "dropout_1 (Dropout)          (None, 64)                0         \n",
            "_________________________________________________________________\n",
            "dense_2 (Dense)              (None, 64)                4096      \n",
            "_________________________________________________________________\n",
            "batch_normalization_2 (Batch (None, 64)                256       \n",
            "_________________________________________________________________\n",
            "dropout_2 (Dropout)          (None, 64)                0         \n",
            "_________________________________________________________________\n",
            "dense_3 (Dense)              (None, 1)                 65        \n",
            "=================================================================\n",
            "Total params: 9,793\n",
            "Trainable params: 9,409\n",
            "Non-trainable params: 384\n",
            "_________________________________________________________________\n"
          ],
          "name": "stdout"
        }
      ]
    },
    {
      "cell_type": "code",
      "metadata": {
        "colab": {
          "base_uri": "https://localhost:8080/",
          "height": 1000
        },
        "id": "jPbnBP_mlvIq",
        "outputId": "e6937212-9b9e-4882-837d-397ce326e521"
      },
      "source": [
        "# Nice visualisation\n",
        "plot_model(model, to_file='/content/drive/My Drive/Colab Notebooks/Results/MLP_plot.png', show_shapes=True, show_layer_names=True)"
      ],
      "execution_count": null,
      "outputs": [
        {
          "output_type": "execute_result",
          "data": {
            "image/png": "[encoded data removed]",
            "text/plain": [
              "<IPython.core.display.Image object>"
            ]
          },
          "metadata": {
            "tags": []
          },
          "execution_count": 11
        }
      ]
    },
    {
      "cell_type": "markdown",
      "metadata": {
        "id": "izAPLGKDLQ2f"
      },
      "source": [
        "# **MLP Model**  \n",
        "3 repeated stratified 5 fold  \n",
        "Sampler and scaler + reshaping data done manually"
      ]
    },
    {
      "cell_type": "markdown",
      "metadata": {
        "id": "nLG8Wk4ySwE0"
      },
      "source": [
        "Confusion matrix printing in output (to check F1 and specificity)\n"
      ]
    },
    {
      "cell_type": "code",
      "metadata": {
        "id": "0eg9AC2CP211"
      },
      "source": [
        "def plot_cm(labels, predictions, p=0.5):\n",
        "  cm = confusion_matrix(labels, predictions > p)\n",
        "  print('\\np_recall 0 correctly predicted (True Negatives):\\t', cm[0][0])\n",
        "  print('p_recall 1 incorrectly predicted (False Positives):\\t', cm[0][1])\n",
        "  print('p_recall 0 incorrectly predicted (False Negatives):\\t', cm[1][0])\n",
        "  print('p_recall 1 correctly predicted (True Positives):\\t', cm[1][1])\n",
        "  print('Total incorrectly predicted p_recall:\\t\\t\\t', cm[1][0]+cm[0][1])"
      ],
      "execution_count": null,
      "outputs": []
    },
    {
      "cell_type": "code",
      "metadata": {
        "id": "ZSimp_1bGIIa"
      },
      "source": [
        "# Reset keras session\n",
        "K.clear_session()\n",
        "\n",
        "# fix random seed for reproducibility\n",
        "np.random.seed(14)\n",
        "tf.random.set_seed(14)\n",
        "\n",
        "rus = SMOTE(random_state=14, n_jobs=-1)\n",
        "scaler = StandardScaler()\n",
        "a = 0\n",
        "b = 0\n",
        "\n",
        "METRICS = [\n",
        "          keras.metrics.TruePositives(name='tp'),\n",
        "          keras.metrics.FalsePositives(name='fp'),\n",
        "          keras.metrics.TrueNegatives(name='tn'),\n",
        "          keras.metrics.FalseNegatives(name='fn'),\n",
        "          keras.metrics.BinaryAccuracy(name='accuracy'),\n",
        "          keras.metrics.AUC(name='ROC_AUC'),\n",
        "          keras.metrics.AUC(name='prc', curve='PR'), # precision-recall curve as a little extra\n",
        "    ]\n",
        "\n",
        "# Max 100 epochs\n",
        "# Highest batchsize possible (high number of lines)\n",
        "EPOCHS = 100\n",
        "BATCH_SIZE = 16384\n",
        "\n",
        "# Use early stopping, min validation loss, patience: 10 epoch\n",
        "early_stopping = tf.keras.callbacks.EarlyStopping(\n",
        "    monitor='val_loss', \n",
        "    verbose=1,\n",
        "    patience=20,\n",
        "    mode='min',\n",
        "    restore_best_weights=True)\n",
        "\n",
        "# k-fold: 5, repeat: 3, random_state to reproduce because comp and time restriction (multiple models)\n",
        "cv = RepeatedStratifiedKFold(n_splits=5, n_repeats=3, random_state=14)"
      ],
      "execution_count": null,
      "outputs": []
    },
    {
      "cell_type": "code",
      "metadata": {
        "colab": {
          "base_uri": "https://localhost:8080/",
          "height": 1000
        },
        "id": "K27K2L4asuIb",
        "outputId": "e14434cf-1d2d-4a3c-aff2-15f4ca5ac79d"
      },
      "source": [
        "# Runtime complete 3 repeated 5 fold in seconds:\n",
        "# 5000 sec (depends heavily on the google god's given GPU)\n",
        "\n",
        "# Manual loop to reshape k fold train data for GRU prediction model\n",
        "plt.rcParams[\"figure.figsize\"] = (12,12)\n",
        "\n",
        "accuracy_MLP = []\n",
        "specificity_MLP = []\n",
        "ROC_AUC_MLP = []\n",
        "F1_MLP = []\n",
        "\n",
        "# ROC AUC plot\n",
        "tprs = []\n",
        "aucs = []\n",
        "mean_fpr = np.linspace(0, 1, 100)\n",
        "fig, ax = plt.subplots()\n",
        "\n",
        "# Loop through the indices the split() method returns\n",
        "for index, (train_index, test_index) in enumerate(cv.split(x, y)):\n",
        "    index = index+1\n",
        "    \n",
        "    # Reset keras session\n",
        "    K.clear_session()\n",
        "\n",
        "    #print(\"TRAIN:\", train_index, \"TEST:\", test_index)\n",
        "    x_train, x_test = x[train_index], x[test_index]\n",
        "    y_train, y_test = y[train_index], y[test_index]\n",
        "\n",
        "    # Split temp train to train and val set \n",
        "    # Train = 0.6\n",
        "    # Val   = 0.2\n",
        "    # Test  = 0.2\n",
        "    train_features, val_features, train_labels, val_labels = train_test_split(\n",
        "        x_train, y_train, test_size=0.25,random_state=14, stratify = y_train)\n",
        "\n",
        "    # Sampling method\n",
        "    # SMOTE oversampling\n",
        "    train_features_rus1, train_labels_rus = rus.fit_resample(X = train_features, y = train_labels)\n",
        "\n",
        "    # Check Sampling method\n",
        "    while a < 1:\n",
        "      # Print initial split 80% train (train + val), 20% test\n",
        "      print('Train feats (train + val) dataset:', x_train.shape, '\\tTest feats:', x_test.shape)\n",
        "      print('Train labels (train + val) dataset:', y_train.shape, '\\t\\tTest labels:', y_test.shape)\n",
        "      \n",
        "      print('\\nTrain feats sampled dataset:', train_features_rus1.shape, '\\tVal feats:', val_features.shape, '\\tTest feats:', x_test.shape)\n",
        "      print('Train labels sampled dataset:',  train_labels_rus.shape, '\\tVal labels:', val_labels.shape, '\\t\\tTest labels:', y_test.shape)\n",
        "      # Check stratify\n",
        "      neg, pos = np.bincount(train_labels_rus)\n",
        "      total = neg + pos\n",
        "      print('\\nTrain set:\\n    Total:\\t{}\\n    Negative:\\t{}\\t({:.2f}%)\\n    Positive:\\t{}\\t({:.2f}%)'.format(\n",
        "          total, neg, 100 * neg / total, pos, 100 * pos / total))\n",
        "      neg, pos = np.bincount(val_labels)\n",
        "      total = neg + pos\n",
        "      print('\\nVal set:\\n    Total:\\t{}\\n    Negative:\\t{}\\t({:.2f}%)\\n    Positive:\\t{}\\t({:.2f}%)'.format(\n",
        "          total, neg, 100 * neg / total, pos, 100 * pos / total))\n",
        "      neg, pos = np.bincount(y_test)\n",
        "      total = neg + pos\n",
        "      print('\\nTest set:\\n    Total:\\t{}\\n    Negative:\\t{}\\t({:.2f}%)\\n    Positive:\\t{}\\t({:.2f}%)\\n'.format(\n",
        "          total, neg, 100 * neg / total, pos, 100 * pos / total))\n",
        "      a = a + 1\n",
        "\n",
        "    # Normalize using standardscaler\n",
        "    # Norm to mean 0, standard deviation 1\n",
        "    # Fit scaler on train data, and use it on val and test to simulate real world scenario and avoid data leakage\n",
        "    train_features_rus = scaler.fit_transform(train_features_rus1)\n",
        "    val_features_scaled = scaler.transform(val_features)\n",
        "    test_features_scaled = scaler.transform(x_test)\n",
        "\n",
        "    # Clear model, and create it\n",
        "    model = None\n",
        "\n",
        "    # Dunno if this works but as a proper programmer would say: best leave it... \n",
        "    os.environ['TF_DETERMINISTIC_OPS'] = '1'\n",
        "\n",
        "    # Create the model can be outside loop but can't be bothered \n",
        "    def make_model(metrics=METRICS):\n",
        "      model = keras.Sequential([\n",
        "          # bias = false because batchnorm\n",
        "          keras.layers.Dense(64, activation='relu', input_shape=(train_features_rus.shape[-1],), use_bias=False),\n",
        "          keras.layers.BatchNormalization(),\n",
        "          keras.layers.Dropout(0.1),\n",
        "          keras.layers.Dense(64, activation='relu', use_bias=False),\n",
        "          keras.layers.BatchNormalization(),\n",
        "          keras.layers.Dropout(0.1),\n",
        "          keras.layers.Dense(64, activation='relu', use_bias=False),\n",
        "          keras.layers.BatchNormalization(),\n",
        "          keras.layers.Dropout(0.1),\n",
        "          keras.layers.Dense(1, activation='sigmoid'),\n",
        "      ])\n",
        "\n",
        "      # Compile\n",
        "      model.compile(\n",
        "          optimizer=keras.optimizers.Adam(learning_rate=.001),\n",
        "          loss=keras.losses.BinaryCrossentropy(),\n",
        "          metrics=METRICS)\n",
        "      return model\n",
        "    \n",
        "    model = make_model()\n",
        "\n",
        "    # Fit model on train, use validation set for model fit\n",
        "    model.fit(train_features_rus,train_labels_rus, batch_size=BATCH_SIZE, epochs=EPOCHS,\n",
        "              callbacks=[early_stopping],validation_data=(val_features_scaled, val_labels), verbose=0)\n",
        "\n",
        "    # Predict on test\n",
        "    test_predictions_baseline = model.predict(test_features_scaled, batch_size=BATCH_SIZE, verbose=0)\n",
        "\n",
        "    # Evaluate on test\n",
        "    baseline_results = model.evaluate(test_features_scaled, y_test, batch_size=BATCH_SIZE, verbose=0)\n",
        "\n",
        "    # Append scores for future evalution\n",
        "    accuracy_MLP.append(baseline_results[5])\n",
        "    ROC_AUC_MLP.append(baseline_results[6])    \n",
        "\n",
        "    print('')\n",
        "    # Print all scores\n",
        "    for name, value in zip(model.metrics_names, baseline_results):\n",
        "      print(name, ': ', value)\n",
        "    \n",
        "    # Create and append F1 and specificity score, because only god knows why keras doesn't have it in their metrics\n",
        "    f1_score = 2 * (baseline_results[6] * baseline_results[7]) / (baseline_results[6] + baseline_results[7])\n",
        "    print('f1:', f1_score)\n",
        "    \n",
        "    # True neg / (true neg + false pos)\n",
        "    specificity_score = baseline_results[3] / (baseline_results[3] + baseline_results[2] + K.epsilon()) #tn / (tn + fn + epsilon in rare case of 0)\n",
        "    print('specificity:', specificity_score,'\\n')\n",
        "\n",
        "    F1_MLP.append(f1_score)\n",
        "    specificity_MLP.append(specificity_score)\n",
        "\n",
        "    # Add Classifier type to model (keras didn't add it dunno why)\n",
        "    model._estimator_type = \"classifier\"\n",
        "    # ROC AUC plot\n",
        "    # `model.predict_proba()` is deprecated, but this still works by altering estimator_type :)\n",
        "    probas_ = model.predict_proba(test_features_scaled)\n",
        "    # Compute ROC curve and area the curve\n",
        "    fpr, tpr, thresholds = roc_curve(y_test, probas_)\n",
        "    tprs.append(interp(mean_fpr, fpr, tpr))\n",
        "    tprs[-1][0] = 0.0\n",
        "    roc_auc = auc(fpr, tpr)\n",
        "    aucs.append(roc_auc)\n",
        "    plt.plot(fpr, tpr, lw=1, alpha=0.3,\n",
        "             label='ROC fold %d (AUC = %0.2f)' % (index, roc_auc))\n",
        "\n",
        "    # Future: Create and add averaged cm plot\n",
        "    # If time available...\n",
        "    plot_cm(y_test, test_predictions_baseline)\n",
        "\n",
        "    print('\\nRun:', index, 'completed\\n')\n",
        "\n",
        "plt.plot([0, 1], [0, 1], linestyle='--', lw=2, color='r',\n",
        "         label='Chance', alpha=.8)\n",
        "\n",
        "mean_tpr = np.mean(tprs, axis=0)\n",
        "mean_tpr[-1] = 1.0\n",
        "mean_auc = auc(mean_fpr, mean_tpr)\n",
        "std_auc = np.std(aucs)\n",
        "plt.plot(mean_fpr, mean_tpr, color='b',\n",
        "         label=r'Mean ROC (AUC = %0.2f $\\pm$ %0.2f)' % (mean_auc, std_auc),\n",
        "         lw=2, alpha=.8)\n",
        "\n",
        "std_tpr = np.std(tprs, axis=0)\n",
        "tprs_upper = np.minimum(mean_tpr + std_tpr, 1)\n",
        "tprs_lower = np.maximum(mean_tpr - std_tpr, 0)\n",
        "plt.fill_between(mean_fpr, tprs_lower, tprs_upper, color='grey', alpha=.2,\n",
        "                 label=r'$\\pm$ 1 std. dev.')\n",
        "\n",
        "plt.xlim([-0.01, 1.01])\n",
        "plt.ylim([-0.01, 1.01])\n",
        "plt.xlabel('False Positive Rate',fontsize=18)\n",
        "plt.ylabel('True Positive Rate',fontsize=18)\n",
        "plt.title('Cross-Validation ROC of GRU',fontsize=18)\n",
        "plt.legend(loc=\"lower right\", prop={'size': 12})\n",
        "\n",
        "# Specify ROC_AUC plot for sampling method\n",
        "plt.savefig('/content/drive/My Drive/Colab Notebooks/Results/SMOTE_MLP_ROC_AUC_plot.png')\n",
        "plt.show()"
      ],
      "execution_count": null,
      "outputs": [
        {
          "output_type": "stream",
          "text": [
            "/usr/local/lib/python3.7/dist-packages/sklearn/utils/deprecation.py:87: FutureWarning: Function safe_indexing is deprecated; safe_indexing is deprecated in version 0.22 and will be removed in version 0.24.\n",
            "  warnings.warn(msg, category=FutureWarning)\n"
          ],
          "name": "stderr"
        },
        {
          "output_type": "stream",
          "text": [
            "Train feats (train + val) dataset: (2903147, 12) \tTest feats: (725787, 12)\n",
            "Train labels (train + val) dataset: (2903147,) \t\tTest labels: (725787,)\n",
            "\n",
            "Train feats sampled dataset: (3641178, 12) \tVal feats: (725787, 12) \tTest feats: (725787, 12)\n",
            "Train labels sampled dataset: (3641178,) \tVal labels: (725787,) \t\tTest labels: (725787,)\n",
            "\n",
            "Train set:\n",
            "    Total:\t3641178\n",
            "    Negative:\t1820589\t(50.00%)\n",
            "    Positive:\t1820589\t(50.00%)\n",
            "\n",
            "Val set:\n",
            "    Total:\t725787\n",
            "    Negative:\t118924\t(16.39%)\n",
            "    Positive:\t606863\t(83.61%)\n",
            "\n",
            "Test set:\n",
            "    Total:\t725787\n",
            "    Negative:\t118924\t(16.39%)\n",
            "    Positive:\t606863\t(83.61%)\n",
            "\n",
            "Restoring model weights from the end of the best epoch.\n",
            "Epoch 00079: early stopping\n",
            "\n",
            "loss :  0.6212337613105774\n",
            "tp :  409352.0\n",
            "fp :  58137.0\n",
            "tn :  60787.0\n",
            "fn :  197511.0\n",
            "accuracy :  0.6477644443511963\n",
            "ROC_AUC :  0.633807897567749\n",
            "prc :  0.8901897668838501\n",
            "f1: 0.7404332929709637\n",
            "specificity: 0.511141569405241 \n",
            "\n"
          ],
          "name": "stdout"
        },
        {
          "output_type": "stream",
          "text": [
            "/usr/local/lib/python3.7/dist-packages/tensorflow/python/keras/engine/sequential.py:430: UserWarning: `model.predict_proba()` is deprecated and will be removed after 2021-01-01. Please use `model.predict()` instead.\n",
            "  warnings.warn('`model.predict_proba()` is deprecated and '\n",
            "/usr/local/lib/python3.7/dist-packages/ipykernel_launcher.py:138: DeprecationWarning: scipy.interp is deprecated and will be removed in SciPy 2.0.0, use numpy.interp instead\n"
          ],
          "name": "stderr"
        },
        {
          "output_type": "stream",
          "text": [
            "\n",
            "p_recall 0 correctly predicted (True Negatives):\t 60787\n",
            "p_recall 1 incorrectly predicted (False Positives):\t 58137\n",
            "p_recall 0 incorrectly predicted (False Negatives):\t 197511\n",
            "p_recall 1 correctly predicted (True Positives):\t 409352\n",
            "Total incorrectly predicted p_recall:\t\t\t 255648\n",
            "\n",
            "Run: 1 completed\n",
            "\n"
          ],
          "name": "stdout"
        },
        {
          "output_type": "stream",
          "text": [
            "/usr/local/lib/python3.7/dist-packages/sklearn/utils/deprecation.py:87: FutureWarning: Function safe_indexing is deprecated; safe_indexing is deprecated in version 0.22 and will be removed in version 0.24.\n",
            "  warnings.warn(msg, category=FutureWarning)\n"
          ],
          "name": "stderr"
        },
        {
          "output_type": "stream",
          "text": [
            "\n",
            "loss :  0.6224439144134521\n",
            "tp :  408644.0\n",
            "fp :  57745.0\n",
            "tn :  61179.0\n",
            "fn :  198219.0\n",
            "accuracy :  0.6473290324211121\n",
            "ROC_AUC :  0.6357938051223755\n",
            "prc :  0.8917405605316162\n",
            "f1: 0.742324541968153\n",
            "specificity: 0.5144377922029915 \n",
            "\n"
          ],
          "name": "stdout"
        },
        {
          "output_type": "stream",
          "text": [
            "/usr/local/lib/python3.7/dist-packages/tensorflow/python/keras/engine/sequential.py:430: UserWarning: `model.predict_proba()` is deprecated and will be removed after 2021-01-01. Please use `model.predict()` instead.\n",
            "  warnings.warn('`model.predict_proba()` is deprecated and '\n",
            "/usr/local/lib/python3.7/dist-packages/ipykernel_launcher.py:138: DeprecationWarning: scipy.interp is deprecated and will be removed in SciPy 2.0.0, use numpy.interp instead\n"
          ],
          "name": "stderr"
        },
        {
          "output_type": "stream",
          "text": [
            "\n",
            "p_recall 0 correctly predicted (True Negatives):\t 61179\n",
            "p_recall 1 incorrectly predicted (False Positives):\t 57745\n",
            "p_recall 0 incorrectly predicted (False Negatives):\t 198219\n",
            "p_recall 1 correctly predicted (True Positives):\t 408644\n",
            "Total incorrectly predicted p_recall:\t\t\t 255964\n",
            "\n",
            "Run: 2 completed\n",
            "\n"
          ],
          "name": "stdout"
        },
        {
          "output_type": "stream",
          "text": [
            "/usr/local/lib/python3.7/dist-packages/sklearn/utils/deprecation.py:87: FutureWarning: Function safe_indexing is deprecated; safe_indexing is deprecated in version 0.22 and will be removed in version 0.24.\n",
            "  warnings.warn(msg, category=FutureWarning)\n"
          ],
          "name": "stderr"
        },
        {
          "output_type": "stream",
          "text": [
            "\n",
            "loss :  0.6268913745880127\n",
            "tp :  402623.0\n",
            "fp :  56790.0\n",
            "tn :  62134.0\n",
            "fn :  204240.0\n",
            "accuracy :  0.6403490304946899\n",
            "ROC_AUC :  0.634047269821167\n",
            "prc :  0.890917956829071\n",
            "f1: 0.7408484971201054\n",
            "specificity: 0.5224681309066946 \n",
            "\n"
          ],
          "name": "stdout"
        },
        {
          "output_type": "stream",
          "text": [
            "/usr/local/lib/python3.7/dist-packages/tensorflow/python/keras/engine/sequential.py:430: UserWarning: `model.predict_proba()` is deprecated and will be removed after 2021-01-01. Please use `model.predict()` instead.\n",
            "  warnings.warn('`model.predict_proba()` is deprecated and '\n",
            "/usr/local/lib/python3.7/dist-packages/ipykernel_launcher.py:138: DeprecationWarning: scipy.interp is deprecated and will be removed in SciPy 2.0.0, use numpy.interp instead\n"
          ],
          "name": "stderr"
        },
        {
          "output_type": "stream",
          "text": [
            "\n",
            "p_recall 0 correctly predicted (True Negatives):\t 62134\n",
            "p_recall 1 incorrectly predicted (False Positives):\t 56790\n",
            "p_recall 0 incorrectly predicted (False Negatives):\t 204240\n",
            "p_recall 1 correctly predicted (True Positives):\t 402623\n",
            "Total incorrectly predicted p_recall:\t\t\t 261030\n",
            "\n",
            "Run: 3 completed\n",
            "\n"
          ],
          "name": "stdout"
        },
        {
          "output_type": "stream",
          "text": [
            "/usr/local/lib/python3.7/dist-packages/sklearn/utils/deprecation.py:87: FutureWarning: Function safe_indexing is deprecated; safe_indexing is deprecated in version 0.22 and will be removed in version 0.24.\n",
            "  warnings.warn(msg, category=FutureWarning)\n"
          ],
          "name": "stderr"
        },
        {
          "output_type": "stream",
          "text": [
            "Restoring model weights from the end of the best epoch.\n",
            "Epoch 00086: early stopping\n",
            "\n",
            "loss :  0.6141828298568726\n",
            "tp :  422156.0\n",
            "fp :  60589.0\n",
            "tn :  58335.0\n",
            "fn :  184707.0\n",
            "accuracy :  0.6620275378227234\n",
            "ROC_AUC :  0.6352497935295105\n",
            "prc :  0.8909783363342285\n",
            "f1: 0.7416896506109045\n",
            "specificity: 0.49052335945604714 \n",
            "\n"
          ],
          "name": "stdout"
        },
        {
          "output_type": "stream",
          "text": [
            "/usr/local/lib/python3.7/dist-packages/tensorflow/python/keras/engine/sequential.py:430: UserWarning: `model.predict_proba()` is deprecated and will be removed after 2021-01-01. Please use `model.predict()` instead.\n",
            "  warnings.warn('`model.predict_proba()` is deprecated and '\n",
            "/usr/local/lib/python3.7/dist-packages/ipykernel_launcher.py:138: DeprecationWarning: scipy.interp is deprecated and will be removed in SciPy 2.0.0, use numpy.interp instead\n"
          ],
          "name": "stderr"
        },
        {
          "output_type": "stream",
          "text": [
            "\n",
            "p_recall 0 correctly predicted (True Negatives):\t 58335\n",
            "p_recall 1 incorrectly predicted (False Positives):\t 60589\n",
            "p_recall 0 incorrectly predicted (False Negatives):\t 184707\n",
            "p_recall 1 correctly predicted (True Positives):\t 422156\n",
            "Total incorrectly predicted p_recall:\t\t\t 245296\n",
            "\n",
            "Run: 4 completed\n",
            "\n"
          ],
          "name": "stdout"
        },
        {
          "output_type": "stream",
          "text": [
            "/usr/local/lib/python3.7/dist-packages/sklearn/utils/deprecation.py:87: FutureWarning: Function safe_indexing is deprecated; safe_indexing is deprecated in version 0.22 and will be removed in version 0.24.\n",
            "  warnings.warn(msg, category=FutureWarning)\n"
          ],
          "name": "stderr"
        },
        {
          "output_type": "stream",
          "text": [
            "Restoring model weights from the end of the best epoch.\n",
            "Epoch 00064: early stopping\n",
            "\n",
            "loss :  0.6194568276405334\n",
            "tp :  411375.0\n",
            "fp :  58851.0\n",
            "tn :  60072.0\n",
            "fn :  195488.0\n",
            "accuracy :  0.6495674848556519\n",
            "ROC_AUC :  0.632413387298584\n",
            "prc :  0.8896632194519043\n",
            "f1: 0.739299096606869\n",
            "specificity: 0.5051335738246553 \n",
            "\n"
          ],
          "name": "stdout"
        },
        {
          "output_type": "stream",
          "text": [
            "/usr/local/lib/python3.7/dist-packages/tensorflow/python/keras/engine/sequential.py:430: UserWarning: `model.predict_proba()` is deprecated and will be removed after 2021-01-01. Please use `model.predict()` instead.\n",
            "  warnings.warn('`model.predict_proba()` is deprecated and '\n",
            "/usr/local/lib/python3.7/dist-packages/ipykernel_launcher.py:138: DeprecationWarning: scipy.interp is deprecated and will be removed in SciPy 2.0.0, use numpy.interp instead\n"
          ],
          "name": "stderr"
        },
        {
          "output_type": "stream",
          "text": [
            "\n",
            "p_recall 0 correctly predicted (True Negatives):\t 60072\n",
            "p_recall 1 incorrectly predicted (False Positives):\t 58851\n",
            "p_recall 0 incorrectly predicted (False Negatives):\t 195488\n",
            "p_recall 1 correctly predicted (True Positives):\t 411375\n",
            "Total incorrectly predicted p_recall:\t\t\t 254339\n",
            "\n",
            "Run: 5 completed\n",
            "\n"
          ],
          "name": "stdout"
        },
        {
          "output_type": "stream",
          "text": [
            "/usr/local/lib/python3.7/dist-packages/sklearn/utils/deprecation.py:87: FutureWarning: Function safe_indexing is deprecated; safe_indexing is deprecated in version 0.22 and will be removed in version 0.24.\n",
            "  warnings.warn(msg, category=FutureWarning)\n"
          ],
          "name": "stderr"
        },
        {
          "output_type": "stream",
          "text": [
            "Restoring model weights from the end of the best epoch.\n",
            "Epoch 00083: early stopping\n",
            "\n",
            "loss :  0.612204372882843\n",
            "tp :  419224.0\n",
            "fp :  60038.0\n",
            "tn :  58886.0\n",
            "fn :  187639.0\n",
            "accuracy :  0.6587470173835754\n",
            "ROC_AUC :  0.634623646736145\n",
            "prc :  0.890720009803772\n",
            "f1: 0.7411732804196861\n",
            "specificity: 0.4951565705824769 \n",
            "\n"
          ],
          "name": "stdout"
        },
        {
          "output_type": "stream",
          "text": [
            "/usr/local/lib/python3.7/dist-packages/tensorflow/python/keras/engine/sequential.py:430: UserWarning: `model.predict_proba()` is deprecated and will be removed after 2021-01-01. Please use `model.predict()` instead.\n",
            "  warnings.warn('`model.predict_proba()` is deprecated and '\n",
            "/usr/local/lib/python3.7/dist-packages/ipykernel_launcher.py:138: DeprecationWarning: scipy.interp is deprecated and will be removed in SciPy 2.0.0, use numpy.interp instead\n"
          ],
          "name": "stderr"
        },
        {
          "output_type": "stream",
          "text": [
            "\n",
            "p_recall 0 correctly predicted (True Negatives):\t 58886\n",
            "p_recall 1 incorrectly predicted (False Positives):\t 60038\n",
            "p_recall 0 incorrectly predicted (False Negatives):\t 187639\n",
            "p_recall 1 correctly predicted (True Positives):\t 419224\n",
            "Total incorrectly predicted p_recall:\t\t\t 247677\n",
            "\n",
            "Run: 6 completed\n",
            "\n"
          ],
          "name": "stdout"
        },
        {
          "output_type": "stream",
          "text": [
            "/usr/local/lib/python3.7/dist-packages/sklearn/utils/deprecation.py:87: FutureWarning: Function safe_indexing is deprecated; safe_indexing is deprecated in version 0.22 and will be removed in version 0.24.\n",
            "  warnings.warn(msg, category=FutureWarning)\n"
          ],
          "name": "stderr"
        },
        {
          "output_type": "stream",
          "text": [
            "Restoring model weights from the end of the best epoch.\n",
            "Epoch 00083: early stopping\n",
            "\n",
            "loss :  0.6215932965278625\n",
            "tp :  408028.0\n",
            "fp :  58098.0\n",
            "tn :  60826.0\n",
            "fn :  198835.0\n",
            "accuracy :  0.6459939479827881\n",
            "ROC_AUC :  0.6337081789970398\n",
            "prc :  0.8904131650924683\n",
            "f1: 0.7404424950728868\n",
            "specificity: 0.5114695099386907 \n",
            "\n"
          ],
          "name": "stdout"
        },
        {
          "output_type": "stream",
          "text": [
            "/usr/local/lib/python3.7/dist-packages/tensorflow/python/keras/engine/sequential.py:430: UserWarning: `model.predict_proba()` is deprecated and will be removed after 2021-01-01. Please use `model.predict()` instead.\n",
            "  warnings.warn('`model.predict_proba()` is deprecated and '\n",
            "/usr/local/lib/python3.7/dist-packages/ipykernel_launcher.py:138: DeprecationWarning: scipy.interp is deprecated and will be removed in SciPy 2.0.0, use numpy.interp instead\n"
          ],
          "name": "stderr"
        },
        {
          "output_type": "stream",
          "text": [
            "\n",
            "p_recall 0 correctly predicted (True Negatives):\t 60826\n",
            "p_recall 1 incorrectly predicted (False Positives):\t 58098\n",
            "p_recall 0 incorrectly predicted (False Negatives):\t 198835\n",
            "p_recall 1 correctly predicted (True Positives):\t 408028\n",
            "Total incorrectly predicted p_recall:\t\t\t 256933\n",
            "\n",
            "Run: 7 completed\n",
            "\n"
          ],
          "name": "stdout"
        },
        {
          "output_type": "stream",
          "text": [
            "/usr/local/lib/python3.7/dist-packages/sklearn/utils/deprecation.py:87: FutureWarning: Function safe_indexing is deprecated; safe_indexing is deprecated in version 0.22 and will be removed in version 0.24.\n",
            "  warnings.warn(msg, category=FutureWarning)\n"
          ],
          "name": "stderr"
        },
        {
          "output_type": "stream",
          "text": [
            "Restoring model weights from the end of the best epoch.\n",
            "Epoch 00057: early stopping\n",
            "\n",
            "loss :  0.6204553842544556\n",
            "tp :  415635.0\n",
            "fp :  59332.0\n",
            "tn :  59592.0\n",
            "fn :  191228.0\n",
            "accuracy :  0.6547747254371643\n",
            "ROC_AUC :  0.6324500441551208\n",
            "prc :  0.8893296718597412\n",
            "f1: 0.7392089463632454\n",
            "specificity: 0.5010931351110784 \n",
            "\n"
          ],
          "name": "stdout"
        },
        {
          "output_type": "stream",
          "text": [
            "/usr/local/lib/python3.7/dist-packages/tensorflow/python/keras/engine/sequential.py:430: UserWarning: `model.predict_proba()` is deprecated and will be removed after 2021-01-01. Please use `model.predict()` instead.\n",
            "  warnings.warn('`model.predict_proba()` is deprecated and '\n",
            "/usr/local/lib/python3.7/dist-packages/ipykernel_launcher.py:138: DeprecationWarning: scipy.interp is deprecated and will be removed in SciPy 2.0.0, use numpy.interp instead\n"
          ],
          "name": "stderr"
        },
        {
          "output_type": "stream",
          "text": [
            "\n",
            "p_recall 0 correctly predicted (True Negatives):\t 59592\n",
            "p_recall 1 incorrectly predicted (False Positives):\t 59332\n",
            "p_recall 0 incorrectly predicted (False Negatives):\t 191228\n",
            "p_recall 1 correctly predicted (True Positives):\t 415635\n",
            "Total incorrectly predicted p_recall:\t\t\t 250560\n",
            "\n",
            "Run: 8 completed\n",
            "\n"
          ],
          "name": "stdout"
        },
        {
          "output_type": "stream",
          "text": [
            "/usr/local/lib/python3.7/dist-packages/sklearn/utils/deprecation.py:87: FutureWarning: Function safe_indexing is deprecated; safe_indexing is deprecated in version 0.22 and will be removed in version 0.24.\n",
            "  warnings.warn(msg, category=FutureWarning)\n"
          ],
          "name": "stderr"
        },
        {
          "output_type": "stream",
          "text": [
            "Restoring model weights from the end of the best epoch.\n",
            "Epoch 00091: early stopping\n",
            "\n",
            "loss :  0.6241788864135742\n",
            "tp :  404957.0\n",
            "fp :  57309.0\n",
            "tn :  61615.0\n",
            "fn :  201906.0\n",
            "accuracy :  0.6428497433662415\n",
            "ROC_AUC :  0.6345402598381042\n",
            "prc :  0.8907538056373596\n",
            "f1: 0.7411281064739743\n",
            "specificity: 0.5181039991923261 \n",
            "\n"
          ],
          "name": "stdout"
        },
        {
          "output_type": "stream",
          "text": [
            "/usr/local/lib/python3.7/dist-packages/tensorflow/python/keras/engine/sequential.py:430: UserWarning: `model.predict_proba()` is deprecated and will be removed after 2021-01-01. Please use `model.predict()` instead.\n",
            "  warnings.warn('`model.predict_proba()` is deprecated and '\n",
            "/usr/local/lib/python3.7/dist-packages/ipykernel_launcher.py:138: DeprecationWarning: scipy.interp is deprecated and will be removed in SciPy 2.0.0, use numpy.interp instead\n"
          ],
          "name": "stderr"
        },
        {
          "output_type": "stream",
          "text": [
            "\n",
            "p_recall 0 correctly predicted (True Negatives):\t 61615\n",
            "p_recall 1 incorrectly predicted (False Positives):\t 57309\n",
            "p_recall 0 incorrectly predicted (False Negatives):\t 201906\n",
            "p_recall 1 correctly predicted (True Positives):\t 404957\n",
            "Total incorrectly predicted p_recall:\t\t\t 259215\n",
            "\n",
            "Run: 9 completed\n",
            "\n"
          ],
          "name": "stdout"
        },
        {
          "output_type": "stream",
          "text": [
            "/usr/local/lib/python3.7/dist-packages/sklearn/utils/deprecation.py:87: FutureWarning: Function safe_indexing is deprecated; safe_indexing is deprecated in version 0.22 and will be removed in version 0.24.\n",
            "  warnings.warn(msg, category=FutureWarning)\n"
          ],
          "name": "stderr"
        },
        {
          "output_type": "stream",
          "text": [
            "Restoring model weights from the end of the best epoch.\n",
            "Epoch 00086: early stopping\n",
            "\n",
            "loss :  0.606523871421814\n",
            "tp :  426785.0\n",
            "fp :  61515.0\n",
            "tn :  57408.0\n",
            "fn :  180078.0\n",
            "accuracy :  0.6671291589736938\n",
            "ROC_AUC :  0.6342339515686035\n",
            "prc :  0.8900144696235657\n",
            "f1: 0.7406632490799511\n",
            "specificity: 0.48273252440614284 \n",
            "\n"
          ],
          "name": "stdout"
        },
        {
          "output_type": "stream",
          "text": [
            "/usr/local/lib/python3.7/dist-packages/tensorflow/python/keras/engine/sequential.py:430: UserWarning: `model.predict_proba()` is deprecated and will be removed after 2021-01-01. Please use `model.predict()` instead.\n",
            "  warnings.warn('`model.predict_proba()` is deprecated and '\n",
            "/usr/local/lib/python3.7/dist-packages/ipykernel_launcher.py:138: DeprecationWarning: scipy.interp is deprecated and will be removed in SciPy 2.0.0, use numpy.interp instead\n"
          ],
          "name": "stderr"
        },
        {
          "output_type": "stream",
          "text": [
            "\n",
            "p_recall 0 correctly predicted (True Negatives):\t 57408\n",
            "p_recall 1 incorrectly predicted (False Positives):\t 61515\n",
            "p_recall 0 incorrectly predicted (False Negatives):\t 180078\n",
            "p_recall 1 correctly predicted (True Positives):\t 426785\n",
            "Total incorrectly predicted p_recall:\t\t\t 241593\n",
            "\n",
            "Run: 10 completed\n",
            "\n"
          ],
          "name": "stdout"
        },
        {
          "output_type": "stream",
          "text": [
            "/usr/local/lib/python3.7/dist-packages/sklearn/utils/deprecation.py:87: FutureWarning: Function safe_indexing is deprecated; safe_indexing is deprecated in version 0.22 and will be removed in version 0.24.\n",
            "  warnings.warn(msg, category=FutureWarning)\n"
          ],
          "name": "stderr"
        },
        {
          "output_type": "stream",
          "text": [
            "Restoring model weights from the end of the best epoch.\n",
            "Epoch 00077: early stopping\n",
            "\n",
            "loss :  0.6220213770866394\n",
            "tp :  409211.0\n",
            "fp :  57583.0\n",
            "tn :  61341.0\n",
            "fn :  197652.0\n",
            "accuracy :  0.6483334898948669\n",
            "ROC_AUC :  0.6365194916725159\n",
            "prc :  0.8914859294891357\n",
            "f1: 0.7427305725659376\n",
            "specificity: 0.5158000067265516 \n",
            "\n"
          ],
          "name": "stdout"
        },
        {
          "output_type": "stream",
          "text": [
            "/usr/local/lib/python3.7/dist-packages/tensorflow/python/keras/engine/sequential.py:430: UserWarning: `model.predict_proba()` is deprecated and will be removed after 2021-01-01. Please use `model.predict()` instead.\n",
            "  warnings.warn('`model.predict_proba()` is deprecated and '\n",
            "/usr/local/lib/python3.7/dist-packages/ipykernel_launcher.py:138: DeprecationWarning: scipy.interp is deprecated and will be removed in SciPy 2.0.0, use numpy.interp instead\n"
          ],
          "name": "stderr"
        },
        {
          "output_type": "stream",
          "text": [
            "\n",
            "p_recall 0 correctly predicted (True Negatives):\t 61341\n",
            "p_recall 1 incorrectly predicted (False Positives):\t 57583\n",
            "p_recall 0 incorrectly predicted (False Negatives):\t 197652\n",
            "p_recall 1 correctly predicted (True Positives):\t 409211\n",
            "Total incorrectly predicted p_recall:\t\t\t 255235\n",
            "\n",
            "Run: 11 completed\n",
            "\n"
          ],
          "name": "stdout"
        },
        {
          "output_type": "stream",
          "text": [
            "/usr/local/lib/python3.7/dist-packages/sklearn/utils/deprecation.py:87: FutureWarning: Function safe_indexing is deprecated; safe_indexing is deprecated in version 0.22 and will be removed in version 0.24.\n",
            "  warnings.warn(msg, category=FutureWarning)\n"
          ],
          "name": "stderr"
        },
        {
          "output_type": "stream",
          "text": [
            "\n",
            "loss :  0.6233190298080444\n",
            "tp :  407803.0\n",
            "fp :  57644.0\n",
            "tn :  61280.0\n",
            "fn :  199060.0\n",
            "accuracy :  0.6463094353675842\n",
            "ROC_AUC :  0.6345763206481934\n",
            "prc :  0.891413152217865\n",
            "f1: 0.7413808396061872\n",
            "specificity: 0.5152870740973098 \n",
            "\n"
          ],
          "name": "stdout"
        },
        {
          "output_type": "stream",
          "text": [
            "/usr/local/lib/python3.7/dist-packages/tensorflow/python/keras/engine/sequential.py:430: UserWarning: `model.predict_proba()` is deprecated and will be removed after 2021-01-01. Please use `model.predict()` instead.\n",
            "  warnings.warn('`model.predict_proba()` is deprecated and '\n",
            "/usr/local/lib/python3.7/dist-packages/ipykernel_launcher.py:138: DeprecationWarning: scipy.interp is deprecated and will be removed in SciPy 2.0.0, use numpy.interp instead\n"
          ],
          "name": "stderr"
        },
        {
          "output_type": "stream",
          "text": [
            "\n",
            "p_recall 0 correctly predicted (True Negatives):\t 61280\n",
            "p_recall 1 incorrectly predicted (False Positives):\t 57644\n",
            "p_recall 0 incorrectly predicted (False Negatives):\t 199060\n",
            "p_recall 1 correctly predicted (True Positives):\t 407803\n",
            "Total incorrectly predicted p_recall:\t\t\t 256704\n",
            "\n",
            "Run: 12 completed\n",
            "\n"
          ],
          "name": "stdout"
        },
        {
          "output_type": "stream",
          "text": [
            "/usr/local/lib/python3.7/dist-packages/sklearn/utils/deprecation.py:87: FutureWarning: Function safe_indexing is deprecated; safe_indexing is deprecated in version 0.22 and will be removed in version 0.24.\n",
            "  warnings.warn(msg, category=FutureWarning)\n"
          ],
          "name": "stderr"
        },
        {
          "output_type": "stream",
          "text": [
            "Restoring model weights from the end of the best epoch.\n",
            "Epoch 00083: early stopping\n",
            "\n",
            "loss :  0.6156115531921387\n",
            "tp :  415832.0\n",
            "fp :  59590.0\n",
            "tn :  59334.0\n",
            "fn :  191031.0\n",
            "accuracy :  0.654690682888031\n",
            "ROC_AUC :  0.6330245137214661\n",
            "prc :  0.8903127908706665\n",
            "f1: 0.7399409438762532\n",
            "specificity: 0.49892368235133455 \n",
            "\n"
          ],
          "name": "stdout"
        },
        {
          "output_type": "stream",
          "text": [
            "/usr/local/lib/python3.7/dist-packages/tensorflow/python/keras/engine/sequential.py:430: UserWarning: `model.predict_proba()` is deprecated and will be removed after 2021-01-01. Please use `model.predict()` instead.\n",
            "  warnings.warn('`model.predict_proba()` is deprecated and '\n",
            "/usr/local/lib/python3.7/dist-packages/ipykernel_launcher.py:138: DeprecationWarning: scipy.interp is deprecated and will be removed in SciPy 2.0.0, use numpy.interp instead\n"
          ],
          "name": "stderr"
        },
        {
          "output_type": "stream",
          "text": [
            "\n",
            "p_recall 0 correctly predicted (True Negatives):\t 59334\n",
            "p_recall 1 incorrectly predicted (False Positives):\t 59590\n",
            "p_recall 0 incorrectly predicted (False Negatives):\t 191031\n",
            "p_recall 1 correctly predicted (True Positives):\t 415832\n",
            "Total incorrectly predicted p_recall:\t\t\t 250621\n",
            "\n",
            "Run: 13 completed\n",
            "\n"
          ],
          "name": "stdout"
        },
        {
          "output_type": "stream",
          "text": [
            "/usr/local/lib/python3.7/dist-packages/sklearn/utils/deprecation.py:87: FutureWarning: Function safe_indexing is deprecated; safe_indexing is deprecated in version 0.22 and will be removed in version 0.24.\n",
            "  warnings.warn(msg, category=FutureWarning)\n"
          ],
          "name": "stderr"
        },
        {
          "output_type": "stream",
          "text": [
            "\n",
            "loss :  0.62204909324646\n",
            "tp :  408061.0\n",
            "fp :  57912.0\n",
            "tn :  61012.0\n",
            "fn :  198802.0\n",
            "accuracy :  0.6462956666946411\n",
            "ROC_AUC :  0.6352748870849609\n",
            "prc :  0.8917901515960693\n",
            "f1: 0.7419878964002776\n",
            "specificity: 0.5130335340212968 \n",
            "\n"
          ],
          "name": "stdout"
        },
        {
          "output_type": "stream",
          "text": [
            "/usr/local/lib/python3.7/dist-packages/tensorflow/python/keras/engine/sequential.py:430: UserWarning: `model.predict_proba()` is deprecated and will be removed after 2021-01-01. Please use `model.predict()` instead.\n",
            "  warnings.warn('`model.predict_proba()` is deprecated and '\n",
            "/usr/local/lib/python3.7/dist-packages/ipykernel_launcher.py:138: DeprecationWarning: scipy.interp is deprecated and will be removed in SciPy 2.0.0, use numpy.interp instead\n"
          ],
          "name": "stderr"
        },
        {
          "output_type": "stream",
          "text": [
            "\n",
            "p_recall 0 correctly predicted (True Negatives):\t 61012\n",
            "p_recall 1 incorrectly predicted (False Positives):\t 57912\n",
            "p_recall 0 incorrectly predicted (False Negatives):\t 198802\n",
            "p_recall 1 correctly predicted (True Positives):\t 408061\n",
            "Total incorrectly predicted p_recall:\t\t\t 256714\n",
            "\n",
            "Run: 14 completed\n",
            "\n"
          ],
          "name": "stdout"
        },
        {
          "output_type": "stream",
          "text": [
            "/usr/local/lib/python3.7/dist-packages/sklearn/utils/deprecation.py:87: FutureWarning: Function safe_indexing is deprecated; safe_indexing is deprecated in version 0.22 and will be removed in version 0.24.\n",
            "  warnings.warn(msg, category=FutureWarning)\n"
          ],
          "name": "stderr"
        },
        {
          "output_type": "stream",
          "text": [
            "Restoring model weights from the end of the best epoch.\n",
            "Epoch 00077: early stopping\n",
            "\n",
            "loss :  0.61519455909729\n",
            "tp :  420352.0\n",
            "fp :  60637.0\n",
            "tn :  58286.0\n",
            "fn :  186511.0\n",
            "accuracy :  0.6594753861427307\n",
            "ROC_AUC :  0.6327534914016724\n",
            "prc :  0.88981032371521\n",
            "f1: 0.7395822538614966\n",
            "specificity: 0.49011545285563757 \n",
            "\n"
          ],
          "name": "stdout"
        },
        {
          "output_type": "stream",
          "text": [
            "/usr/local/lib/python3.7/dist-packages/tensorflow/python/keras/engine/sequential.py:430: UserWarning: `model.predict_proba()` is deprecated and will be removed after 2021-01-01. Please use `model.predict()` instead.\n",
            "  warnings.warn('`model.predict_proba()` is deprecated and '\n",
            "/usr/local/lib/python3.7/dist-packages/ipykernel_launcher.py:138: DeprecationWarning: scipy.interp is deprecated and will be removed in SciPy 2.0.0, use numpy.interp instead\n"
          ],
          "name": "stderr"
        },
        {
          "output_type": "stream",
          "text": [
            "\n",
            "p_recall 0 correctly predicted (True Negatives):\t 58286\n",
            "p_recall 1 incorrectly predicted (False Positives):\t 60637\n",
            "p_recall 0 incorrectly predicted (False Negatives):\t 186511\n",
            "p_recall 1 correctly predicted (True Positives):\t 420352\n",
            "Total incorrectly predicted p_recall:\t\t\t 247148\n",
            "\n",
            "Run: 15 completed\n",
            "\n"
          ],
          "name": "stdout"
        },
        {
          "output_type": "display_data",
          "data": {
            "image/png": "[encoded data removed]",
            "text/plain": [
              "<Figure size 864x864 with 1 Axes>"
            ]
          },
          "metadata": {
            "tags": [],
            "needs_background": "light"
          }
        }
      ]
    },
    {
      "cell_type": "markdown",
      "metadata": {
        "id": "ZEmnlZ-kkLY9"
      },
      "source": [
        "# **Results**"
      ]
    },
    {
      "cell_type": "code",
      "metadata": {
        "colab": {
          "base_uri": "https://localhost:8080/"
        },
        "id": "vfRTUrq1Xz8F",
        "outputId": "6336bd9b-8242-41da-eb27-b4c9f59624e0"
      },
      "source": [
        "score = statistics.mean(accuracy_MLP)\n",
        "min = np.min(accuracy_MLP)\n",
        "max = np.max(accuracy_MLP)\n",
        "median = statistics.median(accuracy_MLP)\n",
        "std = statistics.stdev(accuracy_MLP)\n",
        "print('MLP 5 fold - 3 repeat results:\\n')\n",
        "print('Mean accuracy:\\t', score, '\\nMedian:\\t\\t', median, '\\nMin:\\t\\t', min, '\\nMax:\\t\\t', max, '\\nStd.:\\t\\t', std)\n",
        "specificity = statistics.mean(specificity_MLP)\n",
        "ROC_AUC = statistics.mean(ROC_AUC_MLP)\n",
        "f1 = statistics.mean(F1_MLP)\n",
        "print('\\nF1:\\t\\t', f1, '\\nSpecificity:\\t', specificity, '\\nROC AUC:\\t', ROC_AUC)"
      ],
      "execution_count": null,
      "outputs": [
        {
          "output_type": "stream",
          "text": [
            "MLP 5 fold - 3 repeat results:\n",
            "\n",
            "Mean accuracy:\t 0.6514424522717793 \n",
            "Median:\t\t 0.6483334898948669 \n",
            "Min:\t\t 0.6403490304946899 \n",
            "Max:\t\t 0.6671291589736938 \n",
            "Std.:\t\t 0.007656499476506079\n",
            "\n",
            "F1:\t\t 0.7408555775331261 \n",
            "Specificity:\t 0.5056946610052316 \n",
            "ROC AUC:\t 0.6342011292775472\n"
          ],
          "name": "stdout"
        }
      ]
    },
    {
      "cell_type": "markdown",
      "metadata": {
        "id": "Ldz-j3Y1ruKf"
      },
      "source": [
        "Write and export results to Drive  \n",
        ".csv files"
      ]
    },
    {
      "cell_type": "code",
      "metadata": {
        "colab": {
          "base_uri": "https://localhost:8080/",
          "height": 514
        },
        "id": "rh1rdHbQwxWl",
        "outputId": "9b9bfc3f-46d7-4ff0-c123-86bf14a383ce"
      },
      "source": [
        "df_MLP_rus = pd.DataFrame({'accuracy_MLP' : accuracy_MLP, 'F1_MLP' : F1_MLP,\n",
        "                           'specificity_MLP' : specificity_MLP, 'ROC_AUC_MLP' : ROC_AUC_MLP})\n",
        "\n",
        "df_MLP_rus.to_csv('/content/drive/My Drive/Colab Notebooks/Results/results_MLP_SMOTE.csv', index=False)\n",
        "df_MLP_rus"
      ],
      "execution_count": null,
      "outputs": [
        {
          "output_type": "execute_result",
          "data": {
            "text/html": [
              "<div>\n",
              "<style scoped>\n",
              "    .dataframe tbody tr th:only-of-type {\n",
              "        vertical-align: middle;\n",
              "    }\n",
              "\n",
              "    .dataframe tbody tr th {\n",
              "        vertical-align: top;\n",
              "    }\n",
              "\n",
              "    .dataframe thead th {\n",
              "        text-align: right;\n",
              "    }\n",
              "</style>\n",
              "<table border=\"1\" class=\"dataframe\">\n",
              "  <thead>\n",
              "    <tr style=\"text-align: right;\">\n",
              "      <th></th>\n",
              "      <th>accuracy_MLP</th>\n",
              "      <th>F1_MLP</th>\n",
              "      <th>specificity_MLP</th>\n",
              "      <th>ROC_AUC_MLP</th>\n",
              "    </tr>\n",
              "  </thead>\n",
              "  <tbody>\n",
              "    <tr>\n",
              "      <th>0</th>\n",
              "      <td>0.647764</td>\n",
              "      <td>0.740433</td>\n",
              "      <td>0.511142</td>\n",
              "      <td>0.633808</td>\n",
              "    </tr>\n",
              "    <tr>\n",
              "      <th>1</th>\n",
              "      <td>0.647329</td>\n",
              "      <td>0.742325</td>\n",
              "      <td>0.514438</td>\n",
              "      <td>0.635794</td>\n",
              "    </tr>\n",
              "    <tr>\n",
              "      <th>2</th>\n",
              "      <td>0.640349</td>\n",
              "      <td>0.740848</td>\n",
              "      <td>0.522468</td>\n",
              "      <td>0.634047</td>\n",
              "    </tr>\n",
              "    <tr>\n",
              "      <th>3</th>\n",
              "      <td>0.662028</td>\n",
              "      <td>0.741690</td>\n",
              "      <td>0.490523</td>\n",
              "      <td>0.635250</td>\n",
              "    </tr>\n",
              "    <tr>\n",
              "      <th>4</th>\n",
              "      <td>0.649567</td>\n",
              "      <td>0.739299</td>\n",
              "      <td>0.505134</td>\n",
              "      <td>0.632413</td>\n",
              "    </tr>\n",
              "    <tr>\n",
              "      <th>5</th>\n",
              "      <td>0.658747</td>\n",
              "      <td>0.741173</td>\n",
              "      <td>0.495157</td>\n",
              "      <td>0.634624</td>\n",
              "    </tr>\n",
              "    <tr>\n",
              "      <th>6</th>\n",
              "      <td>0.645994</td>\n",
              "      <td>0.740442</td>\n",
              "      <td>0.511470</td>\n",
              "      <td>0.633708</td>\n",
              "    </tr>\n",
              "    <tr>\n",
              "      <th>7</th>\n",
              "      <td>0.654775</td>\n",
              "      <td>0.739209</td>\n",
              "      <td>0.501093</td>\n",
              "      <td>0.632450</td>\n",
              "    </tr>\n",
              "    <tr>\n",
              "      <th>8</th>\n",
              "      <td>0.642850</td>\n",
              "      <td>0.741128</td>\n",
              "      <td>0.518104</td>\n",
              "      <td>0.634540</td>\n",
              "    </tr>\n",
              "    <tr>\n",
              "      <th>9</th>\n",
              "      <td>0.667129</td>\n",
              "      <td>0.740663</td>\n",
              "      <td>0.482733</td>\n",
              "      <td>0.634234</td>\n",
              "    </tr>\n",
              "    <tr>\n",
              "      <th>10</th>\n",
              "      <td>0.648333</td>\n",
              "      <td>0.742731</td>\n",
              "      <td>0.515800</td>\n",
              "      <td>0.636519</td>\n",
              "    </tr>\n",
              "    <tr>\n",
              "      <th>11</th>\n",
              "      <td>0.646309</td>\n",
              "      <td>0.741381</td>\n",
              "      <td>0.515287</td>\n",
              "      <td>0.634576</td>\n",
              "    </tr>\n",
              "    <tr>\n",
              "      <th>12</th>\n",
              "      <td>0.654691</td>\n",
              "      <td>0.739941</td>\n",
              "      <td>0.498924</td>\n",
              "      <td>0.633025</td>\n",
              "    </tr>\n",
              "    <tr>\n",
              "      <th>13</th>\n",
              "      <td>0.646296</td>\n",
              "      <td>0.741988</td>\n",
              "      <td>0.513034</td>\n",
              "      <td>0.635275</td>\n",
              "    </tr>\n",
              "    <tr>\n",
              "      <th>14</th>\n",
              "      <td>0.659475</td>\n",
              "      <td>0.739582</td>\n",
              "      <td>0.490115</td>\n",
              "      <td>0.632753</td>\n",
              "    </tr>\n",
              "  </tbody>\n",
              "</table>\n",
              "</div>"
            ],
            "text/plain": [
              "    accuracy_MLP    F1_MLP  specificity_MLP  ROC_AUC_MLP\n",
              "0       0.647764  0.740433         0.511142     0.633808\n",
              "1       0.647329  0.742325         0.514438     0.635794\n",
              "2       0.640349  0.740848         0.522468     0.634047\n",
              "3       0.662028  0.741690         0.490523     0.635250\n",
              "4       0.649567  0.739299         0.505134     0.632413\n",
              "5       0.658747  0.741173         0.495157     0.634624\n",
              "6       0.645994  0.740442         0.511470     0.633708\n",
              "7       0.654775  0.739209         0.501093     0.632450\n",
              "8       0.642850  0.741128         0.518104     0.634540\n",
              "9       0.667129  0.740663         0.482733     0.634234\n",
              "10      0.648333  0.742731         0.515800     0.636519\n",
              "11      0.646309  0.741381         0.515287     0.634576\n",
              "12      0.654691  0.739941         0.498924     0.633025\n",
              "13      0.646296  0.741988         0.513034     0.635275\n",
              "14      0.659475  0.739582         0.490115     0.632753"
            ]
          },
          "metadata": {
            "tags": []
          },
          "execution_count": 14
        }
      ]
    },
    {
      "cell_type": "markdown",
      "metadata": {
        "id": "140WsYqDDpI1"
      },
      "source": [
        "# **Evaluate one MLP model**"
      ]
    },
    {
      "cell_type": "code",
      "metadata": {
        "id": "oqwH-TtFDpI6"
      },
      "source": [
        "def plot_cm(labels, predictions, p=0.5):\n",
        "  cm = confusion_matrix(labels, predictions > p)\n",
        "  plt.figure(figsize=(5,5))\n",
        "  sns.heatmap(cm, annot=True, fmt=\"d\")\n",
        "  plt.title('Confusion matrix @{:.2f}'.format(p))\n",
        "  plt.ylabel('Actual label')\n",
        "  plt.xlabel('Predicted label')\n",
        "  plt.savefig('/content/drive/My Drive/Colab Notebooks/Results/SMOTE_MLP_CM_plot.png')\n",
        "\n",
        "  print('p_recall 0 correctly predicted (True Negatives):\\t', cm[0][0])\n",
        "  print('p_recall 1 incorrectly predicted (False Positives):\\t', cm[0][1])\n",
        "  print('p_recall 0 incorrectly predicted (False Negatives):\\t', cm[1][0])\n",
        "  print('p_recall 1 correctly predicted (True Positives):\\t', cm[1][1])"
      ],
      "execution_count": null,
      "outputs": []
    },
    {
      "cell_type": "code",
      "metadata": {
        "colab": {
          "base_uri": "https://localhost:8080/",
          "height": 571
        },
        "id": "QKarQDbLDpI6",
        "outputId": "18268f2c-dfd2-417b-f6ce-968ab08717d0"
      },
      "source": [
        "for name, value in zip(model.metrics_names, baseline_results):\n",
        "  print(name, ': ', value)\n",
        "print()\n",
        "\n",
        "plot_cm(y_test, test_predictions_baseline)"
      ],
      "execution_count": null,
      "outputs": [
        {
          "output_type": "stream",
          "text": [
            "loss :  0.61519455909729\n",
            "tp :  420352.0\n",
            "fp :  60637.0\n",
            "tn :  58286.0\n",
            "fn :  186511.0\n",
            "accuracy :  0.6594753861427307\n",
            "ROC_AUC :  0.6327534914016724\n",
            "prc :  0.88981032371521\n",
            "\n",
            "p_recall 0 correctly predicted (True Negatives):\t 58286\n",
            "p_recall 1 incorrectly predicted (False Positives):\t 60637\n",
            "p_recall 0 incorrectly predicted (False Negatives):\t 186511\n",
            "p_recall 1 correctly predicted (True Positives):\t 420352\n"
          ],
          "name": "stdout"
        },
        {
          "output_type": "display_data",
          "data": {
            "image/png": "[encoded data removed]",
            "text/plain": [
              "<Figure size 360x360 with 2 Axes>"
            ]
          },
          "metadata": {
            "tags": [],
            "needs_background": "light"
          }
        }
      ]
    },
    {
      "cell_type": "markdown",
      "metadata": {
        "id": "KTesTv_XlKYG"
      },
      "source": [
        "**Show training progress**"
      ]
    },
    {
      "cell_type": "code",
      "metadata": {
        "id": "fESISM_Jt1UR"
      },
      "source": [
        "# Clear model, and create it\n",
        "model = None\n",
        "\n",
        "# Dunno if this works but as a proper programmer would say: best leave it... \n",
        "os.environ['TF_DETERMINISTIC_OPS'] = '1'\n",
        "\n",
        "# Create the model can be outside loop but can't be bothered \n",
        "def make_model(metrics=METRICS):\n",
        "      model = keras.Sequential([\n",
        "          # bias = false because batchnorm\n",
        "          keras.layers.Dense(64, activation='relu', input_shape=(train_features_rus.shape[-1],), use_bias=False),\n",
        "          keras.layers.BatchNormalization(),\n",
        "          keras.layers.Dropout(0.1),\n",
        "          keras.layers.Dense(64, activation='relu', use_bias=False),\n",
        "          keras.layers.BatchNormalization(),\n",
        "          keras.layers.Dropout(0.1),\n",
        "          keras.layers.Dense(64, activation='relu', use_bias=False),\n",
        "          keras.layers.BatchNormalization(),\n",
        "          keras.layers.Dropout(0.1),\n",
        "          keras.layers.Dense(1, activation='sigmoid'),\n",
        "      ])\n",
        "\n",
        "      # Compile with new focal loss function\n",
        "      model.compile(\n",
        "          optimizer=keras.optimizers.Adam(learning_rate=.001),\n",
        "          loss=keras.losses.BinaryCrossentropy(),\n",
        "          metrics=METRICS)\n",
        "      return model\n",
        "    \n",
        "model = make_model()\n",
        "\n",
        "# Fit model on train, use validation set for model fit\n",
        "history = model.fit(train_features_rus,train_labels_rus, batch_size=BATCH_SIZE, epochs=EPOCHS,\n",
        "                    callbacks=[early_stopping],validation_data=(val_features_scaled, val_labels), verbose=0)"
      ],
      "execution_count": null,
      "outputs": []
    },
    {
      "cell_type": "code",
      "metadata": {
        "colab": {
          "base_uri": "https://localhost:8080/",
          "height": 730
        },
        "id": "1halL-iq2reV",
        "outputId": "ffcdc04f-ebb2-46f4-83e8-645c6b931891"
      },
      "source": [
        "plt.plot(history.history['loss']) \n",
        "plt.plot(history.history['val_loss']) \n",
        "plt.title('Model loss') \n",
        "plt.ylabel('Loss') \n",
        "plt.xlabel('Epoch') \n",
        "plt.legend(['Train', 'Val'], loc='upper left')\n",
        "plt.savefig('/content/drive/My Drive/Colab Notebooks/Results/SMOTE_MLP_loss_plot.png')\n",
        "plt.show()"
      ],
      "execution_count": null,
      "outputs": [
        {
          "output_type": "display_data",
          "data": {
            "image/png": "[encoded data removed]",
            "text/plain": [
              "<Figure size 864x864 with 1 Axes>"
            ]
          },
          "metadata": {
            "tags": [],
            "needs_background": "light"
          }
        }
      ]
    },
    {
      "cell_type": "code",
      "metadata": {
        "colab": {
          "base_uri": "https://localhost:8080/",
          "height": 730
        },
        "id": "s-jp5D9v2mTR",
        "outputId": "4ea4d9e3-a47c-4630-e746-b133ecca29e8"
      },
      "source": [
        "plt.plot(history.history['accuracy'])\n",
        "plt.plot(history.history['val_accuracy'])\n",
        "plt.title('Model accuracy')\n",
        "plt.ylabel('Accuracy')\n",
        "plt.xlabel('Epoch')\n",
        "plt.legend(['Train', 'Val'], loc='upper left')\n",
        "plt.savefig('/content/drive/My Drive/Colab Notebooks/Results/SMOTE_MLP_accuracy_plot.png')\n",
        "plt.show()"
      ],
      "execution_count": null,
      "outputs": [
        {
          "output_type": "display_data",
          "data": {
            "image/png": "[encoded data removed]",
            "text/plain": [
              "<Figure size 864x864 with 1 Axes>"
            ]
          },
          "metadata": {
            "tags": [],
            "needs_background": "light"
          }
        }
      ]
    }
  ]
}