{
  "nbformat": 4,
  "nbformat_minor": 0,
  "metadata": {
    "colab": {
      "name": "Master thesis 3_focal_loss_MLP.ipynb",
      "provenance": [],
      "collapsed_sections": [
        "0ShM3_oWOUwR",
        "aliVACeTwmgh",
        "XA1oZvY3OeVF",
        "ar88ziR6OrlG",
        "xf8Apb5xMK_J",
        "HaBz38EqS57m",
        "nVIiWWEaN5bA",
        "izAPLGKDLQ2f",
        "ZEmnlZ-kkLY9",
        "140WsYqDDpI1"
      ],
      "authorship_tag": "ABX9TyN+jMXXYRfnu+1ojycYXZme",
      "include_colab_link": true
    },
    "kernelspec": {
      "name": "python3",
      "display_name": "Python 3"
    },
    "language_info": {
      "name": "python"
    },
    "accelerator": "GPU"
  },
  "cells": [
    {
      "cell_type": "markdown",
      "metadata": {
        "id": "view-in-github",
        "colab_type": "text"
      },
      "source": [
        "<a href=\"https://colab.research.google.com/github/Kroomer/Master_thesis/blob/main/Master_thesis_3_focal_loss_MLP.ipynb\" target=\"_parent\"><img src=\"https://colab.research.google.com/assets/colab-badge.svg\" alt=\"Open In Colab\"/></a>"
      ]
    },
    {
      "cell_type": "markdown",
      "metadata": {
        "id": "0ShM3_oWOUwR"
      },
      "source": [
        "# **Connect to drive**  \n"
      ]
    },
    {
      "cell_type": "markdown",
      "metadata": {
        "id": "-3iIfBD9jsVr"
      },
      "source": [
        "Click link and enter authorization code"
      ]
    },
    {
      "cell_type": "code",
      "metadata": {
        "colab": {
          "base_uri": "https://localhost:8080/"
        },
        "id": "Xw1vgosDa4RS",
        "outputId": "a4cae95e-6271-4c47-c0fc-5c73e0b45438"
      },
      "source": [
        "from google.colab import drive\n",
        "drive.mount('/content/drive/')\n"
      ],
      "execution_count": null,
      "outputs": [
        {
          "output_type": "stream",
          "text": [
            "Mounted at /content/drive/\n"
          ],
          "name": "stdout"
        }
      ]
    },
    {
      "cell_type": "code",
      "metadata": {
        "colab": {
          "base_uri": "https://localhost:8080/"
        },
        "id": "aWTfNdvYO4vd",
        "outputId": "9c33b294-c95b-42b4-cb64-1c86a29ca969"
      },
      "source": [
        "!ls \"/content/drive/My Drive/Colab Notebooks/Master thesis\""
      ],
      "execution_count": null,
      "outputs": [
        {
          "output_type": "stream",
          "text": [
            " create_extracted_dataset.R   Lexique-query.csv\n",
            " emotion_dict.csv\t     'Lexique-query final.csv'\n",
            " final_dataset.csv\t     'NN-SVG adapted from LeNail (2019).png'\n",
            " halflife-regression-master  'unique words.txt'\n",
            " learning_traces.13m.csv\n"
          ],
          "name": "stdout"
        }
      ]
    },
    {
      "cell_type": "markdown",
      "metadata": {
        "id": "aliVACeTwmgh"
      },
      "source": [
        "# **Connect to GPU**"
      ]
    },
    {
      "cell_type": "code",
      "metadata": {
        "colab": {
          "base_uri": "https://localhost:8080/"
        },
        "id": "xk3s5tMMwbgA",
        "outputId": "98a629b9-3ebd-4c21-de13-6101a3cd5b8d"
      },
      "source": [
        "%tensorflow_version 2.x\n",
        "import tensorflow as tf\n",
        "device_name = tf.test.gpu_device_name()\n",
        "if device_name != '/device:GPU:0':\n",
        "  raise SystemError('GPU device not found')\n",
        "print('Found GPU at: {}'.format(device_name))\n",
        "!nvidia-smi"
      ],
      "execution_count": null,
      "outputs": [
        {
          "output_type": "stream",
          "text": [
            "Found GPU at: /device:GPU:0\n",
            "Wed Jun 23 17:10:54 2021       \n",
            "+-----------------------------------------------------------------------------+\n",
            "| NVIDIA-SMI 465.27       Driver Version: 460.32.03    CUDA Version: 11.2     |\n",
            "|-------------------------------+----------------------+----------------------+\n",
            "| GPU  Name        Persistence-M| Bus-Id        Disp.A | Volatile Uncorr. ECC |\n",
            "| Fan  Temp  Perf  Pwr:Usage/Cap|         Memory-Usage | GPU-Util  Compute M. |\n",
            "|                               |                      |               MIG M. |\n",
            "|===============================+======================+======================|\n",
            "|   0  Tesla T4            Off  | 00000000:00:04.0 Off |                    0 |\n",
            "| N/A   45C    P0    27W /  70W |    222MiB / 15109MiB |      0%      Default |\n",
            "|                               |                      |                  N/A |\n",
            "+-------------------------------+----------------------+----------------------+\n",
            "                                                                               \n",
            "+-----------------------------------------------------------------------------+\n",
            "| Processes:                                                                  |\n",
            "|  GPU   GI   CI        PID   Type   Process name                  GPU Memory |\n",
            "|        ID   ID                                                   Usage      |\n",
            "|=============================================================================|\n",
            "+-----------------------------------------------------------------------------+\n"
          ],
          "name": "stdout"
        }
      ]
    },
    {
      "cell_type": "markdown",
      "metadata": {
        "id": "XA1oZvY3OeVF"
      },
      "source": [
        "# **Import libraries**"
      ]
    },
    {
      "cell_type": "code",
      "metadata": {
        "id": "80y6p5mXNvkk",
        "colab": {
          "base_uri": "https://localhost:8080/"
        },
        "outputId": "e4bde0a5-6165-4e0f-9eba-48f09d7b37d5"
      },
      "source": [
        "import tensorflow as tf\n",
        "from tensorflow import keras\n",
        "from keras import backend as K\n",
        "from keras.wrappers.scikit_learn import KerasClassifier\n",
        "\n",
        "import pydot \n",
        "import graphviz\n",
        "from tensorflow.keras.utils import plot_model\n",
        "\n",
        "import matplotlib as mpl\n",
        "import matplotlib.pyplot as plt\n",
        "import numpy as np\n",
        "import pandas as pd\n",
        "import seaborn as sns\n",
        "\n",
        "import sklearn\n",
        "from sklearn.metrics import confusion_matrix\n",
        "from sklearn.metrics import make_scorer\n",
        "from sklearn.metrics import accuracy_score, precision_score, recall_score, f1_score, auc, roc_auc_score, roc_curve, plot_roc_curve, precision_recall_fscore_support, classification_report, precision_recall_curve\n",
        "from sklearn.model_selection import train_test_split\n",
        "from sklearn.model_selection import RepeatedStratifiedKFold\n",
        "from sklearn.model_selection import cross_validate\n",
        "from sklearn.preprocessing import StandardScaler\n",
        "from sklearn.ensemble import RandomForestClassifier\n",
        "\n",
        "import os\n",
        "import tempfile\n",
        "\n",
        "# # Fix for random errors\n",
        "# import six\n",
        "# import sys\n",
        "# sys.modules['sklearn.externals.six'] = six\n",
        "# import sklearn.neighbors._base\n",
        "# sys.modules['sklearn.neighbors.base'] = sklearn.neighbors._base\n",
        "\n",
        "import imblearn\n",
        "from imblearn.pipeline import Pipeline\n",
        "from collections import Counter\n",
        "\n",
        "import statistics\n",
        "from scipy import interp\n",
        "from scipy.stats import truncnorm\n",
        "\n",
        "# fix random seed for reproducibility\n",
        "np.random.seed(14)\n",
        "tf.random.set_seed(14)\n",
        "os.environ['TF_DETERMINISTIC_OPS'] = '1'"
      ],
      "execution_count": null,
      "outputs": [
        {
          "output_type": "stream",
          "text": [
            "/usr/local/lib/python3.7/dist-packages/sklearn/externals/six.py:31: FutureWarning: The module is deprecated in version 0.21 and will be removed in version 0.23 since we've dropped support for Python 2.7. Please rely on the official version of six (https://pypi.org/project/six/).\n",
            "  \"(https://pypi.org/project/six/).\", FutureWarning)\n",
            "/usr/local/lib/python3.7/dist-packages/sklearn/utils/deprecation.py:144: FutureWarning: The sklearn.neighbors.base module is  deprecated in version 0.22 and will be removed in version 0.24. The corresponding classes / functions should instead be imported from sklearn.neighbors. Anything that cannot be imported from sklearn.neighbors is now part of the private API.\n",
            "  warnings.warn(message, FutureWarning)\n"
          ],
          "name": "stderr"
        }
      ]
    },
    {
      "cell_type": "markdown",
      "metadata": {
        "id": "ar88ziR6OrlG"
      },
      "source": [
        "# **Import data**  \n",
        "Final dataset created using \"create_extracted_dataset.R\"\n",
        "\n",
        "Combining data from:\n",
        "1. Duolingo spaced repetition (1.21 GB)\n",
        "> B. Settles and B. Meeder. 2016. A Trainable Spaced Repetition Model for Language Learning.\n",
        "In Proceedings of the Association for Computational Linguistics (ACL), pages 1848-1858.<br/>\n",
        "> https://dataverse.harvard.edu/dataset.xhtml?persistentId=doi:10.7910/DVN/N8XJME\n",
        "2. SUBTLEX-US data \n",
        ">Manually created on http://www.lexique.org/shiny/openlexicon/\n",
        "3. \"Emotion dictionary\", created by Geoff Hollis and Chris Westbury based on Warriner, Kuperman and Brysbaert (*2007*)\n",
        ">Link: http://crr.ugent.be/programs-data,<br/>\n",
        ">Direct link: https://sites.ualberta.ca/~hollis/files/emotion_dict.csv\n",
        "\n"
      ]
    },
    {
      "cell_type": "code",
      "metadata": {
        "colab": {
          "base_uri": "https://localhost:8080/",
          "height": 224
        },
        "id": "ltxj8dh7Ovpq",
        "outputId": "8f48ba3d-699e-4613-b3fa-bb62b0f2c1ec"
      },
      "source": [
        "final_dataset = pd.read_csv(\"drive/My Drive/Colab Notebooks/Master thesis/final_dataset.csv\", sep=',')\n",
        "final_dataset.head()"
      ],
      "execution_count": null,
      "outputs": [
        {
          "output_type": "execute_result",
          "data": {
            "text/html": [
              "<div>\n",
              "<style scoped>\n",
              "    .dataframe tbody tr th:only-of-type {\n",
              "        vertical-align: middle;\n",
              "    }\n",
              "\n",
              "    .dataframe tbody tr th {\n",
              "        vertical-align: top;\n",
              "    }\n",
              "\n",
              "    .dataframe thead th {\n",
              "        text-align: right;\n",
              "    }\n",
              "</style>\n",
              "<table border=\"1\" class=\"dataframe\">\n",
              "  <thead>\n",
              "    <tr style=\"text-align: right;\">\n",
              "      <th></th>\n",
              "      <th>p_recall</th>\n",
              "      <th>timestamp</th>\n",
              "      <th>delta</th>\n",
              "      <th>history_seen</th>\n",
              "      <th>history_correct</th>\n",
              "      <th>history_incorrect</th>\n",
              "      <th>dummy_noun</th>\n",
              "      <th>dummy_verb</th>\n",
              "      <th>words</th>\n",
              "      <th>FREQcount</th>\n",
              "      <th>CDcount</th>\n",
              "      <th>Valence</th>\n",
              "      <th>Arousal</th>\n",
              "      <th>Concreteness</th>\n",
              "    </tr>\n",
              "  </thead>\n",
              "  <tbody>\n",
              "    <tr>\n",
              "      <th>0</th>\n",
              "      <td>1</td>\n",
              "      <td>1362082519</td>\n",
              "      <td>3888560</td>\n",
              "      <td>5</td>\n",
              "      <td>5</td>\n",
              "      <td>0</td>\n",
              "      <td>0</td>\n",
              "      <td>1</td>\n",
              "      <td>thank</td>\n",
              "      <td>56877</td>\n",
              "      <td>7790</td>\n",
              "      <td>0.751554</td>\n",
              "      <td>0.377968</td>\n",
              "      <td>0.557784</td>\n",
              "    </tr>\n",
              "    <tr>\n",
              "      <th>1</th>\n",
              "      <td>1</td>\n",
              "      <td>1362082532</td>\n",
              "      <td>287</td>\n",
              "      <td>40</td>\n",
              "      <td>37</td>\n",
              "      <td>3</td>\n",
              "      <td>0</td>\n",
              "      <td>0</td>\n",
              "      <td>i</td>\n",
              "      <td>2038529</td>\n",
              "      <td>8372</td>\n",
              "      <td>0.544628</td>\n",
              "      <td>0.371790</td>\n",
              "      <td>0.533944</td>\n",
              "    </tr>\n",
              "    <tr>\n",
              "      <th>2</th>\n",
              "      <td>1</td>\n",
              "      <td>1362082532</td>\n",
              "      <td>287</td>\n",
              "      <td>87</td>\n",
              "      <td>80</td>\n",
              "      <td>7</td>\n",
              "      <td>0</td>\n",
              "      <td>0</td>\n",
              "      <td>the</td>\n",
              "      <td>1501908</td>\n",
              "      <td>8388</td>\n",
              "      <td>0.645179</td>\n",
              "      <td>0.330776</td>\n",
              "      <td>0.461627</td>\n",
              "    </tr>\n",
              "    <tr>\n",
              "      <th>3</th>\n",
              "      <td>1</td>\n",
              "      <td>1362082532</td>\n",
              "      <td>287</td>\n",
              "      <td>79</td>\n",
              "      <td>70</td>\n",
              "      <td>9</td>\n",
              "      <td>1</td>\n",
              "      <td>0</td>\n",
              "      <td>apple</td>\n",
              "      <td>1207</td>\n",
              "      <td>689</td>\n",
              "      <td>0.646746</td>\n",
              "      <td>0.339613</td>\n",
              "      <td>0.974410</td>\n",
              "    </tr>\n",
              "    <tr>\n",
              "      <th>4</th>\n",
              "      <td>1</td>\n",
              "      <td>1362082532</td>\n",
              "      <td>287</td>\n",
              "      <td>64</td>\n",
              "      <td>56</td>\n",
              "      <td>8</td>\n",
              "      <td>1</td>\n",
              "      <td>0</td>\n",
              "      <td>man</td>\n",
              "      <td>94133</td>\n",
              "      <td>8054</td>\n",
              "      <td>0.505728</td>\n",
              "      <td>0.451745</td>\n",
              "      <td>0.916435</td>\n",
              "    </tr>\n",
              "  </tbody>\n",
              "</table>\n",
              "</div>"
            ],
            "text/plain": [
              "   p_recall   timestamp    delta  ...   Valence   Arousal  Concreteness\n",
              "0         1  1362082519  3888560  ...  0.751554  0.377968      0.557784\n",
              "1         1  1362082532      287  ...  0.544628  0.371790      0.533944\n",
              "2         1  1362082532      287  ...  0.645179  0.330776      0.461627\n",
              "3         1  1362082532      287  ...  0.646746  0.339613      0.974410\n",
              "4         1  1362082532      287  ...  0.505728  0.451745      0.916435\n",
              "\n",
              "[5 rows x 14 columns]"
            ]
          },
          "metadata": {
            "tags": []
          },
          "execution_count": 5
        }
      ]
    },
    {
      "cell_type": "code",
      "metadata": {
        "colab": {
          "base_uri": "https://localhost:8080/",
          "height": 317
        },
        "id": "eSY76-Fg9Bua",
        "outputId": "cd59abaa-2a0b-4623-da55-84e80de5bd6c"
      },
      "source": [
        "# Don't want the \"words\" column.\n",
        "final_dataset.pop('words')\n",
        "final_dataset.describe()"
      ],
      "execution_count": null,
      "outputs": [
        {
          "output_type": "execute_result",
          "data": {
            "text/html": [
              "<div>\n",
              "<style scoped>\n",
              "    .dataframe tbody tr th:only-of-type {\n",
              "        vertical-align: middle;\n",
              "    }\n",
              "\n",
              "    .dataframe tbody tr th {\n",
              "        vertical-align: top;\n",
              "    }\n",
              "\n",
              "    .dataframe thead th {\n",
              "        text-align: right;\n",
              "    }\n",
              "</style>\n",
              "<table border=\"1\" class=\"dataframe\">\n",
              "  <thead>\n",
              "    <tr style=\"text-align: right;\">\n",
              "      <th></th>\n",
              "      <th>p_recall</th>\n",
              "      <th>timestamp</th>\n",
              "      <th>delta</th>\n",
              "      <th>history_seen</th>\n",
              "      <th>history_correct</th>\n",
              "      <th>history_incorrect</th>\n",
              "      <th>dummy_noun</th>\n",
              "      <th>dummy_verb</th>\n",
              "      <th>FREQcount</th>\n",
              "      <th>CDcount</th>\n",
              "      <th>Valence</th>\n",
              "      <th>Arousal</th>\n",
              "      <th>Concreteness</th>\n",
              "    </tr>\n",
              "  </thead>\n",
              "  <tbody>\n",
              "    <tr>\n",
              "      <th>count</th>\n",
              "      <td>3.628934e+06</td>\n",
              "      <td>3.628934e+06</td>\n",
              "      <td>3.628934e+06</td>\n",
              "      <td>3.628934e+06</td>\n",
              "      <td>3.628934e+06</td>\n",
              "      <td>3.628934e+06</td>\n",
              "      <td>3.628934e+06</td>\n",
              "      <td>3.628934e+06</td>\n",
              "      <td>3.628934e+06</td>\n",
              "      <td>3.628934e+06</td>\n",
              "      <td>3.628934e+06</td>\n",
              "      <td>3.628934e+06</td>\n",
              "      <td>3.628934e+06</td>\n",
              "    </tr>\n",
              "    <tr>\n",
              "      <th>mean</th>\n",
              "      <td>8.361450e-01</td>\n",
              "      <td>1.362589e+09</td>\n",
              "      <td>6.862933e+05</td>\n",
              "      <td>3.972093e+01</td>\n",
              "      <td>3.424126e+01</td>\n",
              "      <td>5.479667e+00</td>\n",
              "      <td>4.666492e-01</td>\n",
              "      <td>2.197202e-01</td>\n",
              "      <td>1.600285e+05</td>\n",
              "      <td>4.338620e+03</td>\n",
              "      <td>6.057379e-01</td>\n",
              "      <td>3.775665e-01</td>\n",
              "      <td>6.499140e-01</td>\n",
              "    </tr>\n",
              "    <tr>\n",
              "      <th>std</th>\n",
              "      <td>3.701440e-01</td>\n",
              "      <td>2.942436e+05</td>\n",
              "      <td>2.084959e+06</td>\n",
              "      <td>2.311720e+02</td>\n",
              "      <td>1.985168e+02</td>\n",
              "      <td>4.987316e+01</td>\n",
              "      <td>4.988866e-01</td>\n",
              "      <td>4.140571e-01</td>\n",
              "      <td>3.646153e+05</td>\n",
              "      <td>3.257039e+03</td>\n",
              "      <td>6.758736e-02</td>\n",
              "      <td>4.693279e-02</td>\n",
              "      <td>2.153472e-01</td>\n",
              "    </tr>\n",
              "    <tr>\n",
              "      <th>min</th>\n",
              "      <td>0.000000e+00</td>\n",
              "      <td>1.362083e+09</td>\n",
              "      <td>1.000000e+00</td>\n",
              "      <td>1.000000e+00</td>\n",
              "      <td>1.000000e+00</td>\n",
              "      <td>0.000000e+00</td>\n",
              "      <td>0.000000e+00</td>\n",
              "      <td>0.000000e+00</td>\n",
              "      <td>1.900000e+01</td>\n",
              "      <td>1.400000e+01</td>\n",
              "      <td>1.331056e-01</td>\n",
              "      <td>1.841600e-01</td>\n",
              "      <td>9.250205e-02</td>\n",
              "    </tr>\n",
              "    <tr>\n",
              "      <th>25%</th>\n",
              "      <td>1.000000e+00</td>\n",
              "      <td>1.362346e+09</td>\n",
              "      <td>4.690000e+02</td>\n",
              "      <td>4.000000e+00</td>\n",
              "      <td>3.000000e+00</td>\n",
              "      <td>0.000000e+00</td>\n",
              "      <td>0.000000e+00</td>\n",
              "      <td>0.000000e+00</td>\n",
              "      <td>1.724000e+03</td>\n",
              "      <td>1.022000e+03</td>\n",
              "      <td>5.621335e-01</td>\n",
              "      <td>3.460062e-01</td>\n",
              "      <td>4.692620e-01</td>\n",
              "    </tr>\n",
              "    <tr>\n",
              "      <th>50%</th>\n",
              "      <td>1.000000e+00</td>\n",
              "      <td>1.362595e+09</td>\n",
              "      <td>4.183800e+04</td>\n",
              "      <td>8.000000e+00</td>\n",
              "      <td>7.000000e+00</td>\n",
              "      <td>1.000000e+00</td>\n",
              "      <td>0.000000e+00</td>\n",
              "      <td>0.000000e+00</td>\n",
              "      <td>1.033600e+04</td>\n",
              "      <td>3.827000e+03</td>\n",
              "      <td>6.057379e-01</td>\n",
              "      <td>3.760237e-01</td>\n",
              "      <td>6.539603e-01</td>\n",
              "    </tr>\n",
              "    <tr>\n",
              "      <th>75%</th>\n",
              "      <td>1.000000e+00</td>\n",
              "      <td>1.362845e+09</td>\n",
              "      <td>3.846388e+05</td>\n",
              "      <td>2.000000e+01</td>\n",
              "      <td>1.800000e+01</td>\n",
              "      <td>2.000000e+00</td>\n",
              "      <td>1.000000e+00</td>\n",
              "      <td>0.000000e+00</td>\n",
              "      <td>1.083640e+05</td>\n",
              "      <td>8.254000e+03</td>\n",
              "      <td>6.467458e-01</td>\n",
              "      <td>4.038101e-01</td>\n",
              "      <td>8.294996e-01</td>\n",
              "    </tr>\n",
              "    <tr>\n",
              "      <th>max</th>\n",
              "      <td>1.000000e+00</td>\n",
              "      <td>1.363105e+09</td>\n",
              "      <td>3.724681e+07</td>\n",
              "      <td>1.351800e+04</td>\n",
              "      <td>1.288800e+04</td>\n",
              "      <td>2.457000e+03</td>\n",
              "      <td>1.000000e+00</td>\n",
              "      <td>1.000000e+00</td>\n",
              "      <td>2.134713e+06</td>\n",
              "      <td>8.388000e+03</td>\n",
              "      <td>8.936641e-01</td>\n",
              "      <td>6.609906e-01</td>\n",
              "      <td>1.074385e+00</td>\n",
              "    </tr>\n",
              "  </tbody>\n",
              "</table>\n",
              "</div>"
            ],
            "text/plain": [
              "           p_recall     timestamp  ...       Arousal  Concreteness\n",
              "count  3.628934e+06  3.628934e+06  ...  3.628934e+06  3.628934e+06\n",
              "mean   8.361450e-01  1.362589e+09  ...  3.775665e-01  6.499140e-01\n",
              "std    3.701440e-01  2.942436e+05  ...  4.693279e-02  2.153472e-01\n",
              "min    0.000000e+00  1.362083e+09  ...  1.841600e-01  9.250205e-02\n",
              "25%    1.000000e+00  1.362346e+09  ...  3.460062e-01  4.692620e-01\n",
              "50%    1.000000e+00  1.362595e+09  ...  3.760237e-01  6.539603e-01\n",
              "75%    1.000000e+00  1.362845e+09  ...  4.038101e-01  8.294996e-01\n",
              "max    1.000000e+00  1.363105e+09  ...  6.609906e-01  1.074385e+00\n",
              "\n",
              "[8 rows x 13 columns]"
            ]
          },
          "metadata": {
            "tags": []
          },
          "execution_count": 6
        }
      ]
    },
    {
      "cell_type": "markdown",
      "metadata": {
        "id": "xf8Apb5xMK_J"
      },
      "source": [
        "# **Clean data**"
      ]
    },
    {
      "cell_type": "code",
      "metadata": {
        "colab": {
          "base_uri": "https://localhost:8080/"
        },
        "id": "em_IZwZ6WXoT",
        "outputId": "ace79e40-81e9-47f2-8b10-0da2749f5539"
      },
      "source": [
        "cleaned_df = final_dataset.copy()\n",
        "\n",
        "# Columns covering a huge range. Convert to log-space.\n",
        "cleaned_df['log timestamp'] = np.log(cleaned_df.pop('timestamp'))\n",
        "cleaned_df['log delta'] = np.log(cleaned_df.pop('delta'))\n",
        "cleaned_df['log history_seen'] = np.log(cleaned_df.pop('history_seen'))\n",
        "cleaned_df['log history_correct'] = np.log(cleaned_df.pop('history_correct'))\n",
        "cleaned_df['log FREQcount'] = np.log(cleaned_df.pop('FREQcount'))\n",
        "cleaned_df['log CDcount'] = np.log(cleaned_df.pop('CDcount'))\n",
        "cleaned_df['log Valence'] = np.log(cleaned_df.pop('Valence'))\n",
        "cleaned_df['log Arousal'] = np.log(cleaned_df.pop('Arousal'))\n",
        "cleaned_df['log Concreteness'] = np.log(cleaned_df.pop('Concreteness'))\n",
        "cleaned_df.describe()"
      ],
      "execution_count": null,
      "outputs": [
        {
          "output_type": "execute_result",
          "data": {
            "text/html": [
              "<div>\n",
              "<style scoped>\n",
              "    .dataframe tbody tr th:only-of-type {\n",
              "        vertical-align: middle;\n",
              "    }\n",
              "\n",
              "    .dataframe tbody tr th {\n",
              "        vertical-align: top;\n",
              "    }\n",
              "\n",
              "    .dataframe thead th {\n",
              "        text-align: right;\n",
              "    }\n",
              "</style>\n",
              "<table border=\"1\" class=\"dataframe\">\n",
              "  <thead>\n",
              "    <tr style=\"text-align: right;\">\n",
              "      <th></th>\n",
              "      <th>p_recall</th>\n",
              "      <th>history_incorrect</th>\n",
              "      <th>dummy_noun</th>\n",
              "      <th>dummy_verb</th>\n",
              "      <th>log timestamp</th>\n",
              "      <th>log delta</th>\n",
              "      <th>log history_seen</th>\n",
              "      <th>log history_correct</th>\n",
              "      <th>log FREQcount</th>\n",
              "      <th>log CDcount</th>\n",
              "      <th>log Valence</th>\n",
              "      <th>log Arousal</th>\n",
              "      <th>log Concreteness</th>\n",
              "    </tr>\n",
              "  </thead>\n",
              "  <tbody>\n",
              "    <tr>\n",
              "      <th>count</th>\n",
              "      <td>3.628934e+06</td>\n",
              "      <td>3.628934e+06</td>\n",
              "      <td>3.628934e+06</td>\n",
              "      <td>3.628934e+06</td>\n",
              "      <td>3.628934e+06</td>\n",
              "      <td>3.628934e+06</td>\n",
              "      <td>3.628934e+06</td>\n",
              "      <td>3.628934e+06</td>\n",
              "      <td>3.628934e+06</td>\n",
              "      <td>3.628934e+06</td>\n",
              "      <td>3.628934e+06</td>\n",
              "      <td>3.628934e+06</td>\n",
              "      <td>3.628934e+06</td>\n",
              "    </tr>\n",
              "    <tr>\n",
              "      <th>mean</th>\n",
              "      <td>8.361450e-01</td>\n",
              "      <td>5.479667e+00</td>\n",
              "      <td>4.666492e-01</td>\n",
              "      <td>2.197202e-01</td>\n",
              "      <td>2.103265e+01</td>\n",
              "      <td>9.752850e+00</td>\n",
              "      <td>2.275656e+00</td>\n",
              "      <td>2.160277e+00</td>\n",
              "      <td>9.518371e+00</td>\n",
              "      <td>7.862031e+00</td>\n",
              "      <td>-5.078608e-01</td>\n",
              "      <td>-9.817592e-01</td>\n",
              "      <td>-4.956570e-01</td>\n",
              "    </tr>\n",
              "    <tr>\n",
              "      <th>std</th>\n",
              "      <td>3.701440e-01</td>\n",
              "      <td>4.987316e+01</td>\n",
              "      <td>4.988866e-01</td>\n",
              "      <td>4.140571e-01</td>\n",
              "      <td>2.159446e-04</td>\n",
              "      <td>3.559627e+00</td>\n",
              "      <td>1.315525e+00</td>\n",
              "      <td>1.317163e+00</td>\n",
              "      <td>2.492906e+00</td>\n",
              "      <td>1.213273e+00</td>\n",
              "      <td>1.166200e-01</td>\n",
              "      <td>1.248932e-01</td>\n",
              "      <td>3.782716e-01</td>\n",
              "    </tr>\n",
              "    <tr>\n",
              "      <th>min</th>\n",
              "      <td>0.000000e+00</td>\n",
              "      <td>0.000000e+00</td>\n",
              "      <td>0.000000e+00</td>\n",
              "      <td>0.000000e+00</td>\n",
              "      <td>2.103228e+01</td>\n",
              "      <td>0.000000e+00</td>\n",
              "      <td>0.000000e+00</td>\n",
              "      <td>0.000000e+00</td>\n",
              "      <td>2.944439e+00</td>\n",
              "      <td>2.639057e+00</td>\n",
              "      <td>-2.016613e+00</td>\n",
              "      <td>-1.691950e+00</td>\n",
              "      <td>-2.380524e+00</td>\n",
              "    </tr>\n",
              "    <tr>\n",
              "      <th>25%</th>\n",
              "      <td>1.000000e+00</td>\n",
              "      <td>0.000000e+00</td>\n",
              "      <td>0.000000e+00</td>\n",
              "      <td>0.000000e+00</td>\n",
              "      <td>2.103247e+01</td>\n",
              "      <td>6.150603e+00</td>\n",
              "      <td>1.386294e+00</td>\n",
              "      <td>1.098612e+00</td>\n",
              "      <td>7.452402e+00</td>\n",
              "      <td>6.929517e+00</td>\n",
              "      <td>-5.760160e-01</td>\n",
              "      <td>-1.061299e+00</td>\n",
              "      <td>-7.565941e-01</td>\n",
              "    </tr>\n",
              "    <tr>\n",
              "      <th>50%</th>\n",
              "      <td>1.000000e+00</td>\n",
              "      <td>1.000000e+00</td>\n",
              "      <td>0.000000e+00</td>\n",
              "      <td>0.000000e+00</td>\n",
              "      <td>2.103266e+01</td>\n",
              "      <td>1.064156e+01</td>\n",
              "      <td>2.079442e+00</td>\n",
              "      <td>1.945910e+00</td>\n",
              "      <td>9.243388e+00</td>\n",
              "      <td>8.249836e+00</td>\n",
              "      <td>-5.013079e-01</td>\n",
              "      <td>-9.781031e-01</td>\n",
              "      <td>-4.247086e-01</td>\n",
              "    </tr>\n",
              "    <tr>\n",
              "      <th>75%</th>\n",
              "      <td>1.000000e+00</td>\n",
              "      <td>2.000000e+00</td>\n",
              "      <td>1.000000e+00</td>\n",
              "      <td>0.000000e+00</td>\n",
              "      <td>2.103284e+01</td>\n",
              "      <td>1.286006e+01</td>\n",
              "      <td>2.995732e+00</td>\n",
              "      <td>2.890372e+00</td>\n",
              "      <td>1.159325e+01</td>\n",
              "      <td>9.018453e+00</td>\n",
              "      <td>-4.358019e-01</td>\n",
              "      <td>-9.068106e-01</td>\n",
              "      <td>-1.869326e-01</td>\n",
              "    </tr>\n",
              "    <tr>\n",
              "      <th>max</th>\n",
              "      <td>1.000000e+00</td>\n",
              "      <td>2.457000e+03</td>\n",
              "      <td>1.000000e+00</td>\n",
              "      <td>1.000000e+00</td>\n",
              "      <td>2.103303e+01</td>\n",
              "      <td>1.743308e+01</td>\n",
              "      <td>9.511777e+00</td>\n",
              "      <td>9.464052e+00</td>\n",
              "      <td>1.457384e+01</td>\n",
              "      <td>9.034557e+00</td>\n",
              "      <td>-1.124253e-01</td>\n",
              "      <td>-4.140156e-01</td>\n",
              "      <td>7.174847e-02</td>\n",
              "    </tr>\n",
              "  </tbody>\n",
              "</table>\n",
              "</div>"
            ],
            "text/plain": [
              "           p_recall  history_incorrect  ...   log Arousal  log Concreteness\n",
              "count  3.628934e+06       3.628934e+06  ...  3.628934e+06      3.628934e+06\n",
              "mean   8.361450e-01       5.479667e+00  ... -9.817592e-01     -4.956570e-01\n",
              "std    3.701440e-01       4.987316e+01  ...  1.248932e-01      3.782716e-01\n",
              "min    0.000000e+00       0.000000e+00  ... -1.691950e+00     -2.380524e+00\n",
              "25%    1.000000e+00       0.000000e+00  ... -1.061299e+00     -7.565941e-01\n",
              "50%    1.000000e+00       1.000000e+00  ... -9.781031e-01     -4.247086e-01\n",
              "75%    1.000000e+00       2.000000e+00  ... -9.068106e-01     -1.869326e-01\n",
              "max    1.000000e+00       2.457000e+03  ... -4.140156e-01      7.174847e-02\n",
              "\n",
              "[8 rows x 13 columns]"
            ]
          },
          "metadata": {
            "tags": []
          },
          "execution_count": 7
        }
      ]
    },
    {
      "cell_type": "markdown",
      "metadata": {
        "id": "JHZt2yHfOxfh"
      },
      "source": [
        "**Imbalanced data**  \n",
        "On target variable \"p_recall\""
      ]
    },
    {
      "cell_type": "code",
      "metadata": {
        "colab": {
          "base_uri": "https://localhost:8080/"
        },
        "id": "SXoiXKd7OvlU",
        "outputId": "dc6ef63d-cd20-468f-b921-182549fa2ac1"
      },
      "source": [
        "# Describe target\n",
        "neg_clean, pos_clean = np.bincount(cleaned_df['p_recall'])\n",
        "total_clean = neg_clean + pos_clean\n",
        "print('Examples:\\n\\tTotal:\\t\\t{}\\n\\tNegative:\\t{}\\t({:.2f}% of total)\\n\\tPositive:\\t{}\\t({:.2f}% of total)\\n'.format(\n",
        "    total_clean, neg_clean, 100 * neg_clean / total_clean, pos_clean, 100 * pos_clean / total_clean))\n",
        "# visualize target\n",
        "g = sns.countplot(x='p_recall',data=cleaned_df)\n",
        "g.set_xticklabels(['Unsuccessful session','Successful session'])\n",
        "plt.show()"
      ],
      "execution_count": null,
      "outputs": [
        {
          "output_type": "stream",
          "text": [
            "Examples:\n",
            "\tTotal:\t\t3628934\n",
            "\tNegative:\t594619\t(16.39% of total)\n",
            "\tPositive:\t3034315\t(83.61% of total)\n",
            "\n"
          ],
          "name": "stdout"
        },
        {
          "output_type": "display_data",
          "data": {
            "image/png": "[encoded data removed]",
            "text/plain": [
              "<Figure size 432x288 with 1 Axes>"
            ]
          },
          "metadata": {
            "tags": [],
            "needs_background": "light"
          }
        }
      ]
    },
    {
      "cell_type": "markdown",
      "metadata": {
        "id": "HaBz38EqS57m"
      },
      "source": [
        "# **Create features and labels**"
      ]
    },
    {
      "cell_type": "code",
      "metadata": {
        "id": "AkYF4bebS5q9"
      },
      "source": [
        "# Create labels train and test\n",
        "# .pop already deletes p_recall from data\n",
        "df = cleaned_df.copy()\n",
        "\n",
        "y = np.array(df.pop('p_recall'))\n",
        "x = np.array(df.copy())"
      ],
      "execution_count": null,
      "outputs": []
    },
    {
      "cell_type": "markdown",
      "metadata": {
        "id": "nVIiWWEaN5bA"
      },
      "source": [
        "# **MLP Plots**  \n",
        "Visualisation of neural network"
      ]
    },
    {
      "cell_type": "code",
      "metadata": {
        "colab": {
          "base_uri": "https://localhost:8080/"
        },
        "id": "iJ1tvdmJORNt",
        "outputId": "07cac8f2-d5cc-46d4-89ef-83654942fffc"
      },
      "source": [
        "# Reset keras session\n",
        "K.clear_session()\n",
        "\n",
        "def make_model():\n",
        "  model = keras.Sequential([\n",
        "      # bias = false because batchnorm\n",
        "      keras.layers.Dense(64, activation='relu', input_shape=(12,), use_bias=False),\n",
        "      keras.layers.BatchNormalization(),\n",
        "      keras.layers.Dropout(0.1),\n",
        "      keras.layers.Dense(64, activation='relu', use_bias=False),\n",
        "      keras.layers.BatchNormalization(),\n",
        "      keras.layers.Dropout(0.1),\n",
        "      keras.layers.Dense(64, activation='relu', use_bias=False),\n",
        "      keras.layers.BatchNormalization(),\n",
        "      keras.layers.Dropout(0.1),\n",
        "      keras.layers.Dense(1, activation='sigmoid'),\n",
        "  ])\n",
        "  model.compile(\n",
        "      optimizer=keras.optimizers.Adam(learning_rate=.001),\n",
        "      loss=keras.losses.BinaryCrossentropy(),\n",
        "      )\n",
        "\n",
        "  return model\n",
        "\n",
        "model = make_model()\n",
        "model.summary()"
      ],
      "execution_count": null,
      "outputs": [
        {
          "output_type": "stream",
          "text": [
            "Model: \"sequential\"\n",
            "_________________________________________________________________\n",
            "Layer (type)                 Output Shape              Param #   \n",
            "=================================================================\n",
            "dense (Dense)                (None, 64)                768       \n",
            "_________________________________________________________________\n",
            "batch_normalization (BatchNo (None, 64)                256       \n",
            "_________________________________________________________________\n",
            "dropout (Dropout)            (None, 64)                0         \n",
            "_________________________________________________________________\n",
            "dense_1 (Dense)              (None, 64)                4096      \n",
            "_________________________________________________________________\n",
            "batch_normalization_1 (Batch (None, 64)                256       \n",
            "_________________________________________________________________\n",
            "dropout_1 (Dropout)          (None, 64)                0         \n",
            "_________________________________________________________________\n",
            "dense_2 (Dense)              (None, 64)                4096      \n",
            "_________________________________________________________________\n",
            "batch_normalization_2 (Batch (None, 64)                256       \n",
            "_________________________________________________________________\n",
            "dropout_2 (Dropout)          (None, 64)                0         \n",
            "_________________________________________________________________\n",
            "dense_3 (Dense)              (None, 1)                 65        \n",
            "=================================================================\n",
            "Total params: 9,793\n",
            "Trainable params: 9,409\n",
            "Non-trainable params: 384\n",
            "_________________________________________________________________\n"
          ],
          "name": "stdout"
        }
      ]
    },
    {
      "cell_type": "code",
      "metadata": {
        "colab": {
          "base_uri": "https://localhost:8080/",
          "height": 1000
        },
        "id": "jPbnBP_mlvIq",
        "outputId": "60239d62-8954-4b6d-e7ec-cdb00f3b043a"
      },
      "source": [
        "# Nice visualisation\n",
        "plot_model(model, to_file='/content/drive/My Drive/Colab Notebooks/Results/MLP_plot.png', show_shapes=True, show_layer_names=True)"
      ],
      "execution_count": null,
      "outputs": [
        {
          "output_type": "execute_result",
          "data": {
            "image/png": "[encoded data removed]",
            "text/plain": [
              "<IPython.core.display.Image object>"
            ]
          },
          "metadata": {
            "tags": []
          },
          "execution_count": 13
        }
      ]
    },
    {
      "cell_type": "markdown",
      "metadata": {
        "id": "izAPLGKDLQ2f"
      },
      "source": [
        "# **MLP Model**  \n",
        "3 repeated stratified 5 fold  \n",
        "Sampler and scaler + reshaping data done manually"
      ]
    },
    {
      "cell_type": "markdown",
      "metadata": {
        "id": "nLG8Wk4ySwE0"
      },
      "source": [
        "Confusion matrix printing in output (to check F1 and specificity)\n"
      ]
    },
    {
      "cell_type": "code",
      "metadata": {
        "id": "0eg9AC2CP211"
      },
      "source": [
        "def plot_cm(labels, predictions, p=0.5):\n",
        "  cm = confusion_matrix(labels, predictions > p)\n",
        "  print('\\np_recall 0 correctly predicted (True Negatives):\\t', cm[0][0])\n",
        "  print('p_recall 1 incorrectly predicted (False Positives):\\t', cm[0][1])\n",
        "  print('p_recall 0 incorrectly predicted (False Negatives):\\t', cm[1][0])\n",
        "  print('p_recall 1 correctly predicted (True Positives):\\t', cm[1][1])\n",
        "  print('Total incorrectly predicted p_recall:\\t\\t\\t', cm[1][0]+cm[0][1])"
      ],
      "execution_count": null,
      "outputs": []
    },
    {
      "cell_type": "markdown",
      "metadata": {
        "id": "4AnwqEYrdKBk"
      },
      "source": [
        "Define focal loss function"
      ]
    },
    {
      "cell_type": "code",
      "metadata": {
        "id": "-5bxTC4oTe9D"
      },
      "source": [
        "def binary_focal_loss(gamma=2., alpha=.25):\n",
        "    \"\"\"\n",
        "    Binary form of focal loss.\n",
        "      FL(p_t) = -alpha * (1 - p_t)**gamma * log(p_t)\n",
        "      where p = sigmoid(x), p_t = p or 1 - p depending on if the label is 1 or 0, respectively.\n",
        "    References:\n",
        "        https://arxiv.org/pdf/1708.02002.pdf\n",
        "    Usage:\n",
        "     model.compile(loss=[binary_focal_loss(alpha=.25, gamma=2)], metrics=[\"accuracy\"], optimizer=adam)\n",
        "    \"\"\"\n",
        "\n",
        "    def binary_focal_loss_fixed(y_true, y_pred):\n",
        "        \"\"\"\n",
        "        :param y_true: A tensor of the same shape as `y_pred`\n",
        "        :param y_pred:  A tensor resulting from a sigmoid\n",
        "        :return: Output tensor.\n",
        "        \"\"\"\n",
        "        y_true = tf.cast(y_true, tf.float32)\n",
        "        # Define epsilon so that the back-propagation will not result in NaN for 0 divisor case\n",
        "        epsilon = K.epsilon()\n",
        "        # Add the epsilon to prediction value\n",
        "        # y_pred = y_pred + epsilon\n",
        "        # Clip the prediciton value\n",
        "        y_pred = K.clip(y_pred, epsilon, 1.0 - epsilon)\n",
        "        # Calculate p_t\n",
        "        p_t = tf.where(K.equal(y_true, 1), y_pred, 1 - y_pred)\n",
        "        # Calculate alpha_t\n",
        "        alpha_factor = K.ones_like(y_true) * alpha\n",
        "        alpha_t = tf.where(K.equal(y_true, 1), alpha_factor, 1 - alpha_factor)\n",
        "        # Calculate cross entropy\n",
        "        cross_entropy = -K.log(p_t)\n",
        "        weight = alpha_t * K.pow((1 - p_t), gamma)\n",
        "        # Calculate focal loss\n",
        "        loss = weight * cross_entropy\n",
        "        # Sum the losses in mini_batch\n",
        "        loss = K.mean(K.sum(loss, axis=1))\n",
        "        return loss\n",
        "\n",
        "    return binary_focal_loss_fixed"
      ],
      "execution_count": null,
      "outputs": []
    },
    {
      "cell_type": "code",
      "metadata": {
        "id": "ZSimp_1bGIIa"
      },
      "source": [
        "# Reset keras session\n",
        "K.clear_session()\n",
        "\n",
        "# fix random seed for reproducibility\n",
        "np.random.seed(14)\n",
        "tf.random.set_seed(14)\n",
        "\n",
        "scaler = StandardScaler()\n",
        "a = 0\n",
        "b = 0\n",
        "\n",
        "METRICS = [\n",
        "          keras.metrics.TruePositives(name='tp'),\n",
        "          keras.metrics.FalsePositives(name='fp'),\n",
        "          keras.metrics.TrueNegatives(name='tn'),\n",
        "          keras.metrics.FalseNegatives(name='fn'),\n",
        "          keras.metrics.BinaryAccuracy(name='accuracy'),\n",
        "          keras.metrics.AUC(name='ROC_AUC'),\n",
        "          keras.metrics.AUC(name='prc', curve='PR'), # precision-recall curve as a little extra\n",
        "    ]\n",
        "\n",
        "# Max 100 epochs\n",
        "# Highest batchsize possible (high number of lines)\n",
        "EPOCHS = 100\n",
        "BATCH_SIZE = 16384\n",
        "\n",
        "# Use early stopping, min validation loss, patience: 10 epoch\n",
        "early_stopping = tf.keras.callbacks.EarlyStopping(\n",
        "    monitor='val_loss', \n",
        "    verbose=1,\n",
        "    patience=20,\n",
        "    mode='min',\n",
        "    restore_best_weights=True)\n",
        "\n",
        "# k-fold: 5, repeat: 3, random_state to reproduce because comp and time restriction (multiple models)\n",
        "cv = RepeatedStratifiedKFold(n_splits=5, n_repeats=3, random_state=14)"
      ],
      "execution_count": null,
      "outputs": []
    },
    {
      "cell_type": "code",
      "metadata": {
        "colab": {
          "base_uri": "https://localhost:8080/",
          "height": 1000
        },
        "id": "K27K2L4asuIb",
        "outputId": "c1efe97f-37d0-4c76-c326-57240c356c80"
      },
      "source": [
        "# Runtime complete 3 repeated 5 fold in seconds:\n",
        "# 3300 sec\n",
        "\n",
        "# Manual loop to reshape k fold train data for GRU prediction model\n",
        "plt.rcParams[\"figure.figsize\"] = (12,12)\n",
        "\n",
        "accuracy_MLP = []\n",
        "specificity_MLP = []\n",
        "ROC_AUC_MLP = []\n",
        "F1_MLP = []\n",
        "\n",
        "# ROC AUC plot\n",
        "tprs = []\n",
        "aucs = []\n",
        "mean_fpr = np.linspace(0, 1, 100)\n",
        "fig, ax = plt.subplots()\n",
        "\n",
        "# Loop through the indices the split() method returns\n",
        "for index, (train_index, test_index) in enumerate(cv.split(x, y)):\n",
        "    index = index+1\n",
        "    \n",
        "    # Reset keras session\n",
        "    K.clear_session()\n",
        "\n",
        "    #print(\"TRAIN:\", train_index, \"TEST:\", test_index)\n",
        "    x_train, x_test = x[train_index], x[test_index]\n",
        "    y_train, y_test = y[train_index], y[test_index]\n",
        "\n",
        "    # Split temp train to train and val set \n",
        "    # Train = 0.6\n",
        "    # Val   = 0.2\n",
        "    # Test  = 0.2\n",
        "    train_features, val_features, train_labels, val_labels = train_test_split(\n",
        "        x_train, y_train, test_size=0.25,random_state=14, stratify = y_train)\n",
        "\n",
        "    # Sampling method\n",
        "    # None\n",
        "\n",
        "    # Check Sampling method\n",
        "    while a < 1:\n",
        "      # Print initial split 80% train (train + val), 20% test\n",
        "      print('Train feats (train + val) dataset:', x_train.shape, '\\tTest feats:', x_test.shape)\n",
        "      print('Train labels (train + val) dataset:', y_train.shape, '\\t\\tTest labels:', y_test.shape)\n",
        "      \n",
        "      print('\\nTrain feats sampled dataset:', train_features.shape, '\\tVal feats:', val_features.shape, '\\tTest feats:', x_test.shape)\n",
        "      print('Train labels sampled dataset:',  train_labels.shape, '\\tVal labels:', val_labels.shape, '\\t\\tTest labels:', y_test.shape)\n",
        "      # Check stratify\n",
        "      neg, pos = np.bincount(train_labels)\n",
        "      total = neg + pos\n",
        "      print('\\nTrain set:\\n    Total:\\t{}\\n    Negative:\\t{}\\t({:.2f}%)\\n    Positive:\\t{}\\t({:.2f}%)'.format(\n",
        "          total, neg, 100 * neg / total, pos, 100 * pos / total))\n",
        "      neg, pos = np.bincount(val_labels)\n",
        "      total = neg + pos\n",
        "      print('\\nVal set:\\n    Total:\\t{}\\n    Negative:\\t{}\\t({:.2f}%)\\n    Positive:\\t{}\\t({:.2f}%)'.format(\n",
        "          total, neg, 100 * neg / total, pos, 100 * pos / total))\n",
        "      neg, pos = np.bincount(y_test)\n",
        "      total = neg + pos\n",
        "      print('\\nTest set:\\n    Total:\\t{}\\n    Negative:\\t{}\\t({:.2f}%)\\n    Positive:\\t{}\\t({:.2f}%)\\n'.format(\n",
        "          total, neg, 100 * neg / total, pos, 100 * pos / total))\n",
        "      a = a + 1\n",
        "\n",
        "    # Normalize using standardscaler\n",
        "    # Norm to mean 0, standard deviation 1\n",
        "    # Fit scaler on train data, and use it on val and test to simulate real world scenario and avoid data leakage\n",
        "    train_features_rus = scaler.fit_transform(train_features)\n",
        "    val_features_scaled = scaler.transform(val_features)\n",
        "    test_features_scaled = scaler.transform(x_test)\n",
        "\n",
        "    # Clear model, and create it\n",
        "    model = None\n",
        "\n",
        "    # Dunno if this works but as a proper programmer would say: best leave it... \n",
        "    os.environ['TF_DETERMINISTIC_OPS'] = '1'\n",
        "\n",
        "    # Create the model can be outside loop but can't be bothered \n",
        "    def make_model(metrics=METRICS):\n",
        "      model = keras.Sequential([\n",
        "          # bias = false because batchnorm\n",
        "          keras.layers.Dense(64, activation='relu', input_shape=(train_features_rus.shape[-1],), use_bias=False),\n",
        "          keras.layers.BatchNormalization(),\n",
        "          keras.layers.Dropout(0.1),\n",
        "          keras.layers.Dense(64, activation='relu', use_bias=False),\n",
        "          keras.layers.BatchNormalization(),\n",
        "          keras.layers.Dropout(0.1),\n",
        "          keras.layers.Dense(64, activation='relu', use_bias=False),\n",
        "          keras.layers.BatchNormalization(),\n",
        "          keras.layers.Dropout(0.1),\n",
        "          keras.layers.Dense(1, activation='sigmoid'),\n",
        "      ])\n",
        "\n",
        "      # Compile with new focal loss function\n",
        "      model.compile(\n",
        "          optimizer=keras.optimizers.Adam(learning_rate=.001),\n",
        "          loss=[binary_focal_loss(alpha=.25, gamma=2)],\n",
        "          metrics=METRICS)\n",
        "      return model\n",
        "    \n",
        "    model = make_model()\n",
        "\n",
        "    # Fit model on train, use validation set for model fit\n",
        "    model.fit(train_features_rus,train_labels, batch_size=BATCH_SIZE, epochs=EPOCHS,\n",
        "              callbacks=[early_stopping],validation_data=(val_features_scaled, val_labels), verbose=0)\n",
        "\n",
        "    # Predict on test\n",
        "    test_predictions_baseline = model.predict(test_features_scaled, batch_size=BATCH_SIZE, verbose=0)\n",
        "\n",
        "    # Evaluate on test\n",
        "    baseline_results = model.evaluate(test_features_scaled, y_test, batch_size=BATCH_SIZE, verbose=0)\n",
        "\n",
        "    # Append scores for future evalution\n",
        "    accuracy_MLP.append(baseline_results[5])\n",
        "    ROC_AUC_MLP.append(baseline_results[6])    \n",
        "\n",
        "    print('')\n",
        "    # Print all scores\n",
        "    for name, value in zip(model.metrics_names, baseline_results):\n",
        "      print(name, ': ', value)\n",
        "    \n",
        "    # Create and append F1 and specificity score, because only god knows why keras doesn't have it in their metrics\n",
        "    f1_score = 2 * (baseline_results[6] * baseline_results[7]) / (baseline_results[6] + baseline_results[7])\n",
        "    print('f1:', f1_score)\n",
        "    \n",
        "    # True neg / (true neg + false pos)\n",
        "    specificity_score = baseline_results[3] / (baseline_results[3] + baseline_results[2] + K.epsilon()) #tn / (tn + fn + epsilon in rare case of 0)\n",
        "    print('specificity:', specificity_score,'\\n')\n",
        "\n",
        "    F1_MLP.append(f1_score)\n",
        "    specificity_MLP.append(specificity_score)\n",
        "\n",
        "    # Add Classifier type to model (keras didn't add it dunno why)\n",
        "    model._estimator_type = \"classifier\"\n",
        "    # ROC AUC plot\n",
        "    # `model.predict_proba()` is deprecated, but this still works by altering estimator_type :)\n",
        "    probas_ = model.predict_proba(test_features_scaled)\n",
        "    # Compute ROC curve and area the curve\n",
        "    fpr, tpr, thresholds = roc_curve(y_test, probas_)\n",
        "    tprs.append(interp(mean_fpr, fpr, tpr))\n",
        "    tprs[-1][0] = 0.0\n",
        "    roc_auc = auc(fpr, tpr)\n",
        "    aucs.append(roc_auc)\n",
        "    plt.plot(fpr, tpr, lw=1, alpha=0.3,\n",
        "             label='ROC fold %d (AUC = %0.2f)' % (index, roc_auc))\n",
        "\n",
        "    # Future: Create and add averaged cm plot\n",
        "    # If time available...\n",
        "    plot_cm(y_test, test_predictions_baseline)\n",
        "\n",
        "    print('\\nRun:', index, 'completed\\n')\n",
        "\n",
        "plt.plot([0, 1], [0, 1], linestyle='--', lw=2, color='r',\n",
        "         label='Chance', alpha=.8)\n",
        "\n",
        "mean_tpr = np.mean(tprs, axis=0)\n",
        "mean_tpr[-1] = 1.0\n",
        "mean_auc = auc(mean_fpr, mean_tpr)\n",
        "std_auc = np.std(aucs)\n",
        "plt.plot(mean_fpr, mean_tpr, color='b',\n",
        "         label=r'Mean ROC (AUC = %0.2f $\\pm$ %0.2f)' % (mean_auc, std_auc),\n",
        "         lw=2, alpha=.8)\n",
        "\n",
        "std_tpr = np.std(tprs, axis=0)\n",
        "tprs_upper = np.minimum(mean_tpr + std_tpr, 1)\n",
        "tprs_lower = np.maximum(mean_tpr - std_tpr, 0)\n",
        "plt.fill_between(mean_fpr, tprs_lower, tprs_upper, color='grey', alpha=.2,\n",
        "                 label=r'$\\pm$ 1 std. dev.')\n",
        "\n",
        "plt.xlim([-0.01, 1.01])\n",
        "plt.ylim([-0.01, 1.01])\n",
        "plt.xlabel('False Positive Rate',fontsize=18)\n",
        "plt.ylabel('True Positive Rate',fontsize=18)\n",
        "plt.title('Cross-Validation ROC of GRU',fontsize=18)\n",
        "plt.legend(loc=\"lower right\", prop={'size': 12})\n",
        "\n",
        "# Specify ROC_AUC plot for sampling method\n",
        "plt.savefig('/content/drive/My Drive/Colab Notebooks/Results/FocalLoss_MLP_ROC_AUC_plot.png')\n",
        "plt.show()"
      ],
      "execution_count": null,
      "outputs": [
        {
          "output_type": "stream",
          "text": [
            "Train feats (train + val) dataset: (2903147, 12) \tTest feats: (725787, 12)\n",
            "Train labels (train + val) dataset: (2903147,) \t\tTest labels: (725787,)\n",
            "\n",
            "Train feats sampled dataset: (2177360, 12) \tVal feats: (725787, 12) \tTest feats: (725787, 12)\n",
            "Train labels sampled dataset: (2177360,) \tVal labels: (725787,) \t\tTest labels: (725787,)\n",
            "\n",
            "Train set:\n",
            "    Total:\t2177360\n",
            "    Negative:\t356771\t(16.39%)\n",
            "    Positive:\t1820589\t(83.61%)\n",
            "\n",
            "Val set:\n",
            "    Total:\t725787\n",
            "    Negative:\t118924\t(16.39%)\n",
            "    Positive:\t606863\t(83.61%)\n",
            "\n",
            "Test set:\n",
            "    Total:\t725787\n",
            "    Negative:\t118924\t(16.39%)\n",
            "    Positive:\t606863\t(83.61%)\n",
            "\n",
            "\n",
            "loss :  0.051928550004959106\n",
            "tp :  546169.0\n",
            "fp :  89682.0\n",
            "tn :  29242.0\n",
            "fn :  60694.0\n",
            "accuracy :  0.7928097248077393\n",
            "ROC_AUC :  0.6600784659385681\n",
            "prc :  0.901549220085144\n",
            "f1: 0.762144820417686\n",
            "specificity: 0.24588813023422867 \n",
            "\n"
          ],
          "name": "stdout"
        },
        {
          "output_type": "stream",
          "text": [
            "/usr/local/lib/python3.7/dist-packages/tensorflow/python/keras/engine/sequential.py:430: UserWarning: `model.predict_proba()` is deprecated and will be removed after 2021-01-01. Please use `model.predict()` instead.\n",
            "  warnings.warn('`model.predict_proba()` is deprecated and '\n",
            "/usr/local/lib/python3.7/dist-packages/ipykernel_launcher.py:137: DeprecationWarning: scipy.interp is deprecated and will be removed in SciPy 2.0.0, use numpy.interp instead\n"
          ],
          "name": "stderr"
        },
        {
          "output_type": "stream",
          "text": [
            "\n",
            "p_recall 0 correctly predicted (True Negatives):\t 29242\n",
            "p_recall 1 incorrectly predicted (False Positives):\t 89682\n",
            "p_recall 0 incorrectly predicted (False Negatives):\t 60694\n",
            "p_recall 1 correctly predicted (True Positives):\t 546169\n",
            "Total incorrectly predicted p_recall:\t\t\t 150376\n",
            "\n",
            "Run: 1 completed\n",
            "\n",
            "\n",
            "loss :  0.051869191229343414\n",
            "tp :  545242.0\n",
            "fp :  89083.0\n",
            "tn :  29841.0\n",
            "fn :  61621.0\n",
            "accuracy :  0.7923578023910522\n",
            "ROC_AUC :  0.6615224480628967\n",
            "prc :  0.9022166132926941\n",
            "f1: 0.7633454422901054\n",
            "specificity: 0.25092496047875035 \n",
            "\n"
          ],
          "name": "stdout"
        },
        {
          "output_type": "stream",
          "text": [
            "/usr/local/lib/python3.7/dist-packages/tensorflow/python/keras/engine/sequential.py:430: UserWarning: `model.predict_proba()` is deprecated and will be removed after 2021-01-01. Please use `model.predict()` instead.\n",
            "  warnings.warn('`model.predict_proba()` is deprecated and '\n",
            "/usr/local/lib/python3.7/dist-packages/ipykernel_launcher.py:137: DeprecationWarning: scipy.interp is deprecated and will be removed in SciPy 2.0.0, use numpy.interp instead\n"
          ],
          "name": "stderr"
        },
        {
          "output_type": "stream",
          "text": [
            "\n",
            "p_recall 0 correctly predicted (True Negatives):\t 29841\n",
            "p_recall 1 incorrectly predicted (False Positives):\t 89083\n",
            "p_recall 0 incorrectly predicted (False Negatives):\t 61621\n",
            "p_recall 1 correctly predicted (True Positives):\t 545242\n",
            "Total incorrectly predicted p_recall:\t\t\t 150704\n",
            "\n",
            "Run: 2 completed\n",
            "\n",
            "\n",
            "loss :  0.05193158984184265\n",
            "tp :  554033.0\n",
            "fp :  92195.0\n",
            "tn :  26729.0\n",
            "fn :  52830.0\n",
            "accuracy :  0.8001824021339417\n",
            "ROC_AUC :  0.6604211926460266\n",
            "prc :  0.9017165303230286\n",
            "f1: 0.7624330398381504\n",
            "specificity: 0.22475698765579297 \n",
            "\n"
          ],
          "name": "stdout"
        },
        {
          "output_type": "stream",
          "text": [
            "/usr/local/lib/python3.7/dist-packages/tensorflow/python/keras/engine/sequential.py:430: UserWarning: `model.predict_proba()` is deprecated and will be removed after 2021-01-01. Please use `model.predict()` instead.\n",
            "  warnings.warn('`model.predict_proba()` is deprecated and '\n",
            "/usr/local/lib/python3.7/dist-packages/ipykernel_launcher.py:137: DeprecationWarning: scipy.interp is deprecated and will be removed in SciPy 2.0.0, use numpy.interp instead\n"
          ],
          "name": "stderr"
        },
        {
          "output_type": "stream",
          "text": [
            "\n",
            "p_recall 0 correctly predicted (True Negatives):\t 26729\n",
            "p_recall 1 incorrectly predicted (False Positives):\t 92195\n",
            "p_recall 0 incorrectly predicted (False Negatives):\t 52830\n",
            "p_recall 1 correctly predicted (True Positives):\t 554033\n",
            "Total incorrectly predicted p_recall:\t\t\t 145025\n",
            "\n",
            "Run: 3 completed\n",
            "\n",
            "\n",
            "loss :  0.05192858353257179\n",
            "tp :  544468.0\n",
            "fp :  88907.0\n",
            "tn :  30017.0\n",
            "fn :  62395.0\n",
            "accuracy :  0.791533887386322\n",
            "ROC_AUC :  0.6601530909538269\n",
            "prc :  0.9012351036071777\n",
            "f1: 0.762082282157444\n",
            "specificity: 0.2524048972450873 \n",
            "\n"
          ],
          "name": "stdout"
        },
        {
          "output_type": "stream",
          "text": [
            "/usr/local/lib/python3.7/dist-packages/tensorflow/python/keras/engine/sequential.py:430: UserWarning: `model.predict_proba()` is deprecated and will be removed after 2021-01-01. Please use `model.predict()` instead.\n",
            "  warnings.warn('`model.predict_proba()` is deprecated and '\n",
            "/usr/local/lib/python3.7/dist-packages/ipykernel_launcher.py:137: DeprecationWarning: scipy.interp is deprecated and will be removed in SciPy 2.0.0, use numpy.interp instead\n"
          ],
          "name": "stderr"
        },
        {
          "output_type": "stream",
          "text": [
            "\n",
            "p_recall 0 correctly predicted (True Negatives):\t 30017\n",
            "p_recall 1 incorrectly predicted (False Positives):\t 88907\n",
            "p_recall 0 incorrectly predicted (False Negatives):\t 62395\n",
            "p_recall 1 correctly predicted (True Positives):\t 544468\n",
            "Total incorrectly predicted p_recall:\t\t\t 151302\n",
            "\n",
            "Run: 4 completed\n",
            "\n",
            "\n",
            "loss :  0.05187297984957695\n",
            "tp :  552125.0\n",
            "fp :  91323.0\n",
            "tn :  27600.0\n",
            "fn :  54738.0\n",
            "accuracy :  0.7987547516822815\n",
            "ROC_AUC :  0.6617845892906189\n",
            "prc :  0.9021985530853271\n",
            "f1: 0.763513471130041\n",
            "specificity: 0.23208294442603022 \n",
            "\n"
          ],
          "name": "stdout"
        },
        {
          "output_type": "stream",
          "text": [
            "/usr/local/lib/python3.7/dist-packages/tensorflow/python/keras/engine/sequential.py:430: UserWarning: `model.predict_proba()` is deprecated and will be removed after 2021-01-01. Please use `model.predict()` instead.\n",
            "  warnings.warn('`model.predict_proba()` is deprecated and '\n",
            "/usr/local/lib/python3.7/dist-packages/ipykernel_launcher.py:137: DeprecationWarning: scipy.interp is deprecated and will be removed in SciPy 2.0.0, use numpy.interp instead\n"
          ],
          "name": "stderr"
        },
        {
          "output_type": "stream",
          "text": [
            "\n",
            "p_recall 0 correctly predicted (True Negatives):\t 27600\n",
            "p_recall 1 incorrectly predicted (False Positives):\t 91323\n",
            "p_recall 0 incorrectly predicted (False Negatives):\t 54738\n",
            "p_recall 1 correctly predicted (True Positives):\t 552125\n",
            "Total incorrectly predicted p_recall:\t\t\t 146061\n",
            "\n",
            "Run: 5 completed\n",
            "\n",
            "\n",
            "loss :  0.05189160257577896\n",
            "tp :  551042.0\n",
            "fp :  91166.0\n",
            "tn :  27758.0\n",
            "fn :  55821.0\n",
            "accuracy :  0.7974791526794434\n",
            "ROC_AUC :  0.6609233021736145\n",
            "prc :  0.9019702672958374\n",
            "f1: 0.7628583022783171\n",
            "specificity: 0.2334095724998878 \n",
            "\n"
          ],
          "name": "stdout"
        },
        {
          "output_type": "stream",
          "text": [
            "/usr/local/lib/python3.7/dist-packages/tensorflow/python/keras/engine/sequential.py:430: UserWarning: `model.predict_proba()` is deprecated and will be removed after 2021-01-01. Please use `model.predict()` instead.\n",
            "  warnings.warn('`model.predict_proba()` is deprecated and '\n",
            "/usr/local/lib/python3.7/dist-packages/ipykernel_launcher.py:137: DeprecationWarning: scipy.interp is deprecated and will be removed in SciPy 2.0.0, use numpy.interp instead\n"
          ],
          "name": "stderr"
        },
        {
          "output_type": "stream",
          "text": [
            "\n",
            "p_recall 0 correctly predicted (True Negatives):\t 27758\n",
            "p_recall 1 incorrectly predicted (False Positives):\t 91166\n",
            "p_recall 0 incorrectly predicted (False Negatives):\t 55821\n",
            "p_recall 1 correctly predicted (True Positives):\t 551042\n",
            "Total incorrectly predicted p_recall:\t\t\t 146987\n",
            "\n",
            "Run: 6 completed\n",
            "\n",
            "\n",
            "loss :  0.05193982645869255\n",
            "tp :  545299.0\n",
            "fp :  89032.0\n",
            "tn :  29892.0\n",
            "fn :  61564.0\n",
            "accuracy :  0.7925066351890564\n",
            "ROC_AUC :  0.6600229740142822\n",
            "prc :  0.9013032913208008\n",
            "f1: 0.7620199468030417\n",
            "specificity: 0.251353805791723 \n",
            "\n"
          ],
          "name": "stdout"
        },
        {
          "output_type": "stream",
          "text": [
            "/usr/local/lib/python3.7/dist-packages/tensorflow/python/keras/engine/sequential.py:430: UserWarning: `model.predict_proba()` is deprecated and will be removed after 2021-01-01. Please use `model.predict()` instead.\n",
            "  warnings.warn('`model.predict_proba()` is deprecated and '\n",
            "/usr/local/lib/python3.7/dist-packages/ipykernel_launcher.py:137: DeprecationWarning: scipy.interp is deprecated and will be removed in SciPy 2.0.0, use numpy.interp instead\n"
          ],
          "name": "stderr"
        },
        {
          "output_type": "stream",
          "text": [
            "\n",
            "p_recall 0 correctly predicted (True Negatives):\t 29892\n",
            "p_recall 1 incorrectly predicted (False Positives):\t 89032\n",
            "p_recall 0 incorrectly predicted (False Negatives):\t 61564\n",
            "p_recall 1 correctly predicted (True Positives):\t 545299\n",
            "Total incorrectly predicted p_recall:\t\t\t 150596\n",
            "\n",
            "Run: 7 completed\n",
            "\n",
            "\n",
            "loss :  0.05187593400478363\n",
            "tp :  547543.0\n",
            "fp :  90323.0\n",
            "tn :  28601.0\n",
            "fn :  59320.0\n",
            "accuracy :  0.7938196659088135\n",
            "ROC_AUC :  0.6619650721549988\n",
            "prc :  0.9024547338485718\n",
            "f1: 0.7637253257931798\n",
            "specificity: 0.2404981332613766 \n",
            "\n"
          ],
          "name": "stdout"
        },
        {
          "output_type": "stream",
          "text": [
            "/usr/local/lib/python3.7/dist-packages/tensorflow/python/keras/engine/sequential.py:430: UserWarning: `model.predict_proba()` is deprecated and will be removed after 2021-01-01. Please use `model.predict()` instead.\n",
            "  warnings.warn('`model.predict_proba()` is deprecated and '\n",
            "/usr/local/lib/python3.7/dist-packages/ipykernel_launcher.py:137: DeprecationWarning: scipy.interp is deprecated and will be removed in SciPy 2.0.0, use numpy.interp instead\n"
          ],
          "name": "stderr"
        },
        {
          "output_type": "stream",
          "text": [
            "\n",
            "p_recall 0 correctly predicted (True Negatives):\t 28601\n",
            "p_recall 1 incorrectly predicted (False Positives):\t 90323\n",
            "p_recall 0 incorrectly predicted (False Negatives):\t 59320\n",
            "p_recall 1 correctly predicted (True Positives):\t 547543\n",
            "Total incorrectly predicted p_recall:\t\t\t 149643\n",
            "\n",
            "Run: 8 completed\n",
            "\n",
            "\n",
            "loss :  0.05192568153142929\n",
            "tp :  551368.0\n",
            "fp :  91313.0\n",
            "tn :  27611.0\n",
            "fn :  55495.0\n",
            "accuracy :  0.7977257966995239\n",
            "ROC_AUC :  0.6599700450897217\n",
            "prc :  0.9017221927642822\n",
            "f1: 0.762134333247138\n",
            "specificity: 0.23217348895073142 \n",
            "\n"
          ],
          "name": "stdout"
        },
        {
          "output_type": "stream",
          "text": [
            "/usr/local/lib/python3.7/dist-packages/tensorflow/python/keras/engine/sequential.py:430: UserWarning: `model.predict_proba()` is deprecated and will be removed after 2021-01-01. Please use `model.predict()` instead.\n",
            "  warnings.warn('`model.predict_proba()` is deprecated and '\n",
            "/usr/local/lib/python3.7/dist-packages/ipykernel_launcher.py:137: DeprecationWarning: scipy.interp is deprecated and will be removed in SciPy 2.0.0, use numpy.interp instead\n"
          ],
          "name": "stderr"
        },
        {
          "output_type": "stream",
          "text": [
            "\n",
            "p_recall 0 correctly predicted (True Negatives):\t 27611\n",
            "p_recall 1 incorrectly predicted (False Positives):\t 91313\n",
            "p_recall 0 incorrectly predicted (False Negatives):\t 55495\n",
            "p_recall 1 correctly predicted (True Positives):\t 551368\n",
            "Total incorrectly predicted p_recall:\t\t\t 146808\n",
            "\n",
            "Run: 9 completed\n",
            "\n",
            "\n",
            "loss :  0.051912710070610046\n",
            "tp :  557862.0\n",
            "fp :  93364.0\n",
            "tn :  25559.0\n",
            "fn :  49001.0\n",
            "accuracy :  0.8038471341133118\n",
            "ROC_AUC :  0.6609482169151306\n",
            "prc :  0.9013996720314026\n",
            "f1: 0.762670734440283\n",
            "specificity: 0.21492057886177196 \n",
            "\n"
          ],
          "name": "stdout"
        },
        {
          "output_type": "stream",
          "text": [
            "/usr/local/lib/python3.7/dist-packages/tensorflow/python/keras/engine/sequential.py:430: UserWarning: `model.predict_proba()` is deprecated and will be removed after 2021-01-01. Please use `model.predict()` instead.\n",
            "  warnings.warn('`model.predict_proba()` is deprecated and '\n",
            "/usr/local/lib/python3.7/dist-packages/ipykernel_launcher.py:137: DeprecationWarning: scipy.interp is deprecated and will be removed in SciPy 2.0.0, use numpy.interp instead\n"
          ],
          "name": "stderr"
        },
        {
          "output_type": "stream",
          "text": [
            "\n",
            "p_recall 0 correctly predicted (True Negatives):\t 25559\n",
            "p_recall 1 incorrectly predicted (False Positives):\t 93364\n",
            "p_recall 0 incorrectly predicted (False Negatives):\t 49001\n",
            "p_recall 1 correctly predicted (True Positives):\t 557862\n",
            "Total incorrectly predicted p_recall:\t\t\t 142365\n",
            "\n",
            "Run: 10 completed\n",
            "\n",
            "\n",
            "loss :  0.05187779664993286\n",
            "tp :  552271.0\n",
            "fp :  91406.0\n",
            "tn :  27518.0\n",
            "fn :  54592.0\n",
            "accuracy :  0.7988418340682983\n",
            "ROC_AUC :  0.661929190158844\n",
            "prc :  0.9021469950675964\n",
            "f1: 0.7635912310280139\n",
            "specificity: 0.23139147690942838 \n",
            "\n"
          ],
          "name": "stdout"
        },
        {
          "output_type": "stream",
          "text": [
            "/usr/local/lib/python3.7/dist-packages/tensorflow/python/keras/engine/sequential.py:430: UserWarning: `model.predict_proba()` is deprecated and will be removed after 2021-01-01. Please use `model.predict()` instead.\n",
            "  warnings.warn('`model.predict_proba()` is deprecated and '\n",
            "/usr/local/lib/python3.7/dist-packages/ipykernel_launcher.py:137: DeprecationWarning: scipy.interp is deprecated and will be removed in SciPy 2.0.0, use numpy.interp instead\n"
          ],
          "name": "stderr"
        },
        {
          "output_type": "stream",
          "text": [
            "\n",
            "p_recall 0 correctly predicted (True Negatives):\t 27518\n",
            "p_recall 1 incorrectly predicted (False Positives):\t 91406\n",
            "p_recall 0 incorrectly predicted (False Negatives):\t 54592\n",
            "p_recall 1 correctly predicted (True Positives):\t 552271\n",
            "Total incorrectly predicted p_recall:\t\t\t 145998\n",
            "\n",
            "Run: 11 completed\n",
            "\n",
            "\n",
            "loss :  0.051909830421209335\n",
            "tp :  551297.0\n",
            "fp :  91336.0\n",
            "tn :  27588.0\n",
            "fn :  55566.0\n",
            "accuracy :  0.797596275806427\n",
            "ROC_AUC :  0.6606432795524597\n",
            "prc :  0.9020334482192993\n",
            "f1: 0.7626943243051237\n",
            "specificity: 0.2319800881233124 \n",
            "\n"
          ],
          "name": "stdout"
        },
        {
          "output_type": "stream",
          "text": [
            "/usr/local/lib/python3.7/dist-packages/tensorflow/python/keras/engine/sequential.py:430: UserWarning: `model.predict_proba()` is deprecated and will be removed after 2021-01-01. Please use `model.predict()` instead.\n",
            "  warnings.warn('`model.predict_proba()` is deprecated and '\n",
            "/usr/local/lib/python3.7/dist-packages/ipykernel_launcher.py:137: DeprecationWarning: scipy.interp is deprecated and will be removed in SciPy 2.0.0, use numpy.interp instead\n"
          ],
          "name": "stderr"
        },
        {
          "output_type": "stream",
          "text": [
            "\n",
            "p_recall 0 correctly predicted (True Negatives):\t 27588\n",
            "p_recall 1 incorrectly predicted (False Positives):\t 91336\n",
            "p_recall 0 incorrectly predicted (False Negatives):\t 55566\n",
            "p_recall 1 correctly predicted (True Positives):\t 551297\n",
            "Total incorrectly predicted p_recall:\t\t\t 146902\n",
            "\n",
            "Run: 12 completed\n",
            "\n",
            "\n",
            "loss :  0.05192489176988602\n",
            "tp :  548368.0\n",
            "fp :  90189.0\n",
            "tn :  28735.0\n",
            "fn :  58495.0\n",
            "accuracy :  0.7951409816741943\n",
            "ROC_AUC :  0.6594727635383606\n",
            "prc :  0.9012249112129211\n",
            "f1: 0.761625127508329\n",
            "specificity: 0.2416249032993831 \n",
            "\n"
          ],
          "name": "stdout"
        },
        {
          "output_type": "stream",
          "text": [
            "/usr/local/lib/python3.7/dist-packages/tensorflow/python/keras/engine/sequential.py:430: UserWarning: `model.predict_proba()` is deprecated and will be removed after 2021-01-01. Please use `model.predict()` instead.\n",
            "  warnings.warn('`model.predict_proba()` is deprecated and '\n",
            "/usr/local/lib/python3.7/dist-packages/ipykernel_launcher.py:137: DeprecationWarning: scipy.interp is deprecated and will be removed in SciPy 2.0.0, use numpy.interp instead\n"
          ],
          "name": "stderr"
        },
        {
          "output_type": "stream",
          "text": [
            "\n",
            "p_recall 0 correctly predicted (True Negatives):\t 28735\n",
            "p_recall 1 incorrectly predicted (False Positives):\t 90189\n",
            "p_recall 0 incorrectly predicted (False Negatives):\t 58495\n",
            "p_recall 1 correctly predicted (True Positives):\t 548368\n",
            "Total incorrectly predicted p_recall:\t\t\t 148684\n",
            "\n",
            "Run: 13 completed\n",
            "\n",
            "\n",
            "loss :  0.05190299078822136\n",
            "tp :  549504.0\n",
            "fp :  90529.0\n",
            "tn :  28395.0\n",
            "fn :  57359.0\n",
            "accuracy :  0.7962377667427063\n",
            "ROC_AUC :  0.6608858704566956\n",
            "prc :  0.9017384648323059\n",
            "f1: 0.762750453575606\n",
            "specificity: 0.23876593454623224 \n",
            "\n"
          ],
          "name": "stdout"
        },
        {
          "output_type": "stream",
          "text": [
            "/usr/local/lib/python3.7/dist-packages/tensorflow/python/keras/engine/sequential.py:430: UserWarning: `model.predict_proba()` is deprecated and will be removed after 2021-01-01. Please use `model.predict()` instead.\n",
            "  warnings.warn('`model.predict_proba()` is deprecated and '\n",
            "/usr/local/lib/python3.7/dist-packages/ipykernel_launcher.py:137: DeprecationWarning: scipy.interp is deprecated and will be removed in SciPy 2.0.0, use numpy.interp instead\n"
          ],
          "name": "stderr"
        },
        {
          "output_type": "stream",
          "text": [
            "\n",
            "p_recall 0 correctly predicted (True Negatives):\t 28395\n",
            "p_recall 1 incorrectly predicted (False Positives):\t 90529\n",
            "p_recall 0 incorrectly predicted (False Negatives):\t 57359\n",
            "p_recall 1 correctly predicted (True Positives):\t 549504\n",
            "Total incorrectly predicted p_recall:\t\t\t 147888\n",
            "\n",
            "Run: 14 completed\n",
            "\n",
            "\n",
            "loss :  0.05190803110599518\n",
            "tp :  553181.0\n",
            "fp :  91873.0\n",
            "tn :  27050.0\n",
            "fn :  53682.0\n",
            "accuracy :  0.7994518876075745\n",
            "ROC_AUC :  0.6608551740646362\n",
            "prc :  0.9016652703285217\n",
            "f1: 0.7627038242080895\n",
            "specificity: 0.22745810314217815 \n",
            "\n"
          ],
          "name": "stdout"
        },
        {
          "output_type": "stream",
          "text": [
            "/usr/local/lib/python3.7/dist-packages/tensorflow/python/keras/engine/sequential.py:430: UserWarning: `model.predict_proba()` is deprecated and will be removed after 2021-01-01. Please use `model.predict()` instead.\n",
            "  warnings.warn('`model.predict_proba()` is deprecated and '\n",
            "/usr/local/lib/python3.7/dist-packages/ipykernel_launcher.py:137: DeprecationWarning: scipy.interp is deprecated and will be removed in SciPy 2.0.0, use numpy.interp instead\n"
          ],
          "name": "stderr"
        },
        {
          "output_type": "stream",
          "text": [
            "\n",
            "p_recall 0 correctly predicted (True Negatives):\t 27050\n",
            "p_recall 1 incorrectly predicted (False Positives):\t 91873\n",
            "p_recall 0 incorrectly predicted (False Negatives):\t 53682\n",
            "p_recall 1 correctly predicted (True Positives):\t 553181\n",
            "Total incorrectly predicted p_recall:\t\t\t 145555\n",
            "\n",
            "Run: 15 completed\n",
            "\n"
          ],
          "name": "stdout"
        },
        {
          "output_type": "display_data",
          "data": {
            "image/png": "[encoded data removed]",
            "text/plain": [
              "<Figure size 864x864 with 1 Axes>"
            ]
          },
          "metadata": {
            "tags": [],
            "needs_background": "light"
          }
        }
      ]
    },
    {
      "cell_type": "markdown",
      "metadata": {
        "id": "ZEmnlZ-kkLY9"
      },
      "source": [
        "# **Results**"
      ]
    },
    {
      "cell_type": "code",
      "metadata": {
        "colab": {
          "base_uri": "https://localhost:8080/"
        },
        "id": "vfRTUrq1Xz8F",
        "outputId": "5bb79676-d3a8-4db3-f8c9-ac1873c924a5"
      },
      "source": [
        "score = statistics.mean(accuracy_MLP)\n",
        "min = np.min(accuracy_MLP)\n",
        "max = np.max(accuracy_MLP)\n",
        "median = statistics.median(accuracy_MLP)\n",
        "std = statistics.stdev(accuracy_MLP)\n",
        "print('MLP 5 fold - 3 repeat results:\\n')\n",
        "print('Mean accuracy:\\t', score, '\\nMedian:\\t\\t', median, '\\nMin:\\t\\t', min, '\\nMax:\\t\\t', max, '\\nStd.:\\t\\t', std)\n",
        "specificity = statistics.mean(specificity_MLP)\n",
        "ROC_AUC = statistics.mean(ROC_AUC_MLP)\n",
        "f1 = statistics.mean(F1_MLP)\n",
        "print('\\nF1:\\t\\t', f1, '\\nSpecificity:\\t', specificity, '\\nROC AUC:\\t', ROC_AUC)"
      ],
      "execution_count": null,
      "outputs": [
        {
          "output_type": "stream",
          "text": [
            "MLP 5 fold - 3 repeat results:\n",
            "\n",
            "Mean accuracy:\t 0.7965523799260458 \n",
            "Median:\t\t 0.7974791526794434 \n",
            "Min:\t\t 0.791533887386322 \n",
            "Max:\t\t 0.8038471341133118 \n",
            "Std.:\t\t 0.0034941710424022275\n",
            "\n",
            "F1:\t\t 0.7626861772680366 \n",
            "Specificity:\t 0.2366422670283943 \n",
            "ROC AUC:\t 0.6607717116673787\n"
          ],
          "name": "stdout"
        }
      ]
    },
    {
      "cell_type": "markdown",
      "metadata": {
        "id": "Ldz-j3Y1ruKf"
      },
      "source": [
        "Write and export results to Drive  \n",
        ".csv files"
      ]
    },
    {
      "cell_type": "code",
      "metadata": {
        "colab": {
          "base_uri": "https://localhost:8080/",
          "height": 514
        },
        "id": "rh1rdHbQwxWl",
        "outputId": "4e1eec88-8257-4e28-b381-84681227741b"
      },
      "source": [
        "df_MLP_rus = pd.DataFrame({'accuracy_MLP' : accuracy_MLP, 'F1_MLP' : F1_MLP,\n",
        "                           'specificity_MLP' : specificity_MLP, 'ROC_AUC_MLP' : ROC_AUC_MLP})\n",
        "\n",
        "df_MLP_rus.to_csv('/content/drive/My Drive/Colab Notebooks/Results/results_MLP_FocalLoss.csv', index=False)\n",
        "df_MLP_rus"
      ],
      "execution_count": null,
      "outputs": [
        {
          "output_type": "execute_result",
          "data": {
            "text/html": [
              "<div>\n",
              "<style scoped>\n",
              "    .dataframe tbody tr th:only-of-type {\n",
              "        vertical-align: middle;\n",
              "    }\n",
              "\n",
              "    .dataframe tbody tr th {\n",
              "        vertical-align: top;\n",
              "    }\n",
              "\n",
              "    .dataframe thead th {\n",
              "        text-align: right;\n",
              "    }\n",
              "</style>\n",
              "<table border=\"1\" class=\"dataframe\">\n",
              "  <thead>\n",
              "    <tr style=\"text-align: right;\">\n",
              "      <th></th>\n",
              "      <th>accuracy_MLP</th>\n",
              "      <th>F1_MLP</th>\n",
              "      <th>specificity_MLP</th>\n",
              "      <th>ROC_AUC_MLP</th>\n",
              "    </tr>\n",
              "  </thead>\n",
              "  <tbody>\n",
              "    <tr>\n",
              "      <th>0</th>\n",
              "      <td>0.792810</td>\n",
              "      <td>0.762145</td>\n",
              "      <td>0.245888</td>\n",
              "      <td>0.660078</td>\n",
              "    </tr>\n",
              "    <tr>\n",
              "      <th>1</th>\n",
              "      <td>0.792358</td>\n",
              "      <td>0.763345</td>\n",
              "      <td>0.250925</td>\n",
              "      <td>0.661522</td>\n",
              "    </tr>\n",
              "    <tr>\n",
              "      <th>2</th>\n",
              "      <td>0.800182</td>\n",
              "      <td>0.762433</td>\n",
              "      <td>0.224757</td>\n",
              "      <td>0.660421</td>\n",
              "    </tr>\n",
              "    <tr>\n",
              "      <th>3</th>\n",
              "      <td>0.791534</td>\n",
              "      <td>0.762082</td>\n",
              "      <td>0.252405</td>\n",
              "      <td>0.660153</td>\n",
              "    </tr>\n",
              "    <tr>\n",
              "      <th>4</th>\n",
              "      <td>0.798755</td>\n",
              "      <td>0.763513</td>\n",
              "      <td>0.232083</td>\n",
              "      <td>0.661785</td>\n",
              "    </tr>\n",
              "    <tr>\n",
              "      <th>5</th>\n",
              "      <td>0.797479</td>\n",
              "      <td>0.762858</td>\n",
              "      <td>0.233410</td>\n",
              "      <td>0.660923</td>\n",
              "    </tr>\n",
              "    <tr>\n",
              "      <th>6</th>\n",
              "      <td>0.792507</td>\n",
              "      <td>0.762020</td>\n",
              "      <td>0.251354</td>\n",
              "      <td>0.660023</td>\n",
              "    </tr>\n",
              "    <tr>\n",
              "      <th>7</th>\n",
              "      <td>0.793820</td>\n",
              "      <td>0.763725</td>\n",
              "      <td>0.240498</td>\n",
              "      <td>0.661965</td>\n",
              "    </tr>\n",
              "    <tr>\n",
              "      <th>8</th>\n",
              "      <td>0.797726</td>\n",
              "      <td>0.762134</td>\n",
              "      <td>0.232173</td>\n",
              "      <td>0.659970</td>\n",
              "    </tr>\n",
              "    <tr>\n",
              "      <th>9</th>\n",
              "      <td>0.803847</td>\n",
              "      <td>0.762671</td>\n",
              "      <td>0.214921</td>\n",
              "      <td>0.660948</td>\n",
              "    </tr>\n",
              "    <tr>\n",
              "      <th>10</th>\n",
              "      <td>0.798842</td>\n",
              "      <td>0.763591</td>\n",
              "      <td>0.231391</td>\n",
              "      <td>0.661929</td>\n",
              "    </tr>\n",
              "    <tr>\n",
              "      <th>11</th>\n",
              "      <td>0.797596</td>\n",
              "      <td>0.762694</td>\n",
              "      <td>0.231980</td>\n",
              "      <td>0.660643</td>\n",
              "    </tr>\n",
              "    <tr>\n",
              "      <th>12</th>\n",
              "      <td>0.795141</td>\n",
              "      <td>0.761625</td>\n",
              "      <td>0.241625</td>\n",
              "      <td>0.659473</td>\n",
              "    </tr>\n",
              "    <tr>\n",
              "      <th>13</th>\n",
              "      <td>0.796238</td>\n",
              "      <td>0.762750</td>\n",
              "      <td>0.238766</td>\n",
              "      <td>0.660886</td>\n",
              "    </tr>\n",
              "    <tr>\n",
              "      <th>14</th>\n",
              "      <td>0.799452</td>\n",
              "      <td>0.762704</td>\n",
              "      <td>0.227458</td>\n",
              "      <td>0.660855</td>\n",
              "    </tr>\n",
              "  </tbody>\n",
              "</table>\n",
              "</div>"
            ],
            "text/plain": [
              "    accuracy_MLP    F1_MLP  specificity_MLP  ROC_AUC_MLP\n",
              "0       0.792810  0.762145         0.245888     0.660078\n",
              "1       0.792358  0.763345         0.250925     0.661522\n",
              "2       0.800182  0.762433         0.224757     0.660421\n",
              "3       0.791534  0.762082         0.252405     0.660153\n",
              "4       0.798755  0.763513         0.232083     0.661785\n",
              "5       0.797479  0.762858         0.233410     0.660923\n",
              "6       0.792507  0.762020         0.251354     0.660023\n",
              "7       0.793820  0.763725         0.240498     0.661965\n",
              "8       0.797726  0.762134         0.232173     0.659970\n",
              "9       0.803847  0.762671         0.214921     0.660948\n",
              "10      0.798842  0.763591         0.231391     0.661929\n",
              "11      0.797596  0.762694         0.231980     0.660643\n",
              "12      0.795141  0.761625         0.241625     0.659473\n",
              "13      0.796238  0.762750         0.238766     0.660886\n",
              "14      0.799452  0.762704         0.227458     0.660855"
            ]
          },
          "metadata": {
            "tags": []
          },
          "execution_count": 19
        }
      ]
    },
    {
      "cell_type": "markdown",
      "metadata": {
        "id": "140WsYqDDpI1"
      },
      "source": [
        "# **Evaluate one MLP model**"
      ]
    },
    {
      "cell_type": "code",
      "metadata": {
        "id": "oqwH-TtFDpI6"
      },
      "source": [
        "def plot_cm(labels, predictions, p=0.5):\n",
        "  cm = confusion_matrix(labels, predictions > p)\n",
        "  plt.figure(figsize=(5,5))\n",
        "  sns.heatmap(cm, annot=True, fmt=\"d\")\n",
        "  plt.title('Confusion matrix @{:.2f}'.format(p))\n",
        "  plt.ylabel('Actual label')\n",
        "  plt.xlabel('Predicted label')\n",
        "    plt.savefig('/content/drive/My Drive/Colab Notebooks/Results/FocalLoss_MLP_CM_plot.png')\n",
        "\n",
        "  print('p_recall 0 correctly predicted (True Negatives):\\t', cm[0][0])\n",
        "  print('p_recall 1 incorrectly predicted (False Positives):\\t', cm[0][1])\n",
        "  print('p_recall 0 incorrectly predicted (False Negatives):\\t', cm[1][0])\n",
        "  print('p_recall 1 correctly predicted (True Positives):\\t', cm[1][1])"
      ],
      "execution_count": null,
      "outputs": []
    },
    {
      "cell_type": "code",
      "metadata": {
        "colab": {
          "base_uri": "https://localhost:8080/",
          "height": 571
        },
        "id": "QKarQDbLDpI6",
        "outputId": "e3722486-15c2-483c-9402-ef3a3f0ffe21"
      },
      "source": [
        "for name, value in zip(model.metrics_names, baseline_results):\n",
        "  print(name, ': ', value)\n",
        "print()\n",
        "\n",
        "plot_cm(y_test, test_predictions_baseline)"
      ],
      "execution_count": null,
      "outputs": [
        {
          "output_type": "stream",
          "text": [
            "loss :  0.05190803110599518\n",
            "tp :  553181.0\n",
            "fp :  91873.0\n",
            "tn :  27050.0\n",
            "fn :  53682.0\n",
            "accuracy :  0.7994518876075745\n",
            "ROC_AUC :  0.6608551740646362\n",
            "prc :  0.9016652703285217\n",
            "\n",
            "p_recall 0 correctly predicted (True Negatives):\t 27050\n",
            "p_recall 1 incorrectly predicted (False Positives):\t 91873\n",
            "p_recall 0 incorrectly predicted (False Negatives):\t 53682\n",
            "p_recall 1 correctly predicted (True Positives):\t 553181\n"
          ],
          "name": "stdout"
        },
        {
          "output_type": "display_data",
          "data": {
            "image/png": "[encoded data removed]",
            "text/plain": [
              "<Figure size 360x360 with 2 Axes>"
            ]
          },
          "metadata": {
            "tags": [],
            "needs_background": "light"
          }
        }
      ]
    },
    {
      "cell_type": "markdown",
      "metadata": {
        "id": "KTesTv_XlKYG"
      },
      "source": [
        "**Show training progress**"
      ]
    },
    {
      "cell_type": "code",
      "metadata": {
        "id": "fESISM_Jt1UR"
      },
      "source": [
        "# Clear model, and create it\n",
        "model = None\n",
        "\n",
        "# Dunno if this works but as a proper programmer would say: best leave it... \n",
        "os.environ['TF_DETERMINISTIC_OPS'] = '1'\n",
        "\n",
        "# Create the model can be outside loop but can't be bothered \n",
        "def make_model(metrics=METRICS):\n",
        "      model = keras.Sequential([\n",
        "          # bias = false because batchnorm\n",
        "          keras.layers.Dense(64, activation='relu', input_shape=(train_features_rus.shape[-1],), use_bias=False),\n",
        "          keras.layers.BatchNormalization(),\n",
        "          keras.layers.Dropout(0.1),\n",
        "          keras.layers.Dense(64, activation='relu', use_bias=False),\n",
        "          keras.layers.BatchNormalization(),\n",
        "          keras.layers.Dropout(0.1),\n",
        "          keras.layers.Dense(64, activation='relu', use_bias=False),\n",
        "          keras.layers.BatchNormalization(),\n",
        "          keras.layers.Dropout(0.1),\n",
        "          keras.layers.Dense(1, activation='sigmoid'),\n",
        "      ])\n",
        "\n",
        "      # Compile with new focal loss function\n",
        "      model.compile(\n",
        "          optimizer=keras.optimizers.Adam(learning_rate=.001),\n",
        "          loss=[binary_focal_loss(alpha=.25, gamma=2)],\n",
        "          metrics=METRICS)\n",
        "      return model\n",
        "    \n",
        "model = make_model()\n",
        "\n",
        "# Fit model on train, use validation set for model fit\n",
        "history = model.fit(train_features_rus,train_labels, batch_size=BATCH_SIZE, epochs=EPOCHS,\n",
        "                    callbacks=[early_stopping],validation_data=(val_features_scaled, val_labels), verbose=0)"
      ],
      "execution_count": null,
      "outputs": []
    },
    {
      "cell_type": "code",
      "metadata": {
        "colab": {
          "base_uri": "https://localhost:8080/",
          "height": 730
        },
        "id": "1halL-iq2reV",
        "outputId": "0d7e49b9-e368-4852-beb6-8d556aebe179"
      },
      "source": [
        "plt.plot(history.history['loss']) \n",
        "plt.plot(history.history['val_loss']) \n",
        "plt.title('Model loss') \n",
        "plt.ylabel('Loss') \n",
        "plt.xlabel('Epoch') \n",
        "plt.legend(['Train', 'Val'], loc='upper left')\n",
        "plt.savefig('/content/drive/My Drive/Colab Notebooks/Results/FocalLoss_MLP_loss_plot.png')\n",
        "plt.show()"
      ],
      "execution_count": null,
      "outputs": [
        {
          "output_type": "display_data",
          "data": {
            "image/png": "[encoded data removed]",
            "text/plain": [
              "<Figure size 864x864 with 1 Axes>"
            ]
          },
          "metadata": {
            "tags": [],
            "needs_background": "light"
          }
        }
      ]
    },
    {
      "cell_type": "code",
      "metadata": {
        "colab": {
          "base_uri": "https://localhost:8080/",
          "height": 730
        },
        "id": "s-jp5D9v2mTR",
        "outputId": "f07bd954-a514-4b04-e24c-a3873cbe380a"
      },
      "source": [
        "plt.plot(history.history['accuracy'])\n",
        "plt.plot(history.history['val_accuracy'])\n",
        "plt.title('Model accuracy')\n",
        "plt.ylabel('Accuracy')\n",
        "plt.xlabel('Epoch')\n",
        "plt.legend(['Train', 'Val'], loc='upper left')\n",
        "plt.savefig('/content/drive/My Drive/Colab Notebooks/Results/FocalLoss_MLP_accuracy_plot.png')\n",
        "plt.show()"
      ],
      "execution_count": null,
      "outputs": [
        {
          "output_type": "display_data",
          "data": {
            "image/png": "[encoded data removed]",
            "text/plain": [
              "<Figure size 864x864 with 1 Axes>"
            ]
          },
          "metadata": {
            "tags": [],
            "needs_background": "light"
          }
        }
      ]
    }
  ]
}