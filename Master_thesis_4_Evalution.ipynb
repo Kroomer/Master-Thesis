{
  "nbformat": 4,
  "nbformat_minor": 0,
  "metadata": {
    "colab": {
      "name": "Master_thesis_4_Evalution.ipynb",
      "provenance": [],
      "collapsed_sections": [
        "0ShM3_oWOUwR",
        "XA1oZvY3OeVF",
        "cSmATkKY_Dl5",
        "xEM453sUBZce",
        "vHGpT4UDF4dD",
        "VS1kN1hOFuLU",
        "EFW4DB-eGCgx"
      ],
      "authorship_tag": "ABX9TyP5ccn9tqzq3X75Eud287GD",
      "include_colab_link": true
    },
    "kernelspec": {
      "name": "python3",
      "display_name": "Python 3"
    },
    "language_info": {
      "name": "python"
    }
  },
  "cells": [
    {
      "cell_type": "markdown",
      "metadata": {
        "id": "view-in-github",
        "colab_type": "text"
      },
      "source": [
        "<a href=\"https://colab.research.google.com/github/Kroomer/Master_thesis/blob/main/Master_thesis_4_Evalution.ipynb\" target=\"_parent\"><img src=\"https://colab.research.google.com/assets/colab-badge.svg\" alt=\"Open In Colab\"/></a>"
      ]
    },
    {
      "cell_type": "markdown",
      "metadata": {
        "id": "0ShM3_oWOUwR"
      },
      "source": [
        "# **Connect to drive**  \n"
      ]
    },
    {
      "cell_type": "markdown",
      "metadata": {
        "id": "-3iIfBD9jsVr"
      },
      "source": [
        "Click link and enter authorization code"
      ]
    },
    {
      "cell_type": "code",
      "metadata": {
        "colab": {
          "base_uri": "https://localhost:8080/"
        },
        "id": "Xw1vgosDa4RS",
        "outputId": "3ee1caf9-3222-4134-abdf-d28b1eae5eb1"
      },
      "source": [
        "from google.colab import drive\n",
        "drive.mount('/content/drive/')"
      ],
      "execution_count": null,
      "outputs": [
        {
          "output_type": "stream",
          "text": [
            "Mounted at /content/drive/\n"
          ],
          "name": "stdout"
        }
      ]
    },
    {
      "cell_type": "code",
      "metadata": {
        "colab": {
          "base_uri": "https://localhost:8080/"
        },
        "id": "aWTfNdvYO4vd",
        "outputId": "ee962300-d196-421c-ffd9-a64b6d268838"
      },
      "source": [
        "!ls \"/content/drive/My Drive/Colab Notebooks/Results\""
      ],
      "execution_count": null,
      "outputs": [
        {
          "output_type": "stream",
          "text": [
            "FocalLoss_MLP_accuracy_plot.png  results_RFC_RUS.csv\n",
            "FocalLoss_MLP_CM_plot.png\t RUS_MLP_accuracy_plot.png\n",
            "FocalLoss_MLP_loss_plot.png\t RUS_MLP_CM_plot.png\n",
            "FocalLoss_MLP_ROC_AUC_plot.png\t RUS_MLP_loss_plot.png\n",
            "Imbalanced_data_plot.png\t RUS_MLP_ROC_AUC_plot.png\n",
            "MLP_plot.png\t\t\t SMOTE_MLP_accuracy_plot.png\n",
            "results_MLP_FocalLoss.csv\t SMOTE_MLP_CM_plot.png\n",
            "results_MLP_RUS.csv\t\t SMOTE_MLP_loss_plot.png\n",
            "results_MLP_SMOTE.csv\t\t SMOTE_MLP_ROC_AUC_plot.png\n"
          ],
          "name": "stdout"
        }
      ]
    },
    {
      "cell_type": "markdown",
      "metadata": {
        "id": "XA1oZvY3OeVF"
      },
      "source": [
        "# **Import libraries**"
      ]
    },
    {
      "cell_type": "code",
      "metadata": {
        "id": "80y6p5mXNvkk"
      },
      "source": [
        "import matplotlib as mpl\n",
        "import matplotlib.pyplot as plt\n",
        "import numpy as np\n",
        "import pandas as pd\n",
        "import seaborn as sns\n",
        "import statistics\n",
        "import os\n",
        "import tempfile"
      ],
      "execution_count": null,
      "outputs": []
    },
    {
      "cell_type": "markdown",
      "metadata": {
        "id": "cSmATkKY_Dl5"
      },
      "source": [
        "# **Import results from Drive**"
      ]
    },
    {
      "cell_type": "markdown",
      "metadata": {
        "id": "Ldz-j3Y1ruKf"
      },
      "source": [
        "Import as .csv files"
      ]
    },
    {
      "cell_type": "code",
      "metadata": {
        "colab": {
          "base_uri": "https://localhost:8080/",
          "height": 35
        },
        "id": "KEFFB3pqAQB2",
        "outputId": "dc951855-3cac-4c1f-86bb-b00c76e6ad0b"
      },
      "source": [
        "os.getcwd()"
      ],
      "execution_count": null,
      "outputs": [
        {
          "output_type": "execute_result",
          "data": {
            "application/vnd.google.colaboratory.intrinsic+json": {
              "type": "string"
            },
            "text/plain": [
              "'/content'"
            ]
          },
          "metadata": {
            "tags": []
          },
          "execution_count": 4
        }
      ]
    },
    {
      "cell_type": "code",
      "metadata": {
        "id": "c0E3weTI_ViQ"
      },
      "source": [
        "df_RFC_rus = pd.read_csv(\"drive/My Drive/Colab Notebooks/Results/results_RFC_RUS.csv\", sep=',')\n",
        "df_MLP_rus = pd.read_csv(\"drive/My Drive/Colab Notebooks/Results/results_MLP_RUS.csv\", sep=',')\n",
        "df_MLP_smote = pd.read_csv(\"drive/My Drive/Colab Notebooks/Results/results_MLP_SMOTE.csv\", sep=',')\n",
        "df_MLP_FL = pd.read_csv(\"drive/My Drive/Colab Notebooks/Results/results_MLP_FocalLoss.csv\", sep=',')"
      ],
      "execution_count": null,
      "outputs": []
    },
    {
      "cell_type": "code",
      "metadata": {
        "colab": {
          "base_uri": "https://localhost:8080/",
          "height": 204
        },
        "id": "J861g6bYBM2R",
        "outputId": "a5abbbd0-19cd-4ba4-bc61-85fb62f06d55"
      },
      "source": [
        "df_RFC_rus.head()"
      ],
      "execution_count": null,
      "outputs": [
        {
          "output_type": "execute_result",
          "data": {
            "text/html": [
              "<div>\n",
              "<style scoped>\n",
              "    .dataframe tbody tr th:only-of-type {\n",
              "        vertical-align: middle;\n",
              "    }\n",
              "\n",
              "    .dataframe tbody tr th {\n",
              "        vertical-align: top;\n",
              "    }\n",
              "\n",
              "    .dataframe thead th {\n",
              "        text-align: right;\n",
              "    }\n",
              "</style>\n",
              "<table border=\"1\" class=\"dataframe\">\n",
              "  <thead>\n",
              "    <tr style=\"text-align: right;\">\n",
              "      <th></th>\n",
              "      <th>accuracy_RFC</th>\n",
              "      <th>F1_RFC</th>\n",
              "      <th>specificity_RFC</th>\n",
              "      <th>ROC_AUC_RFC</th>\n",
              "    </tr>\n",
              "  </thead>\n",
              "  <tbody>\n",
              "    <tr>\n",
              "      <th>0</th>\n",
              "      <td>0.606715</td>\n",
              "      <td>0.719987</td>\n",
              "      <td>0.616982</td>\n",
              "      <td>0.610843</td>\n",
              "    </tr>\n",
              "    <tr>\n",
              "      <th>1</th>\n",
              "      <td>0.612645</td>\n",
              "      <td>0.725630</td>\n",
              "      <td>0.612879</td>\n",
              "      <td>0.612739</td>\n",
              "    </tr>\n",
              "    <tr>\n",
              "      <th>2</th>\n",
              "      <td>0.608381</td>\n",
              "      <td>0.721545</td>\n",
              "      <td>0.616335</td>\n",
              "      <td>0.611579</td>\n",
              "    </tr>\n",
              "    <tr>\n",
              "      <th>3</th>\n",
              "      <td>0.609647</td>\n",
              "      <td>0.722764</td>\n",
              "      <td>0.615267</td>\n",
              "      <td>0.611906</td>\n",
              "    </tr>\n",
              "    <tr>\n",
              "      <th>4</th>\n",
              "      <td>0.611070</td>\n",
              "      <td>0.723938</td>\n",
              "      <td>0.617072</td>\n",
              "      <td>0.613483</td>\n",
              "    </tr>\n",
              "  </tbody>\n",
              "</table>\n",
              "</div>"
            ],
            "text/plain": [
              "   accuracy_RFC    F1_RFC  specificity_RFC  ROC_AUC_RFC\n",
              "0      0.606715  0.719987         0.616982     0.610843\n",
              "1      0.612645  0.725630         0.612879     0.612739\n",
              "2      0.608381  0.721545         0.616335     0.611579\n",
              "3      0.609647  0.722764         0.615267     0.611906\n",
              "4      0.611070  0.723938         0.617072     0.613483"
            ]
          },
          "metadata": {
            "tags": []
          },
          "execution_count": 6
        }
      ]
    },
    {
      "cell_type": "code",
      "metadata": {
        "colab": {
          "base_uri": "https://localhost:8080/",
          "height": 204
        },
        "id": "rh1rdHbQwxWl",
        "outputId": "993e61e5-5473-4cec-87f9-dc21bc0e4f97"
      },
      "source": [
        "df_MLP_rus.head()"
      ],
      "execution_count": null,
      "outputs": [
        {
          "output_type": "execute_result",
          "data": {
            "text/html": [
              "<div>\n",
              "<style scoped>\n",
              "    .dataframe tbody tr th:only-of-type {\n",
              "        vertical-align: middle;\n",
              "    }\n",
              "\n",
              "    .dataframe tbody tr th {\n",
              "        vertical-align: top;\n",
              "    }\n",
              "\n",
              "    .dataframe thead th {\n",
              "        text-align: right;\n",
              "    }\n",
              "</style>\n",
              "<table border=\"1\" class=\"dataframe\">\n",
              "  <thead>\n",
              "    <tr style=\"text-align: right;\">\n",
              "      <th></th>\n",
              "      <th>accuracy_MLP</th>\n",
              "      <th>F1_MLP</th>\n",
              "      <th>specificity_MLP</th>\n",
              "      <th>ROC_AUC_MLP</th>\n",
              "    </tr>\n",
              "  </thead>\n",
              "  <tbody>\n",
              "    <tr>\n",
              "      <th>0</th>\n",
              "      <td>0.613389</td>\n",
              "      <td>0.751519</td>\n",
              "      <td>0.589553</td>\n",
              "      <td>0.647276</td>\n",
              "    </tr>\n",
              "    <tr>\n",
              "      <th>1</th>\n",
              "      <td>0.609829</td>\n",
              "      <td>0.746799</td>\n",
              "      <td>0.584163</td>\n",
              "      <td>0.641428</td>\n",
              "    </tr>\n",
              "    <tr>\n",
              "      <th>2</th>\n",
              "      <td>0.639139</td>\n",
              "      <td>0.725673</td>\n",
              "      <td>0.488177</td>\n",
              "      <td>0.615490</td>\n",
              "    </tr>\n",
              "    <tr>\n",
              "      <th>3</th>\n",
              "      <td>0.609961</td>\n",
              "      <td>0.748685</td>\n",
              "      <td>0.586837</td>\n",
              "      <td>0.643801</td>\n",
              "    </tr>\n",
              "    <tr>\n",
              "      <th>4</th>\n",
              "      <td>0.711192</td>\n",
              "      <td>0.720990</td>\n",
              "      <td>0.358005</td>\n",
              "      <td>0.610332</td>\n",
              "    </tr>\n",
              "  </tbody>\n",
              "</table>\n",
              "</div>"
            ],
            "text/plain": [
              "   accuracy_MLP    F1_MLP  specificity_MLP  ROC_AUC_MLP\n",
              "0      0.613389  0.751519         0.589553     0.647276\n",
              "1      0.609829  0.746799         0.584163     0.641428\n",
              "2      0.639139  0.725673         0.488177     0.615490\n",
              "3      0.609961  0.748685         0.586837     0.643801\n",
              "4      0.711192  0.720990         0.358005     0.610332"
            ]
          },
          "metadata": {
            "tags": []
          },
          "execution_count": 7
        }
      ]
    },
    {
      "cell_type": "code",
      "metadata": {
        "colab": {
          "base_uri": "https://localhost:8080/",
          "height": 204
        },
        "id": "mKefzAc9wyXS",
        "outputId": "1e6a32da-09b9-45bb-9913-8b83848d6dfc"
      },
      "source": [
        "df_MLP_smote.head()"
      ],
      "execution_count": null,
      "outputs": [
        {
          "output_type": "execute_result",
          "data": {
            "text/html": [
              "<div>\n",
              "<style scoped>\n",
              "    .dataframe tbody tr th:only-of-type {\n",
              "        vertical-align: middle;\n",
              "    }\n",
              "\n",
              "    .dataframe tbody tr th {\n",
              "        vertical-align: top;\n",
              "    }\n",
              "\n",
              "    .dataframe thead th {\n",
              "        text-align: right;\n",
              "    }\n",
              "</style>\n",
              "<table border=\"1\" class=\"dataframe\">\n",
              "  <thead>\n",
              "    <tr style=\"text-align: right;\">\n",
              "      <th></th>\n",
              "      <th>accuracy_MLP</th>\n",
              "      <th>F1_MLP</th>\n",
              "      <th>specificity_MLP</th>\n",
              "      <th>ROC_AUC_MLP</th>\n",
              "    </tr>\n",
              "  </thead>\n",
              "  <tbody>\n",
              "    <tr>\n",
              "      <th>0</th>\n",
              "      <td>0.647764</td>\n",
              "      <td>0.740433</td>\n",
              "      <td>0.511142</td>\n",
              "      <td>0.633808</td>\n",
              "    </tr>\n",
              "    <tr>\n",
              "      <th>1</th>\n",
              "      <td>0.647329</td>\n",
              "      <td>0.742325</td>\n",
              "      <td>0.514438</td>\n",
              "      <td>0.635794</td>\n",
              "    </tr>\n",
              "    <tr>\n",
              "      <th>2</th>\n",
              "      <td>0.640349</td>\n",
              "      <td>0.740848</td>\n",
              "      <td>0.522468</td>\n",
              "      <td>0.634047</td>\n",
              "    </tr>\n",
              "    <tr>\n",
              "      <th>3</th>\n",
              "      <td>0.662028</td>\n",
              "      <td>0.741690</td>\n",
              "      <td>0.490523</td>\n",
              "      <td>0.635250</td>\n",
              "    </tr>\n",
              "    <tr>\n",
              "      <th>4</th>\n",
              "      <td>0.649567</td>\n",
              "      <td>0.739299</td>\n",
              "      <td>0.505134</td>\n",
              "      <td>0.632413</td>\n",
              "    </tr>\n",
              "  </tbody>\n",
              "</table>\n",
              "</div>"
            ],
            "text/plain": [
              "   accuracy_MLP    F1_MLP  specificity_MLP  ROC_AUC_MLP\n",
              "0      0.647764  0.740433         0.511142     0.633808\n",
              "1      0.647329  0.742325         0.514438     0.635794\n",
              "2      0.640349  0.740848         0.522468     0.634047\n",
              "3      0.662028  0.741690         0.490523     0.635250\n",
              "4      0.649567  0.739299         0.505134     0.632413"
            ]
          },
          "metadata": {
            "tags": []
          },
          "execution_count": 8
        }
      ]
    },
    {
      "cell_type": "code",
      "metadata": {
        "colab": {
          "base_uri": "https://localhost:8080/",
          "height": 204
        },
        "id": "NetHVhekAyb9",
        "outputId": "3329f8ac-a67a-4afb-a8ae-e90cfb044aaa"
      },
      "source": [
        "df_MLP_FL.head()"
      ],
      "execution_count": null,
      "outputs": [
        {
          "output_type": "execute_result",
          "data": {
            "text/html": [
              "<div>\n",
              "<style scoped>\n",
              "    .dataframe tbody tr th:only-of-type {\n",
              "        vertical-align: middle;\n",
              "    }\n",
              "\n",
              "    .dataframe tbody tr th {\n",
              "        vertical-align: top;\n",
              "    }\n",
              "\n",
              "    .dataframe thead th {\n",
              "        text-align: right;\n",
              "    }\n",
              "</style>\n",
              "<table border=\"1\" class=\"dataframe\">\n",
              "  <thead>\n",
              "    <tr style=\"text-align: right;\">\n",
              "      <th></th>\n",
              "      <th>accuracy_MLP</th>\n",
              "      <th>F1_MLP</th>\n",
              "      <th>specificity_MLP</th>\n",
              "      <th>ROC_AUC_MLP</th>\n",
              "    </tr>\n",
              "  </thead>\n",
              "  <tbody>\n",
              "    <tr>\n",
              "      <th>0</th>\n",
              "      <td>0.792810</td>\n",
              "      <td>0.762145</td>\n",
              "      <td>0.245888</td>\n",
              "      <td>0.660078</td>\n",
              "    </tr>\n",
              "    <tr>\n",
              "      <th>1</th>\n",
              "      <td>0.792358</td>\n",
              "      <td>0.763345</td>\n",
              "      <td>0.250925</td>\n",
              "      <td>0.661522</td>\n",
              "    </tr>\n",
              "    <tr>\n",
              "      <th>2</th>\n",
              "      <td>0.800182</td>\n",
              "      <td>0.762433</td>\n",
              "      <td>0.224757</td>\n",
              "      <td>0.660421</td>\n",
              "    </tr>\n",
              "    <tr>\n",
              "      <th>3</th>\n",
              "      <td>0.791534</td>\n",
              "      <td>0.762082</td>\n",
              "      <td>0.252405</td>\n",
              "      <td>0.660153</td>\n",
              "    </tr>\n",
              "    <tr>\n",
              "      <th>4</th>\n",
              "      <td>0.798755</td>\n",
              "      <td>0.763513</td>\n",
              "      <td>0.232083</td>\n",
              "      <td>0.661785</td>\n",
              "    </tr>\n",
              "  </tbody>\n",
              "</table>\n",
              "</div>"
            ],
            "text/plain": [
              "   accuracy_MLP    F1_MLP  specificity_MLP  ROC_AUC_MLP\n",
              "0      0.792810  0.762145         0.245888     0.660078\n",
              "1      0.792358  0.763345         0.250925     0.661522\n",
              "2      0.800182  0.762433         0.224757     0.660421\n",
              "3      0.791534  0.762082         0.252405     0.660153\n",
              "4      0.798755  0.763513         0.232083     0.661785"
            ]
          },
          "metadata": {
            "tags": []
          },
          "execution_count": 9
        }
      ]
    },
    {
      "cell_type": "markdown",
      "metadata": {
        "id": "X29vKtr34lXh"
      },
      "source": [
        "# **Create functions to ouput evaluation criteria**  \n",
        "Used to present in thesis"
      ]
    },
    {
      "cell_type": "markdown",
      "metadata": {
        "id": "xEM453sUBZce"
      },
      "source": [
        "# **Accuracy**"
      ]
    },
    {
      "cell_type": "code",
      "metadata": {
        "id": "Nf3UBSeKByqF"
      },
      "source": [
        "def accuracy(input):\n",
        "  mean = statistics.mean(input.iloc[:,0])\n",
        "  min = np.min(input.iloc[:,0])\n",
        "  max = np.max(input.iloc[:,0])\n",
        "  median = statistics.median(input.iloc[:,0])\n",
        "  std = statistics.stdev(input.iloc[:,0])\n",
        "  #print(input.iloc[:,0], '\\n')\n",
        "  print('mean\\t', round(mean,3))\n",
        "  print('median\\t', round(median,3))\n",
        "  print('min\\t', round(min,3))\n",
        "  print('max\\t', round(max,3))\n",
        "  print('std\\t', round(std,3))"
      ],
      "execution_count": null,
      "outputs": []
    },
    {
      "cell_type": "code",
      "metadata": {
        "colab": {
          "base_uri": "https://localhost:8080/"
        },
        "id": "3K6-tVVpDcsI",
        "outputId": "2a23921d-2172-43cf-e9eb-0ef0710b6fb8"
      },
      "source": [
        "accuracy(df_RFC_rus)"
      ],
      "execution_count": null,
      "outputs": [
        {
          "output_type": "stream",
          "text": [
            "mean\t 0.61\n",
            "median\t 0.61\n",
            "min\t 0.607\n",
            "max\t 0.613\n",
            "std\t 0.002\n"
          ],
          "name": "stdout"
        }
      ]
    },
    {
      "cell_type": "code",
      "metadata": {
        "colab": {
          "base_uri": "https://localhost:8080/"
        },
        "id": "BvCj6EU8Dcaq",
        "outputId": "261e0b9a-9b6a-455e-af5b-f6a2bee95766"
      },
      "source": [
        "accuracy(df_MLP_rus)"
      ],
      "execution_count": null,
      "outputs": [
        {
          "output_type": "stream",
          "text": [
            "mean\t 0.653\n",
            "median\t 0.619\n",
            "min\t 0.606\n",
            "max\t 0.817\n",
            "std\t 0.065\n"
          ],
          "name": "stdout"
        }
      ]
    },
    {
      "cell_type": "code",
      "metadata": {
        "colab": {
          "base_uri": "https://localhost:8080/"
        },
        "id": "qb0YsPyNDcNP",
        "outputId": "6abb5f8a-c82b-427e-fd11-743818ebfa85"
      },
      "source": [
        "accuracy(df_MLP_smote)"
      ],
      "execution_count": null,
      "outputs": [
        {
          "output_type": "stream",
          "text": [
            "mean\t 0.651\n",
            "median\t 0.648\n",
            "min\t 0.64\n",
            "max\t 0.667\n",
            "std\t 0.008\n"
          ],
          "name": "stdout"
        }
      ]
    },
    {
      "cell_type": "code",
      "metadata": {
        "colab": {
          "base_uri": "https://localhost:8080/"
        },
        "id": "Sqp1dJkHCALR",
        "outputId": "3aab367d-33a5-4f3d-a417-b50990ed8426"
      },
      "source": [
        "accuracy(df_MLP_FL)"
      ],
      "execution_count": null,
      "outputs": [
        {
          "output_type": "stream",
          "text": [
            "mean\t 0.797\n",
            "median\t 0.797\n",
            "min\t 0.792\n",
            "max\t 0.804\n",
            "std\t 0.003\n"
          ],
          "name": "stdout"
        }
      ]
    },
    {
      "cell_type": "markdown",
      "metadata": {
        "id": "vHGpT4UDF4dD"
      },
      "source": [
        "# **AUC**"
      ]
    },
    {
      "cell_type": "code",
      "metadata": {
        "id": "MXOVlVYOF4dE"
      },
      "source": [
        "def AUC(input):\n",
        "  mean = statistics.mean(input.iloc[:,3])\n",
        "  min = np.min(input.iloc[:,3])\n",
        "  max = np.max(input.iloc[:,3])\n",
        "  median = statistics.median(input.iloc[:,3])\n",
        "  std = statistics.stdev(input.iloc[:,3])\n",
        "  #print(input.iloc[:,3], '\\n')\n",
        "  print('mean\\t', round(mean,3))\n",
        "  print('median\\t', round(median,3))\n",
        "  print('min\\t', round(min,3))\n",
        "  print('max\\t', round(max,3))\n",
        "  print('std\\t', round(std,3))"
      ],
      "execution_count": null,
      "outputs": []
    },
    {
      "cell_type": "code",
      "metadata": {
        "colab": {
          "base_uri": "https://localhost:8080/"
        },
        "id": "Eiq-DOHJcrGS",
        "outputId": "d4da3b5d-23df-4899-f16b-5d6bfbd7cf85"
      },
      "source": [
        "AUC(df_RFC_rus)"
      ],
      "execution_count": null,
      "outputs": [
        {
          "output_type": "stream",
          "text": [
            "mean\t 0.612\n",
            "median\t 0.612\n",
            "min\t 0.611\n",
            "max\t 0.613\n",
            "std\t 0.001\n"
          ],
          "name": "stdout"
        }
      ]
    },
    {
      "cell_type": "code",
      "metadata": {
        "colab": {
          "base_uri": "https://localhost:8080/"
        },
        "id": "peiBsvXIcrGT",
        "outputId": "7746d8d2-6546-45ff-eba8-518100f60046"
      },
      "source": [
        "AUC(df_MLP_rus)"
      ],
      "execution_count": null,
      "outputs": [
        {
          "output_type": "stream",
          "text": [
            "mean\t 0.629\n",
            "median\t 0.641\n",
            "min\t 0.584\n",
            "max\t 0.658\n",
            "std\t 0.024\n"
          ],
          "name": "stdout"
        }
      ]
    },
    {
      "cell_type": "code",
      "metadata": {
        "colab": {
          "base_uri": "https://localhost:8080/"
        },
        "id": "vV5hI-nscrGU",
        "outputId": "cc9c7147-7b7f-4037-9688-5c9389d06a48"
      },
      "source": [
        "AUC(df_MLP_smote)"
      ],
      "execution_count": null,
      "outputs": [
        {
          "output_type": "stream",
          "text": [
            "mean\t 0.634\n",
            "median\t 0.634\n",
            "min\t 0.632\n",
            "max\t 0.637\n",
            "std\t 0.001\n"
          ],
          "name": "stdout"
        }
      ]
    },
    {
      "cell_type": "code",
      "metadata": {
        "colab": {
          "base_uri": "https://localhost:8080/"
        },
        "id": "eRCnk9h1crGU",
        "outputId": "020ea0a0-0ed8-41b7-905a-0072f199a5c5"
      },
      "source": [
        "AUC(df_MLP_FL)"
      ],
      "execution_count": null,
      "outputs": [
        {
          "output_type": "stream",
          "text": [
            "mean\t 0.661\n",
            "median\t 0.661\n",
            "min\t 0.659\n",
            "max\t 0.662\n",
            "std\t 0.001\n"
          ],
          "name": "stdout"
        }
      ]
    },
    {
      "cell_type": "markdown",
      "metadata": {
        "id": "VS1kN1hOFuLU"
      },
      "source": [
        "# **F1**"
      ]
    },
    {
      "cell_type": "code",
      "metadata": {
        "id": "4lCx0txTFsD7"
      },
      "source": [
        "def F1(input):\n",
        "  mean = statistics.mean(input.iloc[:,1])\n",
        "  min = np.min(input.iloc[:,1])\n",
        "  max = np.max(input.iloc[:,1])\n",
        "  median = statistics.median(input.iloc[:,1])\n",
        "  std = statistics.stdev(input.iloc[:,1])\n",
        "  #print(input.iloc[:,1], '\\n')\n",
        "  print('mean\\t', round(mean,3))\n",
        "  print('median\\t', round(median,3))\n",
        "  print('min\\t', round(min,3))\n",
        "  print('max\\t', round(max,3))\n",
        "  print('std\\t', round(std,3))"
      ],
      "execution_count": null,
      "outputs": []
    },
    {
      "cell_type": "code",
      "metadata": {
        "colab": {
          "base_uri": "https://localhost:8080/"
        },
        "id": "aC24n9oXcoOT",
        "outputId": "67a9c34c-7ce3-452e-ee59-56679a02fd27"
      },
      "source": [
        "F1(df_RFC_rus)"
      ],
      "execution_count": null,
      "outputs": [
        {
          "output_type": "stream",
          "text": [
            "mean\t 0.723\n",
            "median\t 0.723\n",
            "min\t 0.72\n",
            "max\t 0.726\n",
            "std\t 0.002\n"
          ],
          "name": "stdout"
        }
      ]
    },
    {
      "cell_type": "code",
      "metadata": {
        "colab": {
          "base_uri": "https://localhost:8080/"
        },
        "id": "nlERU2-3coOY",
        "outputId": "f282034b-0d39-464b-def8-303d7d73be4d"
      },
      "source": [
        "F1(df_MLP_rus)"
      ],
      "execution_count": null,
      "outputs": [
        {
          "output_type": "stream",
          "text": [
            "mean\t 0.736\n",
            "median\t 0.747\n",
            "min\t 0.7\n",
            "max\t 0.76\n",
            "std\t 0.019\n"
          ],
          "name": "stdout"
        }
      ]
    },
    {
      "cell_type": "code",
      "metadata": {
        "colab": {
          "base_uri": "https://localhost:8080/"
        },
        "id": "UprRABPycoOY",
        "outputId": "b07a6db8-c3a2-4fc8-813c-3982e9c941f9"
      },
      "source": [
        "F1(df_MLP_smote)"
      ],
      "execution_count": null,
      "outputs": [
        {
          "output_type": "stream",
          "text": [
            "mean\t 0.741\n",
            "median\t 0.741\n",
            "min\t 0.739\n",
            "max\t 0.743\n",
            "std\t 0.001\n"
          ],
          "name": "stdout"
        }
      ]
    },
    {
      "cell_type": "code",
      "metadata": {
        "colab": {
          "base_uri": "https://localhost:8080/"
        },
        "id": "i6VIi6w5coOZ",
        "outputId": "5903fc13-a12d-4bf6-c08d-f369d9a65496"
      },
      "source": [
        "F1(df_MLP_FL)"
      ],
      "execution_count": null,
      "outputs": [
        {
          "output_type": "stream",
          "text": [
            "mean\t 0.763\n",
            "median\t 0.763\n",
            "min\t 0.762\n",
            "max\t 0.764\n",
            "std\t 0.001\n"
          ],
          "name": "stdout"
        }
      ]
    },
    {
      "cell_type": "markdown",
      "metadata": {
        "id": "EFW4DB-eGCgx"
      },
      "source": [
        "# **Specificity**"
      ]
    },
    {
      "cell_type": "code",
      "metadata": {
        "id": "fDh8UD70GCgy"
      },
      "source": [
        "def specificity(input):\n",
        "  mean = statistics.mean(input.iloc[:,2])\n",
        "  min = np.min(input.iloc[:,2])\n",
        "  max = np.max(input.iloc[:,2])\n",
        "  median = statistics.median(input.iloc[:,2])\n",
        "  std = statistics.stdev(input.iloc[:,2])\n",
        "  #print(input.iloc[:,2], '\\n')\n",
        "  print('mean\\t', round(mean,3))\n",
        "  print('median\\t', round(median,3))\n",
        "  print('min\\t', round(min,3))\n",
        "  print('max\\t', round(max,3))\n",
        "  print('std\\t', round(std,3))"
      ],
      "execution_count": null,
      "outputs": []
    },
    {
      "cell_type": "code",
      "metadata": {
        "colab": {
          "base_uri": "https://localhost:8080/"
        },
        "id": "izY2XtEJcypE",
        "outputId": "b5108e06-ea89-47e0-b110-95f1d4b994c5"
      },
      "source": [
        "specificity(df_RFC_rus)"
      ],
      "execution_count": null,
      "outputs": [
        {
          "output_type": "stream",
          "text": [
            "mean\t 0.615\n",
            "median\t 0.616\n",
            "min\t 0.611\n",
            "max\t 0.618\n",
            "std\t 0.002\n"
          ],
          "name": "stdout"
        }
      ]
    },
    {
      "cell_type": "code",
      "metadata": {
        "colab": {
          "base_uri": "https://localhost:8080/"
        },
        "id": "_S3uOzmIcypF",
        "outputId": "945607fb-3bd4-4778-a30f-2860fa0ab1e0"
      },
      "source": [
        "specificity(df_MLP_rus)"
      ],
      "execution_count": null,
      "outputs": [
        {
          "output_type": "stream",
          "text": [
            "mean\t 0.484\n",
            "median\t 0.58\n",
            "min\t 0.082\n",
            "max\t 0.614\n",
            "std\t 0.159\n"
          ],
          "name": "stdout"
        }
      ]
    },
    {
      "cell_type": "code",
      "metadata": {
        "colab": {
          "base_uri": "https://localhost:8080/"
        },
        "id": "zCNAyX7tcypG",
        "outputId": "71bf6ab5-8a3b-4928-c046-af2603e665ad"
      },
      "source": [
        "specificity(df_MLP_smote)"
      ],
      "execution_count": null,
      "outputs": [
        {
          "output_type": "stream",
          "text": [
            "mean\t 0.506\n",
            "median\t 0.511\n",
            "min\t 0.483\n",
            "max\t 0.522\n",
            "std\t 0.012\n"
          ],
          "name": "stdout"
        }
      ]
    },
    {
      "cell_type": "code",
      "metadata": {
        "colab": {
          "base_uri": "https://localhost:8080/"
        },
        "id": "2DUIwfhscypG",
        "outputId": "62b4f351-3747-446b-fdfd-463c7f1133c7"
      },
      "source": [
        "specificity(df_MLP_FL)"
      ],
      "execution_count": null,
      "outputs": [
        {
          "output_type": "stream",
          "text": [
            "mean\t 0.237\n",
            "median\t 0.233\n",
            "min\t 0.215\n",
            "max\t 0.252\n",
            "std\t 0.011\n"
          ],
          "name": "stdout"
        }
      ]
    }
  ]
}